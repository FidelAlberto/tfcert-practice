{
  "nbformat": 4,
  "nbformat_minor": 0,
  "metadata": {
    "colab": {
      "name": "IMG_HorseVsPeople_TFHub.ipynb",
      "provenance": [],
      "authorship_tag": "ABX9TyNRN6xnuzaIQ7BAJOyqd7Tw",
      "include_colab_link": true
    },
    "kernelspec": {
      "name": "python3",
      "display_name": "Python 3"
    },
    "accelerator": "GPU"
  },
  "cells": [
    {
      "cell_type": "markdown",
      "metadata": {
        "id": "view-in-github",
        "colab_type": "text"
      },
      "source": [
        "<a href=\"https://colab.research.google.com/github/btcnhung1299/tf-practice/blob/master/IMG_HorseVsPeople_TFHub.ipynb\" target=\"_parent\"><img src=\"https://colab.research.google.com/assets/colab-badge.svg\" alt=\"Open In Colab\"/></a>"
      ]
    },
    {
      "cell_type": "markdown",
      "metadata": {
        "id": "zBNuWa8qCHy_",
        "colab_type": "text"
      },
      "source": [
        "## Data gathering"
      ]
    },
    {
      "cell_type": "code",
      "metadata": {
        "id": "k9gBz5uxjCOi",
        "colab_type": "code",
        "colab": {}
      },
      "source": [
        "import tensorflow as tf\n",
        "import tensorflow_hub as hub\n",
        "from tensorflow.keras.preprocessing.image import ImageDataGenerator"
      ],
      "execution_count": 1,
      "outputs": []
    },
    {
      "cell_type": "code",
      "metadata": {
        "id": "LDIu6g8g_wwj",
        "colab_type": "code",
        "colab": {}
      },
      "source": [
        "TRAIN_DIR = \"./train_data\"\n",
        "VAL_DIR = \"./val_data\"\n",
        "!wget -q https://storage.googleapis.com/laurencemoroney-blog.appspot.com/horse-or-human.zip\n",
        "!wget -q https://storage.googleapis.com/laurencemoroney-blog.appspot.com/validation-horse-or-human.zip\n",
        "!unzip -q horse-or-human.zip -d $TRAIN_DIR\n",
        "!unzip -q validation-horse-or-human -d $VAL_DIR"
      ],
      "execution_count": 2,
      "outputs": []
    },
    {
      "cell_type": "code",
      "metadata": {
        "id": "EacJ7PN7BC-h",
        "colab_type": "code",
        "colab": {
          "base_uri": "https://localhost:8080/",
          "height": 50
        },
        "outputId": "7f8644ce-6e2e-4785-937e-935537d1df9c"
      },
      "source": [
        "BATCH_SIZE = 64\n",
        "raw_shape = (300, 300, 3)\n",
        "\n",
        "ds_train = ImageDataGenerator(rescale=1./255).flow_from_directory(\n",
        "    directory=TRAIN_DIR,\n",
        "    class_mode=\"binary\",\n",
        "    batch_size=BATCH_SIZE\n",
        ")\n",
        "ds_val = ImageDataGenerator(rescale=1./255).flow_from_directory(\n",
        "    directory=VAL_DIR,\n",
        "    class_mode=\"binary\",\n",
        "    batch_size=BATCH_SIZE\n",
        ")"
      ],
      "execution_count": 3,
      "outputs": [
        {
          "output_type": "stream",
          "text": [
            "Found 1027 images belonging to 2 classes.\n",
            "Found 256 images belonging to 2 classes.\n"
          ],
          "name": "stdout"
        }
      ]
    },
    {
      "cell_type": "markdown",
      "metadata": {
        "id": "qe8CyjJUphSS",
        "colab_type": "text"
      },
      "source": [
        "## Transfer learning"
      ]
    },
    {
      "cell_type": "code",
      "metadata": {
        "id": "hvDjlbMtpkEk",
        "colab_type": "code",
        "colab": {}
      },
      "source": [
        "from tensorflow.keras.models import Sequential\n",
        "from tensorflow.keras.layers import Dense\n",
        "from tensorflow.keras.layers.experimental.preprocessing import Resizing"
      ],
      "execution_count": 4,
      "outputs": []
    },
    {
      "cell_type": "markdown",
      "metadata": {
        "id": "-S9zl_ImCKcu",
        "colab_type": "text"
      },
      "source": [
        "### ResNet-50"
      ]
    },
    {
      "cell_type": "markdown",
      "metadata": {
        "id": "KIUft6oPpLRb",
        "colab_type": "text"
      },
      "source": [
        "The default size of input image is 224 x 224, but not fixed."
      ]
    },
    {
      "cell_type": "code",
      "metadata": {
        "id": "aM_azscBid1g",
        "colab_type": "code",
        "colab": {
          "base_uri": "https://localhost:8080/",
          "height": 250
        },
        "outputId": "b7bbf1ed-ebfe-4e1c-f539-5a48cfc31630"
      },
      "source": [
        "resnet_url = \"https://tfhub.dev/google/imagenet/resnet_v2_50/feature_vector/4\" \n",
        "\n",
        "resnet = Sequential()\n",
        "resnet.add(Resizing(150, 150, input_shape=raw_shape))\n",
        "resnet.add(hub.KerasLayer(resnet_url, trainable=False))\n",
        "resnet.add(Dense(1, activation=\"sigmoid\"))\n",
        "resnet.summary()"
      ],
      "execution_count": 5,
      "outputs": [
        {
          "output_type": "stream",
          "text": [
            "Model: \"sequential\"\n",
            "_________________________________________________________________\n",
            "Layer (type)                 Output Shape              Param #   \n",
            "=================================================================\n",
            "resizing (Resizing)          (None, 150, 150, 3)       0         \n",
            "_________________________________________________________________\n",
            "keras_layer (KerasLayer)     (None, 2048)              23564800  \n",
            "_________________________________________________________________\n",
            "dense (Dense)                (None, 1)                 2049      \n",
            "=================================================================\n",
            "Total params: 23,566,849\n",
            "Trainable params: 2,049\n",
            "Non-trainable params: 23,564,800\n",
            "_________________________________________________________________\n"
          ],
          "name": "stdout"
        }
      ]
    },
    {
      "cell_type": "code",
      "metadata": {
        "id": "zuA0w5XMiuEC",
        "colab_type": "code",
        "colab": {}
      },
      "source": [
        "resnet.compile(optimizer=\"adam\", loss=\"binary_crossentropy\", metrics=[\"acc\"])"
      ],
      "execution_count": 6,
      "outputs": []
    },
    {
      "cell_type": "code",
      "metadata": {
        "id": "qC8-YKoHi7A-",
        "colab_type": "code",
        "colab": {
          "base_uri": "https://localhost:8080/",
          "height": 350
        },
        "outputId": "a8188a10-b993-45ff-bb47-35d832101dc8"
      },
      "source": [
        "resnet_history = resnet.fit(ds_train, epochs=10, validation_data=ds_val)"
      ],
      "execution_count": 7,
      "outputs": [
        {
          "output_type": "stream",
          "text": [
            "Epoch 1/10\n",
            "17/17 [==============================] - 9s 537ms/step - loss: 0.3171 - acc: 0.8549 - val_loss: 0.0547 - val_acc: 1.0000\n",
            "Epoch 2/10\n",
            "17/17 [==============================] - 8s 482ms/step - loss: 0.0193 - acc: 0.9981 - val_loss: 0.0198 - val_acc: 1.0000\n",
            "Epoch 3/10\n",
            "17/17 [==============================] - 8s 480ms/step - loss: 0.0091 - acc: 0.9990 - val_loss: 0.0120 - val_acc: 1.0000\n",
            "Epoch 4/10\n",
            "17/17 [==============================] - 8s 478ms/step - loss: 0.0073 - acc: 0.9981 - val_loss: 0.0098 - val_acc: 1.0000\n",
            "Epoch 5/10\n",
            "17/17 [==============================] - 8s 480ms/step - loss: 0.0057 - acc: 0.9990 - val_loss: 0.0105 - val_acc: 1.0000\n",
            "Epoch 6/10\n",
            "17/17 [==============================] - 8s 478ms/step - loss: 0.0049 - acc: 0.9990 - val_loss: 0.0084 - val_acc: 1.0000\n",
            "Epoch 7/10\n",
            "17/17 [==============================] - 8s 483ms/step - loss: 0.0041 - acc: 1.0000 - val_loss: 0.0077 - val_acc: 1.0000\n",
            "Epoch 8/10\n",
            "17/17 [==============================] - 8s 484ms/step - loss: 0.0036 - acc: 1.0000 - val_loss: 0.0068 - val_acc: 1.0000\n",
            "Epoch 9/10\n",
            "17/17 [==============================] - 8s 473ms/step - loss: 0.0033 - acc: 1.0000 - val_loss: 0.0064 - val_acc: 1.0000\n",
            "Epoch 10/10\n",
            "17/17 [==============================] - 8s 484ms/step - loss: 0.0029 - acc: 1.0000 - val_loss: 0.0058 - val_acc: 1.0000\n"
          ],
          "name": "stdout"
        }
      ]
    },
    {
      "cell_type": "markdown",
      "metadata": {
        "colab_type": "text",
        "id": "0oO7MO3rjxbV"
      },
      "source": [
        "### MobileNetV2"
      ]
    },
    {
      "cell_type": "markdown",
      "metadata": {
        "id": "PTQeK6a7rXxH",
        "colab_type": "text"
      },
      "source": [
        "Size of input image is 224 x 224, fixed."
      ]
    },
    {
      "cell_type": "code",
      "metadata": {
        "colab_type": "code",
        "id": "uzlSZN6tjxba",
        "colab": {
          "base_uri": "https://localhost:8080/",
          "height": 250
        },
        "outputId": "68cee357-39cb-4131-df70-859223f2f651"
      },
      "source": [
        "mobilenet_url = \"https://tfhub.dev/google/tf2-preview/mobilenet_v2/feature_vector/4\" \n",
        "\n",
        "mobilenet = Sequential()\n",
        "mobilenet.add(Resizing(224, 224, input_shape=raw_shape))\n",
        "mobilenet.add(hub.KerasLayer(mobilenet_url, trainable=False))\n",
        "mobilenet.add(Dense(1, activation=\"sigmoid\"))\n",
        "mobilenet.summary()"
      ],
      "execution_count": 8,
      "outputs": [
        {
          "output_type": "stream",
          "text": [
            "Model: \"sequential_1\"\n",
            "_________________________________________________________________\n",
            "Layer (type)                 Output Shape              Param #   \n",
            "=================================================================\n",
            "resizing_1 (Resizing)        (None, 224, 224, 3)       0         \n",
            "_________________________________________________________________\n",
            "keras_layer_1 (KerasLayer)   (None, 1280)              2257984   \n",
            "_________________________________________________________________\n",
            "dense_1 (Dense)              (None, 1)                 1281      \n",
            "=================================================================\n",
            "Total params: 2,259,265\n",
            "Trainable params: 1,281\n",
            "Non-trainable params: 2,257,984\n",
            "_________________________________________________________________\n"
          ],
          "name": "stdout"
        }
      ]
    },
    {
      "cell_type": "code",
      "metadata": {
        "colab_type": "code",
        "id": "_O5DaFwWjxbq",
        "colab": {}
      },
      "source": [
        "mobilenet.compile(optimizer=\"adam\", loss=\"binary_crossentropy\", metrics=[\"acc\"])"
      ],
      "execution_count": 9,
      "outputs": []
    },
    {
      "cell_type": "code",
      "metadata": {
        "colab_type": "code",
        "id": "Xjf5xe9Djxbz",
        "colab": {
          "base_uri": "https://localhost:8080/",
          "height": 350
        },
        "outputId": "b5b1df01-2b5b-4e6f-bd08-53cc3f780dd9"
      },
      "source": [
        "mobilenet_history = mobilenet.fit(ds_train, epochs=10, validation_data=ds_val)"
      ],
      "execution_count": 10,
      "outputs": [
        {
          "output_type": "stream",
          "text": [
            "Epoch 1/10\n",
            "17/17 [==============================] - 8s 493ms/step - loss: 0.3416 - acc: 0.8851 - val_loss: 0.1609 - val_acc: 0.9883\n",
            "Epoch 2/10\n",
            "17/17 [==============================] - 8s 466ms/step - loss: 0.0693 - acc: 0.9971 - val_loss: 0.0707 - val_acc: 0.9961\n",
            "Epoch 3/10\n",
            "17/17 [==============================] - 8s 463ms/step - loss: 0.0358 - acc: 0.9971 - val_loss: 0.0496 - val_acc: 0.9961\n",
            "Epoch 4/10\n",
            "17/17 [==============================] - 8s 462ms/step - loss: 0.0258 - acc: 0.9971 - val_loss: 0.0436 - val_acc: 0.9961\n",
            "Epoch 5/10\n",
            "17/17 [==============================] - 8s 465ms/step - loss: 0.0209 - acc: 0.9971 - val_loss: 0.0318 - val_acc: 0.9961\n",
            "Epoch 6/10\n",
            "17/17 [==============================] - 8s 462ms/step - loss: 0.0170 - acc: 0.9971 - val_loss: 0.0301 - val_acc: 0.9961\n",
            "Epoch 7/10\n",
            "17/17 [==============================] - 8s 458ms/step - loss: 0.0145 - acc: 0.9971 - val_loss: 0.0277 - val_acc: 0.9961\n",
            "Epoch 8/10\n",
            "17/17 [==============================] - 8s 456ms/step - loss: 0.0125 - acc: 0.9981 - val_loss: 0.0252 - val_acc: 0.9961\n",
            "Epoch 9/10\n",
            "17/17 [==============================] - 8s 461ms/step - loss: 0.0109 - acc: 0.9981 - val_loss: 0.0238 - val_acc: 0.9961\n",
            "Epoch 10/10\n",
            "17/17 [==============================] - 8s 462ms/step - loss: 0.0096 - acc: 0.9981 - val_loss: 0.0188 - val_acc: 0.9961\n"
          ],
          "name": "stdout"
        }
      ]
    }
  ]
}