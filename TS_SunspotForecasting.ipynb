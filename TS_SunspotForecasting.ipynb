{
  "nbformat": 4,
  "nbformat_minor": 0,
  "metadata": {
    "colab": {
      "name": "TS_SunspotForecasting.ipynb",
      "provenance": [],
      "authorship_tag": "ABX9TyOdpqZlDXiM9Qu8kO6NAayB",
      "include_colab_link": true
    },
    "kernelspec": {
      "name": "python3",
      "display_name": "Python 3"
    },
    "accelerator": "GPU"
  },
  "cells": [
    {
      "cell_type": "markdown",
      "metadata": {
        "id": "view-in-github",
        "colab_type": "text"
      },
      "source": [
        "<a href=\"https://colab.research.google.com/github/btcnhung1299/tf-practice/blob/master/TS_SunspotForecasting.ipynb\" target=\"_parent\"><img src=\"https://colab.research.google.com/assets/colab-badge.svg\" alt=\"Open In Colab\"/></a>"
      ]
    },
    {
      "cell_type": "code",
      "metadata": {
        "id": "c325r7XdVSwx",
        "outputId": "e6c1683a-ecd0-4e80-8728-41ec5e2b621c",
        "colab": {
          "base_uri": "https://localhost:8080/",
          "height": 204
        }
      },
      "source": [
        "!wget https://storage.googleapis.com/laurencemoroney-blog.appspot.com/Sunspots.csv"
      ],
      "execution_count": 1,
      "outputs": [
        {
          "output_type": "stream",
          "text": [
            "--2020-09-29 06:53:46--  https://storage.googleapis.com/laurencemoroney-blog.appspot.com/Sunspots.csv\n",
            "Resolving storage.googleapis.com (storage.googleapis.com)... 108.177.119.128, 108.177.126.128, 108.177.127.128, ...\n",
            "Connecting to storage.googleapis.com (storage.googleapis.com)|108.177.119.128|:443... connected.\n",
            "HTTP request sent, awaiting response... 200 OK\n",
            "Length: 70827 (69K) [application/octet-stream]\n",
            "Saving to: ‘Sunspots.csv’\n",
            "\n",
            "Sunspots.csv        100%[===================>]  69.17K  --.-KB/s    in 0.001s  \n",
            "\n",
            "2020-09-29 06:53:47 (102 MB/s) - ‘Sunspots.csv’ saved [70827/70827]\n",
            "\n"
          ],
          "name": "stdout"
        }
      ]
    },
    {
      "cell_type": "code",
      "metadata": {
        "id": "WGGEklBJVWFR",
        "outputId": "d1456eed-ec5b-4ecc-d205-be727ac3cbab",
        "colab": {
          "base_uri": "https://localhost:8080/",
          "height": 51
        }
      },
      "source": [
        "import pandas as pd\n",
        "import datetime\n",
        "import seaborn as sns\n",
        "import matplotlib.pyplot as plt\n",
        "import tensorflow as tf\n",
        "import numpy as np"
      ],
      "execution_count": 2,
      "outputs": [
        {
          "output_type": "stream",
          "text": [
            "/usr/local/lib/python3.6/dist-packages/statsmodels/tools/_testing.py:19: FutureWarning: pandas.util.testing is deprecated. Use the functions in the public API at pandas.testing instead.\n",
            "  import pandas.util.testing as tm\n"
          ],
          "name": "stderr"
        }
      ]
    },
    {
      "cell_type": "code",
      "metadata": {
        "id": "-tST9MRUVZUr",
        "outputId": "cd1869cd-8da7-464a-8d58-f27c3dc7eb65",
        "colab": {
          "base_uri": "https://localhost:8080/",
          "height": 204
        }
      },
      "source": [
        "df = pd.read_csv(\"Sunspots.csv\", index_col=0)\n",
        "df.head()"
      ],
      "execution_count": 3,
      "outputs": [
        {
          "output_type": "execute_result",
          "data": {
            "text/html": [
              "<div>\n",
              "<style scoped>\n",
              "    .dataframe tbody tr th:only-of-type {\n",
              "        vertical-align: middle;\n",
              "    }\n",
              "\n",
              "    .dataframe tbody tr th {\n",
              "        vertical-align: top;\n",
              "    }\n",
              "\n",
              "    .dataframe thead th {\n",
              "        text-align: right;\n",
              "    }\n",
              "</style>\n",
              "<table border=\"1\" class=\"dataframe\">\n",
              "  <thead>\n",
              "    <tr style=\"text-align: right;\">\n",
              "      <th></th>\n",
              "      <th>Date</th>\n",
              "      <th>Monthly Mean Total Sunspot Number</th>\n",
              "    </tr>\n",
              "  </thead>\n",
              "  <tbody>\n",
              "    <tr>\n",
              "      <th>0</th>\n",
              "      <td>1749-01-31</td>\n",
              "      <td>96.7</td>\n",
              "    </tr>\n",
              "    <tr>\n",
              "      <th>1</th>\n",
              "      <td>1749-02-28</td>\n",
              "      <td>104.3</td>\n",
              "    </tr>\n",
              "    <tr>\n",
              "      <th>2</th>\n",
              "      <td>1749-03-31</td>\n",
              "      <td>116.7</td>\n",
              "    </tr>\n",
              "    <tr>\n",
              "      <th>3</th>\n",
              "      <td>1749-04-30</td>\n",
              "      <td>92.8</td>\n",
              "    </tr>\n",
              "    <tr>\n",
              "      <th>4</th>\n",
              "      <td>1749-05-31</td>\n",
              "      <td>141.7</td>\n",
              "    </tr>\n",
              "  </tbody>\n",
              "</table>\n",
              "</div>"
            ],
            "text/plain": [
              "         Date  Monthly Mean Total Sunspot Number\n",
              "0  1749-01-31                               96.7\n",
              "1  1749-02-28                              104.3\n",
              "2  1749-03-31                              116.7\n",
              "3  1749-04-30                               92.8\n",
              "4  1749-05-31                              141.7"
            ]
          },
          "metadata": {
            "tags": []
          },
          "execution_count": 3
        }
      ]
    },
    {
      "cell_type": "code",
      "metadata": {
        "id": "mMtge8KOV80e",
        "outputId": "775b81f3-07a2-47ba-db46-4b8d243bc572",
        "colab": {
          "base_uri": "https://localhost:8080/",
          "height": 282
        }
      },
      "source": [
        "fig = plt.figure(figsize=(5, 6));\n",
        "df.plot();"
      ],
      "execution_count": 4,
      "outputs": [
        {
          "output_type": "display_data",
          "data": {
            "text/plain": [
              "<Figure size 360x432 with 0 Axes>"
            ]
          },
          "metadata": {
            "tags": []
          }
        },
        {
          "output_type": "display_data",
          "data": {
            "image/png": "[encoded data removed]",
            "text/plain": [
              "<Figure size 432x288 with 1 Axes>"
            ]
          },
          "metadata": {
            "tags": [],
            "needs_background": "light"
          }
        }
      ]
    },
    {
      "cell_type": "code",
      "metadata": {
        "id": "bsFkofB_R9cj"
      },
      "source": [
        "data = df[\"Monthly Mean Total Sunspot Number\"]"
      ],
      "execution_count": 5,
      "outputs": []
    },
    {
      "cell_type": "markdown",
      "metadata": {
        "id": "ycVWQrewXeSd"
      },
      "source": [
        "### Multi-output forecasting w. single step model\n",
        "\n",
        "Predict multiple next values at once."
      ]
    },
    {
      "cell_type": "code",
      "metadata": {
        "id": "CCpRi5VqZtCo"
      },
      "source": [
        "BUFFER_SIZE = 2048\n",
        "WINDOW_SIZE = 60\n",
        "\n",
        "samples = tf.data.Dataset.from_tensor_slices(data)\n",
        "samples = samples.window(size=WINDOW_SIZE + 1, shift=1, drop_remainder=True).flat_map(lambda w : w.batch(WINDOW_SIZE + 1))\n",
        "samples = samples.map(lambda x : (tf.expand_dims(x[:-1], axis=-1), x[1:]))\n",
        "samples = samples.shuffle(BUFFER_SIZE)"
      ],
      "execution_count": 6,
      "outputs": []
    },
    {
      "cell_type": "code",
      "metadata": {
        "id": "sNCQqepgYEwH",
        "outputId": "ac869869-ce86-4236-ec96-830c411454bf",
        "colab": {
          "base_uri": "https://localhost:8080/",
          "height": 51
        }
      },
      "source": [
        "BATCH_SIZE = 64\n",
        "\n",
        "test_size = 0.2\n",
        "num_samples = sum(1 for x in samples)\n",
        "num_train_samples = int((1 - test_size) * num_samples)\n",
        "print(\"Number of training samples:\", num_train_samples)\n",
        "print(\"Number of validation samples:\", num_samples - num_train_samples)\n",
        "ds_train = samples.take(num_train_samples).batch(BATCH_SIZE)\n",
        "ds_val = samples.skip(num_train_samples).batch(BATCH_SIZE)"
      ],
      "execution_count": 7,
      "outputs": [
        {
          "output_type": "stream",
          "text": [
            "Number of training samples: 2540\n",
            "Number of validation samples: 635\n"
          ],
          "name": "stdout"
        }
      ]
    },
    {
      "cell_type": "code",
      "metadata": {
        "id": "nikY50feG6wQ"
      },
      "source": [
        "from tensorflow.keras.models import Sequential\n",
        "from tensorflow.keras.layers import Conv1D, LSTM, Dense"
      ],
      "execution_count": 8,
      "outputs": []
    },
    {
      "cell_type": "code",
      "metadata": {
        "id": "tpjvXuJ-HGCc"
      },
      "source": [
        "model = Sequential()\n",
        "model.add(Conv1D(filters=32, kernel_size=5, strides=1, padding=\"causal\", activation=\"relu\", input_shape=[WINDOW_SIZE, 1]))\n",
        "model.add(LSTM(128, return_sequences=True))\n",
        "model.add(LSTM(64, return_sequences=True))\n",
        "model.add(Dense(32, activation=\"relu\"))\n",
        "model.add(Dense(16, activation=\"relu\"))\n",
        "model.add(Dense(1))"
      ],
      "execution_count": 9,
      "outputs": []
    },
    {
      "cell_type": "code",
      "metadata": {
        "id": "_5rtTI9THbnK",
        "outputId": "eaf7222a-4313-4631-92a1-97e974863b97",
        "colab": {
          "base_uri": "https://localhost:8080/",
          "height": 357
        }
      },
      "source": [
        "model.compile(optimizer=\"rmsprop\", loss=\"huber\", metrics=[\"mae\", \"mse\"])\n",
        "model.summary()"
      ],
      "execution_count": 10,
      "outputs": [
        {
          "output_type": "stream",
          "text": [
            "Model: \"sequential\"\n",
            "_________________________________________________________________\n",
            "Layer (type)                 Output Shape              Param #   \n",
            "=================================================================\n",
            "conv1d (Conv1D)              (None, 60, 32)            192       \n",
            "_________________________________________________________________\n",
            "lstm (LSTM)                  (None, 60, 128)           82432     \n",
            "_________________________________________________________________\n",
            "lstm_1 (LSTM)                (None, 60, 64)            49408     \n",
            "_________________________________________________________________\n",
            "dense (Dense)                (None, 60, 32)            2080      \n",
            "_________________________________________________________________\n",
            "dense_1 (Dense)              (None, 60, 16)            528       \n",
            "_________________________________________________________________\n",
            "dense_2 (Dense)              (None, 60, 1)             17        \n",
            "=================================================================\n",
            "Total params: 134,657\n",
            "Trainable params: 134,657\n",
            "Non-trainable params: 0\n",
            "_________________________________________________________________\n"
          ],
          "name": "stdout"
        }
      ]
    },
    {
      "cell_type": "code",
      "metadata": {
        "id": "U71lEEfcHq3w",
        "outputId": "7327fdb7-d40b-48db-9526-1911105bcef0",
        "colab": {
          "base_uri": "https://localhost:8080/",
          "height": 1000
        }
      },
      "source": [
        "model.fit(ds_train, epochs=200, validation_data=ds_val);"
      ],
      "execution_count": 11,
      "outputs": [
        {
          "output_type": "stream",
          "text": [
            "Epoch 1/200\n",
            "40/40 [==============================] - 2s 38ms/step - loss: 74.8199 - mae: 75.3154 - mse: 10170.8545 - val_loss: 71.2641 - val_mae: 71.7585 - val_mse: 9594.6924\n",
            "Epoch 2/200\n",
            "40/40 [==============================] - 1s 21ms/step - loss: 64.1743 - mae: 64.6671 - mse: 8197.7725 - val_loss: 60.0629 - val_mae: 60.5551 - val_mse: 7442.7725\n",
            "Epoch 3/200\n",
            "40/40 [==============================] - 1s 21ms/step - loss: 52.9019 - mae: 53.3939 - mse: 6218.4321 - val_loss: 45.4100 - val_mae: 45.9013 - val_mse: 4952.1821\n",
            "Epoch 4/200\n",
            "40/40 [==============================] - 1s 21ms/step - loss: 40.4742 - mae: 40.9655 - mse: 4173.0151 - val_loss: 35.0134 - val_mae: 35.5013 - val_mse: 3330.5583\n",
            "Epoch 5/200\n",
            "40/40 [==============================] - 1s 21ms/step - loss: 31.3930 - mae: 31.8833 - mse: 2676.7424 - val_loss: 28.4517 - val_mae: 28.9410 - val_mse: 2205.3708\n",
            "Epoch 6/200\n",
            "40/40 [==============================] - 1s 21ms/step - loss: 24.4700 - mae: 24.9591 - mse: 1596.3245 - val_loss: 22.9746 - val_mae: 23.4645 - val_mse: 1383.3651\n",
            "Epoch 7/200\n",
            "40/40 [==============================] - 1s 26ms/step - loss: 20.7809 - mae: 21.2695 - mse: 1078.7603 - val_loss: 19.6794 - val_mae: 20.1670 - val_mse: 953.1767\n",
            "Epoch 8/200\n",
            "40/40 [==============================] - 1s 20ms/step - loss: 18.8921 - mae: 19.3805 - mse: 843.9150 - val_loss: 17.3997 - val_mae: 17.8860 - val_mse: 715.7953\n",
            "Epoch 9/200\n",
            "40/40 [==============================] - 1s 21ms/step - loss: 18.0194 - mae: 18.5067 - mse: 755.6501 - val_loss: 17.4863 - val_mae: 17.9717 - val_mse: 726.1508\n",
            "Epoch 10/200\n",
            "40/40 [==============================] - 1s 21ms/step - loss: 17.4030 - mae: 17.8903 - mse: 695.5193 - val_loss: 17.1416 - val_mae: 17.6279 - val_mse: 688.1831\n",
            "Epoch 11/200\n",
            "40/40 [==============================] - 1s 21ms/step - loss: 16.9741 - mae: 17.4602 - mse: 663.5779 - val_loss: 16.3540 - val_mae: 16.8391 - val_mse: 626.1862\n",
            "Epoch 12/200\n",
            "40/40 [==============================] - 1s 22ms/step - loss: 16.6624 - mae: 17.1484 - mse: 640.0431 - val_loss: 17.2422 - val_mae: 17.7296 - val_mse: 677.7880\n",
            "Epoch 13/200\n",
            "40/40 [==============================] - 1s 21ms/step - loss: 16.3807 - mae: 16.8663 - mse: 623.4056 - val_loss: 15.9950 - val_mae: 16.4811 - val_mse: 609.0710\n",
            "Epoch 14/200\n",
            "40/40 [==============================] - 1s 21ms/step - loss: 16.2567 - mae: 16.7421 - mse: 619.5149 - val_loss: 15.9230 - val_mae: 16.4071 - val_mse: 608.0098\n",
            "Epoch 15/200\n",
            "40/40 [==============================] - 1s 20ms/step - loss: 15.8971 - mae: 16.3821 - mse: 594.4716 - val_loss: 15.8850 - val_mae: 16.3693 - val_mse: 605.1528\n",
            "Epoch 16/200\n",
            "40/40 [==============================] - 1s 20ms/step - loss: 15.5238 - mae: 16.0083 - mse: 577.2635 - val_loss: 15.5909 - val_mae: 16.0739 - val_mse: 598.3517\n",
            "Epoch 17/200\n",
            "40/40 [==============================] - 1s 20ms/step - loss: 15.3505 - mae: 15.8345 - mse: 567.5911 - val_loss: 15.3231 - val_mae: 15.8073 - val_mse: 581.9980\n",
            "Epoch 18/200\n",
            "40/40 [==============================] - 1s 20ms/step - loss: 15.3337 - mae: 15.8175 - mse: 570.5737 - val_loss: 14.7086 - val_mae: 15.1898 - val_mse: 550.4973\n",
            "Epoch 19/200\n",
            "40/40 [==============================] - 1s 21ms/step - loss: 14.7790 - mae: 15.2621 - mse: 536.4913 - val_loss: 14.2275 - val_mae: 14.7086 - val_mse: 512.5162\n",
            "Epoch 20/200\n",
            "40/40 [==============================] - 1s 20ms/step - loss: 14.6356 - mae: 15.1180 - mse: 533.3905 - val_loss: 16.5154 - val_mae: 16.9992 - val_mse: 701.0248\n",
            "Epoch 21/200\n",
            "40/40 [==============================] - 1s 21ms/step - loss: 14.3549 - mae: 14.8369 - mse: 518.9670 - val_loss: 14.2837 - val_mae: 14.7633 - val_mse: 526.1699\n",
            "Epoch 22/200\n",
            "40/40 [==============================] - 1s 20ms/step - loss: 14.1062 - mae: 14.5880 - mse: 504.5698 - val_loss: 13.9394 - val_mae: 14.4214 - val_mse: 492.9485\n",
            "Epoch 23/200\n",
            "40/40 [==============================] - 1s 21ms/step - loss: 13.6711 - mae: 14.1518 - mse: 481.5604 - val_loss: 14.4594 - val_mae: 14.9404 - val_mse: 545.9844\n",
            "Epoch 24/200\n",
            "40/40 [==============================] - 1s 21ms/step - loss: 13.6672 - mae: 14.1479 - mse: 483.2095 - val_loss: 13.5872 - val_mae: 14.0665 - val_mse: 498.7249\n",
            "Epoch 25/200\n",
            "40/40 [==============================] - 1s 20ms/step - loss: 13.4613 - mae: 13.9420 - mse: 472.0043 - val_loss: 13.6379 - val_mae: 14.1167 - val_mse: 504.3188\n",
            "Epoch 26/200\n",
            "40/40 [==============================] - 1s 20ms/step - loss: 13.1835 - mae: 13.6635 - mse: 460.8939 - val_loss: 13.3171 - val_mae: 13.7949 - val_mse: 494.4009\n",
            "Epoch 27/200\n",
            "40/40 [==============================] - 1s 21ms/step - loss: 12.9596 - mae: 13.4393 - mse: 449.1833 - val_loss: 12.7132 - val_mae: 13.1928 - val_mse: 438.4099\n",
            "Epoch 28/200\n",
            "40/40 [==============================] - 1s 20ms/step - loss: 12.7098 - mae: 13.1886 - mse: 435.2879 - val_loss: 12.4363 - val_mae: 12.9143 - val_mse: 432.1319\n",
            "Epoch 29/200\n",
            "40/40 [==============================] - 1s 20ms/step - loss: 12.6400 - mae: 13.1187 - mse: 436.2003 - val_loss: 12.5724 - val_mae: 13.0534 - val_mse: 428.9175\n",
            "Epoch 30/200\n",
            "40/40 [==============================] - 1s 20ms/step - loss: 12.3726 - mae: 12.8506 - mse: 421.9967 - val_loss: 12.7422 - val_mae: 13.2198 - val_mse: 459.5120\n",
            "Epoch 31/200\n",
            "40/40 [==============================] - 1s 21ms/step - loss: 12.2054 - mae: 12.6832 - mse: 414.8311 - val_loss: 12.1049 - val_mae: 12.5828 - val_mse: 419.5088\n",
            "Epoch 32/200\n",
            "40/40 [==============================] - 1s 22ms/step - loss: 12.0855 - mae: 12.5634 - mse: 408.5915 - val_loss: 11.3284 - val_mae: 11.8037 - val_mse: 376.6488\n",
            "Epoch 33/200\n",
            "40/40 [==============================] - 1s 20ms/step - loss: 11.8866 - mae: 12.3637 - mse: 401.0676 - val_loss: 11.7352 - val_mae: 12.2112 - val_mse: 393.1802\n",
            "Epoch 34/200\n",
            "40/40 [==============================] - 1s 20ms/step - loss: 11.6787 - mae: 12.1549 - mse: 390.8287 - val_loss: 12.5866 - val_mae: 13.0643 - val_mse: 446.9817\n",
            "Epoch 35/200\n",
            "40/40 [==============================] - 1s 20ms/step - loss: 11.6229 - mae: 12.0991 - mse: 387.9878 - val_loss: 11.3926 - val_mae: 11.8666 - val_mse: 394.8884\n",
            "Epoch 36/200\n",
            "40/40 [==============================] - 1s 20ms/step - loss: 11.4986 - mae: 11.9748 - mse: 382.5114 - val_loss: 11.5065 - val_mae: 11.9786 - val_mse: 394.0518\n",
            "Epoch 37/200\n",
            "40/40 [==============================] - 1s 21ms/step - loss: 11.3020 - mae: 11.7779 - mse: 373.3874 - val_loss: 11.6744 - val_mae: 12.1486 - val_mse: 411.4692\n",
            "Epoch 38/200\n",
            "40/40 [==============================] - 1s 20ms/step - loss: 11.0509 - mae: 11.5261 - mse: 362.5744 - val_loss: 11.5006 - val_mae: 11.9732 - val_mse: 402.4269\n",
            "Epoch 39/200\n",
            "40/40 [==============================] - 1s 20ms/step - loss: 11.0526 - mae: 11.5275 - mse: 360.2171 - val_loss: 11.2197 - val_mae: 11.6984 - val_mse: 371.9005\n",
            "Epoch 40/200\n",
            "40/40 [==============================] - 1s 20ms/step - loss: 10.8077 - mae: 11.2818 - mse: 350.9031 - val_loss: 11.0402 - val_mae: 11.5128 - val_mse: 366.9212\n",
            "Epoch 41/200\n",
            "40/40 [==============================] - 1s 21ms/step - loss: 10.7505 - mae: 11.2250 - mse: 346.4815 - val_loss: 10.3534 - val_mae: 10.8286 - val_mse: 327.2625\n",
            "Epoch 42/200\n",
            "40/40 [==============================] - 1s 20ms/step - loss: 10.5920 - mae: 11.0647 - mse: 340.2934 - val_loss: 11.2279 - val_mae: 11.7029 - val_mse: 390.5643\n",
            "Epoch 43/200\n",
            "40/40 [==============================] - 1s 19ms/step - loss: 10.5085 - mae: 10.9819 - mse: 336.9426 - val_loss: 10.6907 - val_mae: 11.1661 - val_mse: 344.3826\n",
            "Epoch 44/200\n",
            "40/40 [==============================] - 1s 21ms/step - loss: 10.3523 - mae: 10.8251 - mse: 329.2985 - val_loss: 10.7357 - val_mae: 11.2106 - val_mse: 348.8367\n",
            "Epoch 45/200\n",
            "40/40 [==============================] - 1s 20ms/step - loss: 10.2698 - mae: 10.7427 - mse: 325.6211 - val_loss: 10.5800 - val_mae: 11.0507 - val_mse: 341.4390\n",
            "Epoch 46/200\n",
            "40/40 [==============================] - 1s 20ms/step - loss: 10.1933 - mae: 10.6659 - mse: 321.8728 - val_loss: 10.1710 - val_mae: 10.6388 - val_mse: 315.8948\n",
            "Epoch 47/200\n",
            "40/40 [==============================] - 1s 20ms/step - loss: 9.9275 - mae: 10.3988 - mse: 310.5289 - val_loss: 10.3100 - val_mae: 10.7832 - val_mse: 305.4819\n",
            "Epoch 48/200\n",
            "40/40 [==============================] - 1s 20ms/step - loss: 9.9026 - mae: 10.3744 - mse: 306.9181 - val_loss: 10.2646 - val_mae: 10.7475 - val_mse: 296.1168\n",
            "Epoch 49/200\n",
            "40/40 [==============================] - 1s 20ms/step - loss: 9.7701 - mae: 10.2417 - mse: 300.7924 - val_loss: 9.0862 - val_mae: 9.5603 - val_mse: 265.0374\n",
            "Epoch 50/200\n",
            "40/40 [==============================] - 1s 19ms/step - loss: 9.7305 - mae: 10.2015 - mse: 298.5902 - val_loss: 9.5569 - val_mae: 10.0303 - val_mse: 285.4233\n",
            "Epoch 51/200\n",
            "40/40 [==============================] - 1s 20ms/step - loss: 9.5465 - mae: 10.0169 - mse: 290.9969 - val_loss: 9.2369 - val_mae: 9.7067 - val_mse: 267.4877\n",
            "Epoch 52/200\n",
            "40/40 [==============================] - 1s 20ms/step - loss: 9.4682 - mae: 9.9385 - mse: 286.5073 - val_loss: 9.0150 - val_mae: 9.4853 - val_mse: 252.5544\n",
            "Epoch 53/200\n",
            "40/40 [==============================] - 1s 20ms/step - loss: 9.3300 - mae: 9.7991 - mse: 281.8046 - val_loss: 9.4048 - val_mae: 9.8746 - val_mse: 263.6405\n",
            "Epoch 54/200\n",
            "40/40 [==============================] - 1s 20ms/step - loss: 9.2805 - mae: 9.7499 - mse: 276.8875 - val_loss: 8.3621 - val_mae: 8.8310 - val_mse: 234.3356\n",
            "Epoch 55/200\n",
            "40/40 [==============================] - 1s 22ms/step - loss: 9.2323 - mae: 9.7011 - mse: 276.5180 - val_loss: 8.9326 - val_mae: 9.4099 - val_mse: 246.6346\n",
            "Epoch 56/200\n",
            "40/40 [==============================] - 1s 19ms/step - loss: 9.0513 - mae: 9.5200 - mse: 267.2606 - val_loss: 10.2321 - val_mae: 10.7070 - val_mse: 301.2788\n",
            "Epoch 57/200\n",
            "40/40 [==============================] - 1s 19ms/step - loss: 8.9113 - mae: 9.3788 - mse: 262.0798 - val_loss: 9.4381 - val_mae: 9.9168 - val_mse: 264.8774\n",
            "Epoch 58/200\n",
            "40/40 [==============================] - 1s 19ms/step - loss: 8.9161 - mae: 9.3841 - mse: 261.1185 - val_loss: 9.1345 - val_mae: 9.6071 - val_mse: 254.1845\n",
            "Epoch 59/200\n",
            "40/40 [==============================] - 1s 19ms/step - loss: 8.8756 - mae: 9.3434 - mse: 260.9171 - val_loss: 8.2718 - val_mae: 8.7393 - val_mse: 224.6653\n",
            "Epoch 60/200\n",
            "40/40 [==============================] - 1s 21ms/step - loss: 8.7224 - mae: 9.1899 - mse: 251.6465 - val_loss: 9.7780 - val_mae: 10.2422 - val_mse: 282.3423\n",
            "Epoch 61/200\n",
            "40/40 [==============================] - 1s 20ms/step - loss: 8.6092 - mae: 9.0758 - mse: 247.5442 - val_loss: 8.7339 - val_mae: 9.2041 - val_mse: 235.8411\n",
            "Epoch 62/200\n",
            "40/40 [==============================] - 1s 20ms/step - loss: 8.5844 - mae: 9.0507 - mse: 247.5191 - val_loss: 8.4157 - val_mae: 8.8905 - val_mse: 226.7092\n",
            "Epoch 63/200\n",
            "40/40 [==============================] - 1s 21ms/step - loss: 8.3951 - mae: 8.8613 - mse: 236.6398 - val_loss: 8.6892 - val_mae: 9.1503 - val_mse: 240.6149\n",
            "Epoch 64/200\n",
            "40/40 [==============================] - 1s 21ms/step - loss: 8.3422 - mae: 8.8068 - mse: 237.9782 - val_loss: 8.2376 - val_mae: 8.7027 - val_mse: 234.1003\n",
            "Epoch 65/200\n",
            "40/40 [==============================] - 1s 20ms/step - loss: 8.2645 - mae: 8.7305 - mse: 231.5444 - val_loss: 8.1823 - val_mae: 8.6517 - val_mse: 222.2500\n",
            "Epoch 66/200\n",
            "40/40 [==============================] - 1s 20ms/step - loss: 8.2797 - mae: 8.7449 - mse: 232.6629 - val_loss: 8.4369 - val_mae: 8.9016 - val_mse: 239.8220\n",
            "Epoch 67/200\n",
            "40/40 [==============================] - 1s 22ms/step - loss: 8.0735 - mae: 8.5376 - mse: 224.8867 - val_loss: 7.9758 - val_mae: 8.4353 - val_mse: 215.8071\n",
            "Epoch 68/200\n",
            "40/40 [==============================] - 1s 20ms/step - loss: 8.1299 - mae: 8.5939 - mse: 226.5423 - val_loss: 7.8634 - val_mae: 8.3230 - val_mse: 227.0925\n",
            "Epoch 69/200\n",
            "40/40 [==============================] - 1s 20ms/step - loss: 7.9617 - mae: 8.4255 - mse: 219.4595 - val_loss: 7.3886 - val_mae: 7.8482 - val_mse: 198.9518\n",
            "Epoch 70/200\n",
            "40/40 [==============================] - 1s 21ms/step - loss: 7.8019 - mae: 8.2647 - mse: 213.0527 - val_loss: 7.8062 - val_mae: 8.2747 - val_mse: 202.5320\n",
            "Epoch 71/200\n",
            "40/40 [==============================] - 1s 21ms/step - loss: 7.8938 - mae: 8.3571 - mse: 215.9924 - val_loss: 8.4300 - val_mae: 8.8891 - val_mse: 227.9551\n",
            "Epoch 72/200\n",
            "40/40 [==============================] - 1s 20ms/step - loss: 7.7751 - mae: 8.2386 - mse: 211.0885 - val_loss: 7.3989 - val_mae: 7.8560 - val_mse: 189.3684\n",
            "Epoch 73/200\n",
            "40/40 [==============================] - 1s 22ms/step - loss: 7.8811 - mae: 8.3440 - mse: 216.5067 - val_loss: 7.7438 - val_mae: 8.2068 - val_mse: 202.3703\n",
            "Epoch 74/200\n",
            "40/40 [==============================] - 1s 25ms/step - loss: 7.6910 - mae: 8.1535 - mse: 207.7483 - val_loss: 7.5949 - val_mae: 8.0534 - val_mse: 199.8072\n",
            "Epoch 75/200\n",
            "40/40 [==============================] - 1s 22ms/step - loss: 7.5905 - mae: 8.0517 - mse: 205.4444 - val_loss: 7.7605 - val_mae: 8.2207 - val_mse: 206.2207\n",
            "Epoch 76/200\n",
            "40/40 [==============================] - 1s 21ms/step - loss: 7.5492 - mae: 8.0108 - mse: 202.5512 - val_loss: 7.1556 - val_mae: 7.6141 - val_mse: 187.0186\n",
            "Epoch 77/200\n",
            "40/40 [==============================] - 1s 20ms/step - loss: 7.4783 - mae: 7.9398 - mse: 200.6500 - val_loss: 7.6868 - val_mae: 8.1445 - val_mse: 200.9817\n",
            "Epoch 78/200\n",
            "40/40 [==============================] - 1s 20ms/step - loss: 7.4530 - mae: 7.9141 - mse: 198.8719 - val_loss: 7.8664 - val_mae: 8.3309 - val_mse: 213.9580\n",
            "Epoch 79/200\n",
            "40/40 [==============================] - 1s 20ms/step - loss: 7.3531 - mae: 7.8133 - mse: 196.2162 - val_loss: 8.0693 - val_mae: 8.5374 - val_mse: 222.8024\n",
            "Epoch 80/200\n",
            "40/40 [==============================] - 1s 20ms/step - loss: 7.3036 - mae: 7.7643 - mse: 192.8179 - val_loss: 7.4201 - val_mae: 7.8762 - val_mse: 190.8616\n",
            "Epoch 81/200\n",
            "40/40 [==============================] - 1s 20ms/step - loss: 7.1755 - mae: 7.6357 - mse: 187.4082 - val_loss: 7.6026 - val_mae: 8.0622 - val_mse: 193.2150\n",
            "Epoch 82/200\n",
            "40/40 [==============================] - 1s 22ms/step - loss: 7.2557 - mae: 7.7159 - mse: 191.3691 - val_loss: 7.7498 - val_mae: 8.2186 - val_mse: 197.7384\n",
            "Epoch 83/200\n",
            "40/40 [==============================] - 1s 21ms/step - loss: 7.1224 - mae: 7.5824 - mse: 185.6179 - val_loss: 6.5077 - val_mae: 6.9612 - val_mse: 166.0890\n",
            "Epoch 84/200\n",
            "40/40 [==============================] - 1s 20ms/step - loss: 7.0698 - mae: 7.5288 - mse: 184.8279 - val_loss: 7.3553 - val_mae: 7.8164 - val_mse: 183.0513\n",
            "Epoch 85/200\n",
            "40/40 [==============================] - 1s 20ms/step - loss: 7.1152 - mae: 7.5752 - mse: 184.3092 - val_loss: 6.9204 - val_mae: 7.3807 - val_mse: 171.1679\n",
            "Epoch 86/200\n",
            "40/40 [==============================] - 1s 22ms/step - loss: 6.9173 - mae: 7.3753 - mse: 177.0474 - val_loss: 7.4669 - val_mae: 7.9259 - val_mse: 193.4015\n",
            "Epoch 87/200\n",
            "40/40 [==============================] - 1s 21ms/step - loss: 6.8827 - mae: 7.3405 - mse: 176.6784 - val_loss: 6.5377 - val_mae: 7.0002 - val_mse: 163.5949\n",
            "Epoch 88/200\n",
            "40/40 [==============================] - 1s 21ms/step - loss: 6.9169 - mae: 7.3762 - mse: 177.6653 - val_loss: 6.9542 - val_mae: 7.4155 - val_mse: 179.8346\n",
            "Epoch 89/200\n",
            "40/40 [==============================] - 1s 20ms/step - loss: 6.8638 - mae: 7.3216 - mse: 176.9529 - val_loss: 7.0475 - val_mae: 7.4991 - val_mse: 182.3126\n",
            "Epoch 90/200\n",
            "40/40 [==============================] - 1s 19ms/step - loss: 6.8415 - mae: 7.2996 - mse: 176.2506 - val_loss: 6.5775 - val_mae: 7.0282 - val_mse: 167.0712\n",
            "Epoch 91/200\n",
            "40/40 [==============================] - 1s 21ms/step - loss: 6.7794 - mae: 7.2368 - mse: 170.9831 - val_loss: 6.5770 - val_mae: 7.0304 - val_mse: 167.6913\n",
            "Epoch 92/200\n",
            "40/40 [==============================] - 1s 21ms/step - loss: 6.7656 - mae: 7.2229 - mse: 172.7106 - val_loss: 7.1821 - val_mae: 7.6376 - val_mse: 192.1733\n",
            "Epoch 93/200\n",
            "40/40 [==============================] - 1s 20ms/step - loss: 6.6475 - mae: 7.1043 - mse: 166.5581 - val_loss: 7.0632 - val_mae: 7.5225 - val_mse: 175.6576\n",
            "Epoch 94/200\n",
            "40/40 [==============================] - 1s 21ms/step - loss: 6.6792 - mae: 7.1367 - mse: 168.6668 - val_loss: 6.9045 - val_mae: 7.3642 - val_mse: 175.1223\n",
            "Epoch 95/200\n",
            "40/40 [==============================] - 1s 20ms/step - loss: 6.6008 - mae: 7.0571 - mse: 166.0626 - val_loss: 6.9344 - val_mae: 7.3906 - val_mse: 177.6784\n",
            "Epoch 96/200\n",
            "40/40 [==============================] - 1s 20ms/step - loss: 6.5591 - mae: 7.0140 - mse: 164.9839 - val_loss: 5.8875 - val_mae: 6.3460 - val_mse: 139.4319\n",
            "Epoch 97/200\n",
            "40/40 [==============================] - 1s 20ms/step - loss: 6.5117 - mae: 6.9670 - mse: 162.9945 - val_loss: 5.8933 - val_mae: 6.3498 - val_mse: 141.3649\n",
            "Epoch 98/200\n",
            "40/40 [==============================] - 1s 20ms/step - loss: 6.3975 - mae: 6.8536 - mse: 157.8044 - val_loss: 6.6031 - val_mae: 7.0590 - val_mse: 162.3423\n",
            "Epoch 99/200\n",
            "40/40 [==============================] - 1s 20ms/step - loss: 6.4263 - mae: 6.8816 - mse: 159.4948 - val_loss: 6.5451 - val_mae: 6.9999 - val_mse: 166.6439\n",
            "Epoch 100/200\n",
            "40/40 [==============================] - 1s 21ms/step - loss: 6.3499 - mae: 6.8055 - mse: 156.2025 - val_loss: 6.5450 - val_mae: 6.9997 - val_mse: 153.0181\n",
            "Epoch 101/200\n",
            "40/40 [==============================] - 1s 21ms/step - loss: 6.4400 - mae: 6.8968 - mse: 159.6384 - val_loss: 6.6153 - val_mae: 7.0749 - val_mse: 157.4648\n",
            "Epoch 102/200\n",
            "40/40 [==============================] - 1s 20ms/step - loss: 6.2339 - mae: 6.6890 - mse: 152.4036 - val_loss: 6.0095 - val_mae: 6.4580 - val_mse: 145.9378\n",
            "Epoch 103/200\n",
            "40/40 [==============================] - 1s 21ms/step - loss: 6.2427 - mae: 6.6950 - mse: 154.5296 - val_loss: 6.2244 - val_mae: 6.6717 - val_mse: 153.6047\n",
            "Epoch 104/200\n",
            "40/40 [==============================] - 1s 20ms/step - loss: 6.3016 - mae: 6.7571 - mse: 154.0688 - val_loss: 6.7074 - val_mae: 7.1599 - val_mse: 168.8213\n",
            "Epoch 105/200\n",
            "40/40 [==============================] - 1s 21ms/step - loss: 6.2140 - mae: 6.6684 - mse: 152.0851 - val_loss: 6.5419 - val_mae: 6.9986 - val_mse: 156.7399\n",
            "Epoch 106/200\n",
            "40/40 [==============================] - 1s 20ms/step - loss: 6.2302 - mae: 6.6845 - mse: 153.3661 - val_loss: 6.2873 - val_mae: 6.7512 - val_mse: 144.2383\n",
            "Epoch 107/200\n",
            "40/40 [==============================] - 1s 20ms/step - loss: 6.1860 - mae: 6.6402 - mse: 150.8175 - val_loss: 6.0067 - val_mae: 6.4584 - val_mse: 145.9266\n",
            "Epoch 108/200\n",
            "40/40 [==============================] - 1s 21ms/step - loss: 6.0630 - mae: 6.5163 - mse: 146.1806 - val_loss: 5.9722 - val_mae: 6.4184 - val_mse: 137.8833\n",
            "Epoch 109/200\n",
            "40/40 [==============================] - 1s 20ms/step - loss: 6.0531 - mae: 6.5077 - mse: 146.0908 - val_loss: 6.4833 - val_mae: 6.9311 - val_mse: 152.8207\n",
            "Epoch 110/200\n",
            "40/40 [==============================] - 1s 21ms/step - loss: 6.0055 - mae: 6.4569 - mse: 145.1529 - val_loss: 5.4218 - val_mae: 5.8673 - val_mse: 127.0105\n",
            "Epoch 111/200\n",
            "40/40 [==============================] - 1s 21ms/step - loss: 5.8736 - mae: 6.3244 - mse: 142.2634 - val_loss: 8.4050 - val_mae: 8.8787 - val_mse: 196.3239\n",
            "Epoch 112/200\n",
            "40/40 [==============================] - 1s 20ms/step - loss: 6.0596 - mae: 6.5131 - mse: 144.9791 - val_loss: 6.1179 - val_mae: 6.5703 - val_mse: 143.6951\n",
            "Epoch 113/200\n",
            "40/40 [==============================] - 1s 21ms/step - loss: 5.9141 - mae: 6.3654 - mse: 141.0865 - val_loss: 6.5103 - val_mae: 6.9632 - val_mse: 157.6990\n",
            "Epoch 114/200\n",
            "40/40 [==============================] - 1s 20ms/step - loss: 5.9299 - mae: 6.3823 - mse: 140.8718 - val_loss: 5.2123 - val_mae: 5.6669 - val_mse: 116.0543\n",
            "Epoch 115/200\n",
            "40/40 [==============================] - 1s 22ms/step - loss: 5.9385 - mae: 6.3911 - mse: 142.0175 - val_loss: 6.1283 - val_mae: 6.5846 - val_mse: 139.5226\n",
            "Epoch 116/200\n",
            "40/40 [==============================] - 1s 20ms/step - loss: 5.8104 - mae: 6.2619 - mse: 137.4785 - val_loss: 5.4132 - val_mae: 5.8674 - val_mse: 122.4515\n",
            "Epoch 117/200\n",
            "40/40 [==============================] - 1s 20ms/step - loss: 5.8026 - mae: 6.2538 - mse: 137.4171 - val_loss: 5.4809 - val_mae: 5.9436 - val_mse: 119.9751\n",
            "Epoch 118/200\n",
            "40/40 [==============================] - 1s 21ms/step - loss: 5.7667 - mae: 6.2174 - mse: 138.0442 - val_loss: 5.6309 - val_mae: 6.0728 - val_mse: 135.0181\n",
            "Epoch 119/200\n",
            "40/40 [==============================] - 1s 21ms/step - loss: 5.8092 - mae: 6.2610 - mse: 137.9436 - val_loss: 5.7556 - val_mae: 6.1994 - val_mse: 138.6836\n",
            "Epoch 120/200\n",
            "40/40 [==============================] - 1s 20ms/step - loss: 5.7288 - mae: 6.1790 - mse: 136.1194 - val_loss: 5.6024 - val_mae: 6.0669 - val_mse: 127.1297\n",
            "Epoch 121/200\n",
            "40/40 [==============================] - 1s 20ms/step - loss: 5.6749 - mae: 6.1245 - mse: 134.8320 - val_loss: 5.4811 - val_mae: 5.9252 - val_mse: 130.4795\n",
            "Epoch 122/200\n",
            "40/40 [==============================] - 1s 24ms/step - loss: 5.5671 - mae: 6.0151 - mse: 130.6848 - val_loss: 5.8745 - val_mae: 6.3264 - val_mse: 138.3067\n",
            "Epoch 123/200\n",
            "40/40 [==============================] - 1s 20ms/step - loss: 5.7155 - mae: 6.1662 - mse: 133.9641 - val_loss: 5.2685 - val_mae: 5.7240 - val_mse: 117.9189\n",
            "Epoch 124/200\n",
            "40/40 [==============================] - 1s 21ms/step - loss: 5.5915 - mae: 6.0421 - mse: 131.4186 - val_loss: 5.5761 - val_mae: 6.0182 - val_mse: 134.2718\n",
            "Epoch 125/200\n",
            "40/40 [==============================] - 1s 20ms/step - loss: 5.5747 - mae: 6.0226 - mse: 132.2182 - val_loss: 5.5045 - val_mae: 5.9523 - val_mse: 131.3790\n",
            "Epoch 126/200\n",
            "40/40 [==============================] - 1s 23ms/step - loss: 5.4823 - mae: 5.9308 - mse: 127.8931 - val_loss: 6.2912 - val_mae: 6.7399 - val_mse: 145.3821\n",
            "Epoch 127/200\n",
            "40/40 [==============================] - 1s 22ms/step - loss: 5.5401 - mae: 5.9890 - mse: 130.6297 - val_loss: 5.6842 - val_mae: 6.1346 - val_mse: 132.6273\n",
            "Epoch 128/200\n",
            "40/40 [==============================] - 1s 21ms/step - loss: 5.6290 - mae: 6.0794 - mse: 132.2086 - val_loss: 5.6319 - val_mae: 6.0804 - val_mse: 132.5833\n",
            "Epoch 129/200\n",
            "40/40 [==============================] - 1s 20ms/step - loss: 5.4189 - mae: 5.8663 - mse: 127.4781 - val_loss: 5.9746 - val_mae: 6.4176 - val_mse: 141.9560\n",
            "Epoch 130/200\n",
            "40/40 [==============================] - 1s 21ms/step - loss: 5.4360 - mae: 5.8832 - mse: 126.7593 - val_loss: 5.2698 - val_mae: 5.7108 - val_mse: 128.7658\n",
            "Epoch 131/200\n",
            "40/40 [==============================] - 1s 21ms/step - loss: 5.3966 - mae: 5.8447 - mse: 124.3268 - val_loss: 4.9782 - val_mae: 5.4279 - val_mse: 116.0131\n",
            "Epoch 132/200\n",
            "40/40 [==============================] - 1s 19ms/step - loss: 5.4513 - mae: 5.8995 - mse: 126.7666 - val_loss: 5.1886 - val_mae: 5.6412 - val_mse: 115.3519\n",
            "Epoch 133/200\n",
            "40/40 [==============================] - 1s 23ms/step - loss: 5.4202 - mae: 5.8668 - mse: 127.3528 - val_loss: 5.5569 - val_mae: 5.9975 - val_mse: 131.1933\n",
            "Epoch 134/200\n",
            "40/40 [==============================] - 1s 19ms/step - loss: 5.3506 - mae: 5.7985 - mse: 122.6262 - val_loss: 5.3954 - val_mae: 5.8375 - val_mse: 129.8675\n",
            "Epoch 135/200\n",
            "40/40 [==============================] - 1s 20ms/step - loss: 5.2837 - mae: 5.7302 - mse: 121.6523 - val_loss: 5.5633 - val_mae: 6.0005 - val_mse: 134.2275\n",
            "Epoch 136/200\n",
            "40/40 [==============================] - 1s 21ms/step - loss: 5.2237 - mae: 5.6691 - mse: 121.2444 - val_loss: 6.2868 - val_mae: 6.7498 - val_mse: 151.0346\n",
            "Epoch 137/200\n",
            "40/40 [==============================] - 1s 20ms/step - loss: 5.2518 - mae: 5.6997 - mse: 120.7214 - val_loss: 5.1191 - val_mae: 5.5705 - val_mse: 124.3415\n",
            "Epoch 138/200\n",
            "40/40 [==============================] - 1s 20ms/step - loss: 5.2317 - mae: 5.6767 - mse: 120.9498 - val_loss: 5.3794 - val_mae: 5.8381 - val_mse: 122.9850\n",
            "Epoch 139/200\n",
            "40/40 [==============================] - 1s 22ms/step - loss: 5.2148 - mae: 5.6617 - mse: 120.1627 - val_loss: 4.8375 - val_mae: 5.2770 - val_mse: 113.8962\n",
            "Epoch 140/200\n",
            "40/40 [==============================] - 1s 20ms/step - loss: 5.2527 - mae: 5.6977 - mse: 122.3123 - val_loss: 4.9640 - val_mae: 5.4029 - val_mse: 116.1464\n",
            "Epoch 141/200\n",
            "40/40 [==============================] - 1s 20ms/step - loss: 5.1823 - mae: 5.6286 - mse: 119.5022 - val_loss: 6.2024 - val_mae: 6.6492 - val_mse: 145.5308\n",
            "Epoch 142/200\n",
            "40/40 [==============================] - 1s 20ms/step - loss: 5.1656 - mae: 5.6119 - mse: 118.9946 - val_loss: 4.8594 - val_mae: 5.3036 - val_mse: 110.0217\n",
            "Epoch 143/200\n",
            "40/40 [==============================] - 1s 20ms/step - loss: 5.1384 - mae: 5.5826 - mse: 118.1573 - val_loss: 5.1249 - val_mae: 5.5757 - val_mse: 114.2597\n",
            "Epoch 144/200\n",
            "40/40 [==============================] - 1s 20ms/step - loss: 5.1353 - mae: 5.5806 - mse: 117.3147 - val_loss: 5.8236 - val_mae: 6.2776 - val_mse: 134.4083\n",
            "Epoch 145/200\n",
            "40/40 [==============================] - 1s 20ms/step - loss: 5.1076 - mae: 5.5533 - mse: 116.7901 - val_loss: 5.2292 - val_mae: 5.6761 - val_mse: 117.9927\n",
            "Epoch 146/200\n",
            "40/40 [==============================] - 1s 20ms/step - loss: 5.0985 - mae: 5.5425 - mse: 117.3773 - val_loss: 4.9021 - val_mae: 5.3443 - val_mse: 111.7278\n",
            "Epoch 147/200\n",
            "40/40 [==============================] - 1s 20ms/step - loss: 5.0803 - mae: 5.5256 - mse: 115.8021 - val_loss: 5.0314 - val_mae: 5.4762 - val_mse: 112.1057\n",
            "Epoch 148/200\n",
            "40/40 [==============================] - 1s 20ms/step - loss: 5.0415 - mae: 5.4863 - mse: 115.3737 - val_loss: 4.9017 - val_mae: 5.3457 - val_mse: 114.8218\n",
            "Epoch 149/200\n",
            "40/40 [==============================] - 1s 21ms/step - loss: 4.9872 - mae: 5.4307 - mse: 113.5024 - val_loss: 5.4097 - val_mae: 5.8392 - val_mse: 126.1741\n",
            "Epoch 150/200\n",
            "40/40 [==============================] - 1s 20ms/step - loss: 4.9852 - mae: 5.4283 - mse: 114.2184 - val_loss: 4.8945 - val_mae: 5.3397 - val_mse: 111.3853\n",
            "Epoch 151/200\n",
            "40/40 [==============================] - 1s 21ms/step - loss: 4.9896 - mae: 5.4330 - mse: 114.5548 - val_loss: 5.2783 - val_mae: 5.7388 - val_mse: 117.2637\n",
            "Epoch 152/200\n",
            "40/40 [==============================] - 1s 21ms/step - loss: 4.9767 - mae: 5.4218 - mse: 113.9226 - val_loss: 4.6179 - val_mae: 5.0713 - val_mse: 104.0296\n",
            "Epoch 153/200\n",
            "40/40 [==============================] - 1s 21ms/step - loss: 4.9974 - mae: 5.4413 - mse: 114.0589 - val_loss: 5.0537 - val_mae: 5.4976 - val_mse: 117.6886\n",
            "Epoch 154/200\n",
            "40/40 [==============================] - 1s 23ms/step - loss: 4.9401 - mae: 5.3825 - mse: 113.5588 - val_loss: 4.3947 - val_mae: 4.8330 - val_mse: 97.2903\n",
            "Epoch 155/200\n",
            "40/40 [==============================] - 1s 20ms/step - loss: 4.9305 - mae: 5.3745 - mse: 111.9434 - val_loss: 5.4156 - val_mae: 5.8556 - val_mse: 130.0015\n",
            "Epoch 156/200\n",
            "40/40 [==============================] - 1s 20ms/step - loss: 4.8056 - mae: 5.2460 - mse: 109.3414 - val_loss: 5.2441 - val_mae: 5.6979 - val_mse: 113.3025\n",
            "Epoch 157/200\n",
            "40/40 [==============================] - 1s 21ms/step - loss: 4.8745 - mae: 5.3180 - mse: 109.6906 - val_loss: 4.7924 - val_mae: 5.2235 - val_mse: 103.1376\n",
            "Epoch 158/200\n",
            "40/40 [==============================] - 1s 20ms/step - loss: 4.8744 - mae: 5.3176 - mse: 109.4181 - val_loss: 4.6455 - val_mae: 5.0818 - val_mse: 103.5014\n",
            "Epoch 159/200\n",
            "40/40 [==============================] - 1s 21ms/step - loss: 4.8391 - mae: 5.2812 - mse: 110.2193 - val_loss: 4.5217 - val_mae: 4.9568 - val_mse: 100.3817\n",
            "Epoch 160/200\n",
            "40/40 [==============================] - 1s 20ms/step - loss: 4.8539 - mae: 5.2974 - mse: 110.6028 - val_loss: 4.4719 - val_mae: 4.9136 - val_mse: 99.2958\n",
            "Epoch 161/200\n",
            "40/40 [==============================] - 1s 20ms/step - loss: 4.7584 - mae: 5.1993 - mse: 108.0504 - val_loss: 4.4643 - val_mae: 4.8928 - val_mse: 100.2463\n",
            "Epoch 162/200\n",
            "40/40 [==============================] - 1s 19ms/step - loss: 4.7549 - mae: 5.1963 - mse: 107.6449 - val_loss: 4.7377 - val_mae: 5.1800 - val_mse: 107.2337\n",
            "Epoch 163/200\n",
            "40/40 [==============================] - 1s 20ms/step - loss: 4.7749 - mae: 5.2183 - mse: 107.3959 - val_loss: 4.4110 - val_mae: 4.8460 - val_mse: 99.3418\n",
            "Epoch 164/200\n",
            "40/40 [==============================] - 1s 20ms/step - loss: 4.7282 - mae: 5.1685 - mse: 105.9340 - val_loss: 4.3407 - val_mae: 4.7826 - val_mse: 93.6322\n",
            "Epoch 165/200\n",
            "40/40 [==============================] - 1s 20ms/step - loss: 4.6593 - mae: 5.1001 - mse: 106.1873 - val_loss: 5.6928 - val_mae: 6.1354 - val_mse: 128.5860\n",
            "Epoch 166/200\n",
            "40/40 [==============================] - 1s 19ms/step - loss: 4.6913 - mae: 5.1304 - mse: 106.2748 - val_loss: 5.4060 - val_mae: 5.8394 - val_mse: 126.0100\n",
            "Epoch 167/200\n",
            "40/40 [==============================] - 1s 20ms/step - loss: 4.6927 - mae: 5.1355 - mse: 105.1109 - val_loss: 4.9060 - val_mae: 5.3390 - val_mse: 113.0441\n",
            "Epoch 168/200\n",
            "40/40 [==============================] - 1s 21ms/step - loss: 4.7159 - mae: 5.1572 - mse: 107.5335 - val_loss: 5.6324 - val_mae: 6.0786 - val_mse: 135.1489\n",
            "Epoch 169/200\n",
            "40/40 [==============================] - 1s 20ms/step - loss: 4.6482 - mae: 5.0880 - mse: 105.9553 - val_loss: 4.9827 - val_mae: 5.4226 - val_mse: 112.1915\n",
            "Epoch 170/200\n",
            "40/40 [==============================] - 1s 20ms/step - loss: 4.6830 - mae: 5.1243 - mse: 105.9596 - val_loss: 4.3234 - val_mae: 4.7463 - val_mse: 100.4691\n",
            "Epoch 171/200\n",
            "40/40 [==============================] - 1s 19ms/step - loss: 4.5705 - mae: 5.0102 - mse: 103.0581 - val_loss: 3.9807 - val_mae: 4.4133 - val_mse: 92.1386\n",
            "Epoch 172/200\n",
            "40/40 [==============================] - 1s 20ms/step - loss: 4.6227 - mae: 5.0622 - mse: 104.6044 - val_loss: 4.0344 - val_mae: 4.4749 - val_mse: 90.3412\n",
            "Epoch 173/200\n",
            "40/40 [==============================] - 1s 20ms/step - loss: 4.5893 - mae: 5.0284 - mse: 103.2090 - val_loss: 3.9979 - val_mae: 4.4273 - val_mse: 92.5822\n",
            "Epoch 174/200\n",
            "40/40 [==============================] - 1s 20ms/step - loss: 4.5901 - mae: 5.0294 - mse: 104.1444 - val_loss: 4.1608 - val_mae: 4.5982 - val_mse: 94.8109\n",
            "Epoch 175/200\n",
            "40/40 [==============================] - 1s 20ms/step - loss: 4.5628 - mae: 5.0041 - mse: 102.3452 - val_loss: 4.4750 - val_mae: 4.9131 - val_mse: 100.7924\n",
            "Epoch 176/200\n",
            "40/40 [==============================] - 1s 20ms/step - loss: 4.5240 - mae: 4.9620 - mse: 101.1048 - val_loss: 4.7019 - val_mae: 5.1451 - val_mse: 103.1223\n",
            "Epoch 177/200\n",
            "40/40 [==============================] - 1s 20ms/step - loss: 4.5346 - mae: 4.9717 - mse: 102.7304 - val_loss: 4.6266 - val_mae: 5.0735 - val_mse: 95.7312\n",
            "Epoch 178/200\n",
            "40/40 [==============================] - 1s 20ms/step - loss: 4.5849 - mae: 5.0240 - mse: 103.3740 - val_loss: 3.8760 - val_mae: 4.3030 - val_mse: 90.2125\n",
            "Epoch 179/200\n",
            "40/40 [==============================] - 1s 20ms/step - loss: 4.5240 - mae: 4.9618 - mse: 102.6303 - val_loss: 4.8141 - val_mae: 5.2564 - val_mse: 102.0130\n",
            "Epoch 180/200\n",
            "40/40 [==============================] - 1s 21ms/step - loss: 4.4670 - mae: 4.9050 - mse: 99.9475 - val_loss: 5.2054 - val_mae: 5.6502 - val_mse: 109.5659\n",
            "Epoch 181/200\n",
            "40/40 [==============================] - 1s 20ms/step - loss: 4.5411 - mae: 4.9790 - mse: 102.3048 - val_loss: 4.5625 - val_mae: 4.9946 - val_mse: 103.8247\n",
            "Epoch 182/200\n",
            "40/40 [==============================] - 1s 19ms/step - loss: 4.4791 - mae: 4.9184 - mse: 100.8200 - val_loss: 3.8841 - val_mae: 4.3140 - val_mse: 93.1293\n",
            "Epoch 183/200\n",
            "40/40 [==============================] - 1s 19ms/step - loss: 4.4562 - mae: 4.8965 - mse: 100.4025 - val_loss: 3.9974 - val_mae: 4.4202 - val_mse: 91.1633\n",
            "Epoch 184/200\n",
            "40/40 [==============================] - 1s 20ms/step - loss: 4.3850 - mae: 4.8191 - mse: 99.2826 - val_loss: 3.7252 - val_mae: 4.1567 - val_mse: 84.9234\n",
            "Epoch 185/200\n",
            "40/40 [==============================] - 1s 20ms/step - loss: 4.4190 - mae: 4.8563 - mse: 99.2272 - val_loss: 4.0162 - val_mae: 4.4488 - val_mse: 92.8950\n",
            "Epoch 186/200\n",
            "40/40 [==============================] - 1s 20ms/step - loss: 4.4154 - mae: 4.8520 - mse: 99.0954 - val_loss: 4.0933 - val_mae: 4.5245 - val_mse: 89.4835\n",
            "Epoch 187/200\n",
            "40/40 [==============================] - 1s 20ms/step - loss: 4.4412 - mae: 4.8807 - mse: 99.3737 - val_loss: 4.6238 - val_mae: 5.0500 - val_mse: 106.0422\n",
            "Epoch 188/200\n",
            "40/40 [==============================] - 1s 20ms/step - loss: 4.3598 - mae: 4.7961 - mse: 98.2685 - val_loss: 4.3075 - val_mae: 4.7362 - val_mse: 106.1005\n",
            "Epoch 189/200\n",
            "40/40 [==============================] - 1s 20ms/step - loss: 4.3699 - mae: 4.8062 - mse: 99.6659 - val_loss: 4.2702 - val_mae: 4.7109 - val_mse: 92.3498\n",
            "Epoch 190/200\n",
            "40/40 [==============================] - 1s 20ms/step - loss: 4.4013 - mae: 4.8379 - mse: 99.0612 - val_loss: 4.3370 - val_mae: 4.7653 - val_mse: 90.3885\n",
            "Epoch 191/200\n",
            "40/40 [==============================] - 1s 22ms/step - loss: 4.3657 - mae: 4.8038 - mse: 97.6517 - val_loss: 4.4850 - val_mae: 4.9216 - val_mse: 102.3739\n",
            "Epoch 192/200\n",
            "40/40 [==============================] - 1s 19ms/step - loss: 4.3618 - mae: 4.7990 - mse: 98.2894 - val_loss: 4.1222 - val_mae: 4.5497 - val_mse: 93.6152\n",
            "Epoch 193/200\n",
            "40/40 [==============================] - 1s 21ms/step - loss: 4.3327 - mae: 4.7685 - mse: 98.0080 - val_loss: 4.7645 - val_mae: 5.1933 - val_mse: 107.6492\n",
            "Epoch 194/200\n",
            "40/40 [==============================] - 1s 21ms/step - loss: 4.3047 - mae: 4.7399 - mse: 97.1954 - val_loss: 4.4101 - val_mae: 4.8493 - val_mse: 96.8501\n",
            "Epoch 195/200\n",
            "40/40 [==============================] - 1s 20ms/step - loss: 4.2988 - mae: 4.7355 - mse: 95.6187 - val_loss: 4.4594 - val_mae: 4.8888 - val_mse: 98.8733\n",
            "Epoch 196/200\n",
            "40/40 [==============================] - 1s 24ms/step - loss: 4.2118 - mae: 4.6449 - mse: 94.7310 - val_loss: 4.6792 - val_mae: 5.1117 - val_mse: 108.6072\n",
            "Epoch 197/200\n",
            "40/40 [==============================] - 1s 23ms/step - loss: 4.3096 - mae: 4.7450 - mse: 97.7845 - val_loss: 4.1960 - val_mae: 4.6422 - val_mse: 90.6105\n",
            "Epoch 198/200\n",
            "40/40 [==============================] - 1s 20ms/step - loss: 4.2592 - mae: 4.6953 - mse: 95.8034 - val_loss: 4.7976 - val_mae: 5.2354 - val_mse: 109.4399\n",
            "Epoch 199/200\n",
            "40/40 [==============================] - 1s 20ms/step - loss: 4.2376 - mae: 4.6715 - mse: 96.7968 - val_loss: 4.5181 - val_mae: 4.9497 - val_mse: 104.6752\n",
            "Epoch 200/200\n",
            "40/40 [==============================] - 1s 19ms/step - loss: 4.1905 - mae: 4.6234 - mse: 94.4421 - val_loss: 4.3926 - val_mae: 4.8163 - val_mse: 100.4053\n"
          ],
          "name": "stdout"
        }
      ]
    },
    {
      "cell_type": "code",
      "metadata": {
        "id": "_CAyfOKPHvE5"
      },
      "source": [
        ""
      ],
      "execution_count": 11,
      "outputs": []
    }
  ]
}