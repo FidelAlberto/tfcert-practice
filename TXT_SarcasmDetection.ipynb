{
  "nbformat": 4,
  "nbformat_minor": 0,
  "metadata": {
    "colab": {
      "name": "TXT_SarcasmDetection.ipynb",
      "provenance": [],
      "collapsed_sections": [],
      "toc_visible": true,
      "authorship_tag": "ABX9TyNoIX3jc4Mzf2UNlSB6B1eE",
      "include_colab_link": true
    },
    "kernelspec": {
      "name": "python3",
      "display_name": "Python 3"
    },
    "accelerator": "GPU"
  },
  "cells": [
    {
      "cell_type": "markdown",
      "metadata": {
        "id": "view-in-github",
        "colab_type": "text"
      },
      "source": [
        "<a href=\"https://colab.research.google.com/github/btcnhung1299/tf-practice/blob/master/TXT_SarcasmDetection.ipynb\" target=\"_parent\"><img src=\"https://colab.research.google.com/assets/colab-badge.svg\" alt=\"Open In Colab\"/></a>"
      ]
    },
    {
      "cell_type": "code",
      "metadata": {
        "id": "EZdRgGWsm9En"
      },
      "source": [
        "import pandas as pd\n",
        "import tensorflow as tf\n",
        "tf.compat.v1.logging.set_verbosity(tf.compat.v1.logging.ERROR)"
      ],
      "execution_count": 1,
      "outputs": []
    },
    {
      "cell_type": "markdown",
      "metadata": {
        "id": "TkU9l69oo1q1"
      },
      "source": [
        "## Data Gathering"
      ]
    },
    {
      "cell_type": "code",
      "metadata": {
        "id": "Vs-76pZTmsRh",
        "outputId": "90a14053-d7ca-46f9-e99b-786983d9f9a4",
        "colab": {
          "base_uri": "https://localhost:8080/",
          "height": 204
        }
      },
      "source": [
        "!wget https://storage.googleapis.com/laurencemoroney-blog.appspot.com/sarcasm.json"
      ],
      "execution_count": 2,
      "outputs": [
        {
          "output_type": "stream",
          "text": [
            "--2020-09-29 12:39:41--  https://storage.googleapis.com/laurencemoroney-blog.appspot.com/sarcasm.json\n",
            "Resolving storage.googleapis.com (storage.googleapis.com)... 74.125.195.128, 74.125.142.128, 2607:f8b0:400e:c08::80, ...\n",
            "Connecting to storage.googleapis.com (storage.googleapis.com)|74.125.195.128|:443... connected.\n",
            "HTTP request sent, awaiting response... 200 OK\n",
            "Length: 5643545 (5.4M) [application/json]\n",
            "Saving to: ‘sarcasm.json.2’\n",
            "\n",
            "\rsarcasm.json.2        0%[                    ]       0  --.-KB/s               \rsarcasm.json.2      100%[===================>]   5.38M  --.-KB/s    in 0.02s   \n",
            "\n",
            "2020-09-29 12:39:41 (220 MB/s) - ‘sarcasm.json.2’ saved [5643545/5643545]\n",
            "\n"
          ],
          "name": "stdout"
        }
      ]
    },
    {
      "cell_type": "code",
      "metadata": {
        "id": "vj9sbCXcnJFg",
        "outputId": "016927e0-b499-49de-b720-ca6d96598947",
        "colab": {
          "base_uri": "https://localhost:8080/",
          "height": 204
        }
      },
      "source": [
        "df = pd.read_json(\"./sarcasm.json\")\n",
        "df.head()"
      ],
      "execution_count": 3,
      "outputs": [
        {
          "output_type": "execute_result",
          "data": {
            "text/html": [
              "<div>\n",
              "<style scoped>\n",
              "    .dataframe tbody tr th:only-of-type {\n",
              "        vertical-align: middle;\n",
              "    }\n",
              "\n",
              "    .dataframe tbody tr th {\n",
              "        vertical-align: top;\n",
              "    }\n",
              "\n",
              "    .dataframe thead th {\n",
              "        text-align: right;\n",
              "    }\n",
              "</style>\n",
              "<table border=\"1\" class=\"dataframe\">\n",
              "  <thead>\n",
              "    <tr style=\"text-align: right;\">\n",
              "      <th></th>\n",
              "      <th>article_link</th>\n",
              "      <th>headline</th>\n",
              "      <th>is_sarcastic</th>\n",
              "    </tr>\n",
              "  </thead>\n",
              "  <tbody>\n",
              "    <tr>\n",
              "      <th>0</th>\n",
              "      <td>https://www.huffingtonpost.com/entry/versace-b...</td>\n",
              "      <td>former versace store clerk sues over secret 'b...</td>\n",
              "      <td>0</td>\n",
              "    </tr>\n",
              "    <tr>\n",
              "      <th>1</th>\n",
              "      <td>https://www.huffingtonpost.com/entry/roseanne-...</td>\n",
              "      <td>the 'roseanne' revival catches up to our thorn...</td>\n",
              "      <td>0</td>\n",
              "    </tr>\n",
              "    <tr>\n",
              "      <th>2</th>\n",
              "      <td>https://local.theonion.com/mom-starting-to-fea...</td>\n",
              "      <td>mom starting to fear son's web series closest ...</td>\n",
              "      <td>1</td>\n",
              "    </tr>\n",
              "    <tr>\n",
              "      <th>3</th>\n",
              "      <td>https://politics.theonion.com/boehner-just-wan...</td>\n",
              "      <td>boehner just wants wife to listen, not come up...</td>\n",
              "      <td>1</td>\n",
              "    </tr>\n",
              "    <tr>\n",
              "      <th>4</th>\n",
              "      <td>https://www.huffingtonpost.com/entry/jk-rowlin...</td>\n",
              "      <td>j.k. rowling wishes snape happy birthday in th...</td>\n",
              "      <td>0</td>\n",
              "    </tr>\n",
              "  </tbody>\n",
              "</table>\n",
              "</div>"
            ],
            "text/plain": [
              "                                        article_link  ... is_sarcastic\n",
              "0  https://www.huffingtonpost.com/entry/versace-b...  ...            0\n",
              "1  https://www.huffingtonpost.com/entry/roseanne-...  ...            0\n",
              "2  https://local.theonion.com/mom-starting-to-fea...  ...            1\n",
              "3  https://politics.theonion.com/boehner-just-wan...  ...            1\n",
              "4  https://www.huffingtonpost.com/entry/jk-rowlin...  ...            0\n",
              "\n",
              "[5 rows x 3 columns]"
            ]
          },
          "metadata": {
            "tags": []
          },
          "execution_count": 3
        }
      ]
    },
    {
      "cell_type": "code",
      "metadata": {
        "id": "qbc4Ti0LXe9z",
        "outputId": "da345e38-6e45-4e81-c51e-af6d53102266",
        "colab": {
          "base_uri": "https://localhost:8080/",
          "height": 262
        }
      },
      "source": [
        "df[\"is_sarcastic\"].value_counts().plot(kind=\"bar\");"
      ],
      "execution_count": 4,
      "outputs": [
        {
          "output_type": "display_data",
          "data": {
            "image/png": "[encoded data removed]",
            "text/plain": [
              "<Figure size 432x288 with 1 Axes>"
            ]
          },
          "metadata": {
            "tags": [],
            "needs_background": "light"
          }
        }
      ]
    },
    {
      "cell_type": "code",
      "metadata": {
        "id": "02utcblwtA-C"
      },
      "source": [
        "from sklearn.model_selection import train_test_split\n",
        "train_df, val_df = train_test_split(df, test_size=0.2)"
      ],
      "execution_count": 5,
      "outputs": []
    },
    {
      "cell_type": "code",
      "metadata": {
        "id": "lApGygTzntUY"
      },
      "source": [
        "get_samples = lambda df : (df[\"headline\"].values, df[\"is_sarcastic\"].values)\n",
        "train_data, train_labels = get_samples(train_df)\n",
        "val_data, val_labels = get_samples(val_df)"
      ],
      "execution_count": 6,
      "outputs": []
    },
    {
      "cell_type": "markdown",
      "metadata": {
        "id": "gjERKAMUo8AB"
      },
      "source": [
        "## Data Tokenization & Batchifying"
      ]
    },
    {
      "cell_type": "markdown",
      "metadata": {
        "id": "vg4xkMvgo_S2"
      },
      "source": [
        "### Tokenization"
      ]
    },
    {
      "cell_type": "code",
      "metadata": {
        "id": "byYH4g0vnTKj"
      },
      "source": [
        "from tensorflow.keras.preprocessing.text import Tokenizer\n",
        "from tensorflow.keras.preprocessing.sequence import pad_sequences"
      ],
      "execution_count": 7,
      "outputs": []
    },
    {
      "cell_type": "code",
      "metadata": {
        "id": "0ouv7DK0ngf4"
      },
      "source": [
        "VOCAB_SIZE = 10000\n",
        "tokenizer = Tokenizer(VOCAB_SIZE, oov_token=\"<OOV>\")\n",
        "tokenizer.fit_on_texts(train_data)"
      ],
      "execution_count": 8,
      "outputs": []
    },
    {
      "cell_type": "markdown",
      "metadata": {
        "id": "QI6zH401pCV7"
      },
      "source": [
        "### Create samples"
      ]
    },
    {
      "cell_type": "code",
      "metadata": {
        "id": "9KlQZCFzoSCc",
        "outputId": "de4b3794-b252-4c4b-8d84-9b74bfbfc3d8",
        "colab": {
          "base_uri": "https://localhost:8080/",
          "height": 170
        }
      },
      "source": [
        "pd.Series(train_data).apply(lambda x : len(x)).describe()"
      ],
      "execution_count": 9,
      "outputs": [
        {
          "output_type": "execute_result",
          "data": {
            "text/plain": [
              "count    21367.000000\n",
              "mean        60.933683\n",
              "std         19.196232\n",
              "min          7.000000\n",
              "25%         48.000000\n",
              "50%         61.000000\n",
              "75%         73.000000\n",
              "max        254.000000\n",
              "dtype: float64"
            ]
          },
          "metadata": {
            "tags": []
          },
          "execution_count": 9
        }
      ]
    },
    {
      "cell_type": "code",
      "metadata": {
        "id": "05AAweA1n0jj"
      },
      "source": [
        "MAX_SEQ_LEN = 128\n",
        "BUFFER_SIZE = 1024\n",
        "BATCH_SIZE = 64\n",
        "\n",
        "def create_tfds(tokenizer, X, y, padding=False):\n",
        "  if padding:\n",
        "    X = pad_sequences(tokenizer.texts_to_sequences(X), maxlen=MAX_SEQ_LEN, padding=\"post\")\n",
        "  return tf.data.Dataset.from_tensor_slices((X, y)).shuffle(BUFFER_SIZE).batch(BATCH_SIZE)\n",
        "\n",
        "ds_train = create_tfds(tokenizer, train_data, train_labels, padding=True)\n",
        "ds_val = create_tfds(tokenizer, val_data, val_labels, padding=True)"
      ],
      "execution_count": 10,
      "outputs": []
    },
    {
      "cell_type": "markdown",
      "metadata": {
        "id": "LFD4DteZpHNW"
      },
      "source": [
        "## Model Architecture"
      ]
    },
    {
      "cell_type": "code",
      "metadata": {
        "id": "xkSiZ9jPpV6S",
        "outputId": "4d013fab-2a75-4624-8cfe-02b80b6fe14d",
        "colab": {
          "base_uri": "https://localhost:8080/",
          "height": 323
        }
      },
      "source": [
        "from tensorflow.keras.models import Sequential\n",
        "from tensorflow.keras.layers import Embedding, Dropout, GlobalAveragePooling1D, Dense\n",
        "\n",
        "EMBED_DIM = 64\n",
        "\n",
        "model = Sequential()\n",
        "model.add(Embedding(input_dim=VOCAB_SIZE, output_dim=EMBED_DIM))\n",
        "model.add(GlobalAveragePooling1D())\n",
        "model.add(Dense(64, activation=\"swish\"))\n",
        "model.add(Dropout(0.3))\n",
        "model.add(Dense(1, activation=\"sigmoid\"))\n",
        "model.summary()"
      ],
      "execution_count": 11,
      "outputs": [
        {
          "output_type": "stream",
          "text": [
            "Model: \"sequential\"\n",
            "_________________________________________________________________\n",
            "Layer (type)                 Output Shape              Param #   \n",
            "=================================================================\n",
            "embedding (Embedding)        (None, None, 64)          640000    \n",
            "_________________________________________________________________\n",
            "global_average_pooling1d (Gl (None, 64)                0         \n",
            "_________________________________________________________________\n",
            "dense (Dense)                (None, 64)                4160      \n",
            "_________________________________________________________________\n",
            "dropout (Dropout)            (None, 64)                0         \n",
            "_________________________________________________________________\n",
            "dense_1 (Dense)              (None, 1)                 65        \n",
            "=================================================================\n",
            "Total params: 644,225\n",
            "Trainable params: 644,225\n",
            "Non-trainable params: 0\n",
            "_________________________________________________________________\n"
          ],
          "name": "stdout"
        }
      ]
    },
    {
      "cell_type": "code",
      "metadata": {
        "id": "KmmkS5-RpyE9"
      },
      "source": [
        "model.compile(optimizer=\"rmsprop\", loss=\"binary_crossentropy\", metrics=[\"acc\"])"
      ],
      "execution_count": 12,
      "outputs": []
    },
    {
      "cell_type": "code",
      "metadata": {
        "id": "9PqJhlA6qVUK",
        "outputId": "997e424a-b6b3-4502-8f60-5a23035213c7",
        "colab": {
          "base_uri": "https://localhost:8080/",
          "height": 629
        }
      },
      "source": [
        "callbacks = tf.keras.callbacks.EarlyStopping(monitor=\"val_loss\", patience=10)\n",
        "model.fit(ds_train, epochs=20, validation_data=ds_val, callbacks=[callbacks]);"
      ],
      "execution_count": 13,
      "outputs": [
        {
          "output_type": "stream",
          "text": [
            "Epoch 1/20\n",
            "334/334 [==============================] - 2s 7ms/step - loss: 0.6722 - acc: 0.5700 - val_loss: 0.6315 - val_acc: 0.5814\n",
            "Epoch 2/20\n",
            "334/334 [==============================] - 2s 7ms/step - loss: 0.5151 - acc: 0.7822 - val_loss: 0.4342 - val_acc: 0.8154\n",
            "Epoch 3/20\n",
            "334/334 [==============================] - 2s 7ms/step - loss: 0.3810 - acc: 0.8383 - val_loss: 0.3709 - val_acc: 0.8426\n",
            "Epoch 4/20\n",
            "334/334 [==============================] - 2s 7ms/step - loss: 0.3344 - acc: 0.8588 - val_loss: 0.3621 - val_acc: 0.8418\n",
            "Epoch 5/20\n",
            "334/334 [==============================] - 2s 7ms/step - loss: 0.3043 - acc: 0.8718 - val_loss: 0.3470 - val_acc: 0.8489\n",
            "Epoch 6/20\n",
            "334/334 [==============================] - 2s 7ms/step - loss: 0.2844 - acc: 0.8816 - val_loss: 0.3370 - val_acc: 0.8564\n",
            "Epoch 7/20\n",
            "334/334 [==============================] - 2s 6ms/step - loss: 0.2688 - acc: 0.8897 - val_loss: 0.3583 - val_acc: 0.8465\n",
            "Epoch 8/20\n",
            "334/334 [==============================] - 2s 6ms/step - loss: 0.2581 - acc: 0.8952 - val_loss: 0.3310 - val_acc: 0.8605\n",
            "Epoch 9/20\n",
            "334/334 [==============================] - 2s 6ms/step - loss: 0.2493 - acc: 0.8993 - val_loss: 0.3587 - val_acc: 0.8493\n",
            "Epoch 10/20\n",
            "334/334 [==============================] - 2s 6ms/step - loss: 0.2407 - acc: 0.9038 - val_loss: 0.3348 - val_acc: 0.8620\n",
            "Epoch 11/20\n",
            "334/334 [==============================] - 2s 6ms/step - loss: 0.2347 - acc: 0.9080 - val_loss: 0.3553 - val_acc: 0.8516\n",
            "Epoch 12/20\n",
            "334/334 [==============================] - 2s 6ms/step - loss: 0.2279 - acc: 0.9091 - val_loss: 0.3436 - val_acc: 0.8583\n",
            "Epoch 13/20\n",
            "334/334 [==============================] - 2s 6ms/step - loss: 0.2247 - acc: 0.9109 - val_loss: 0.3388 - val_acc: 0.8633\n",
            "Epoch 14/20\n",
            "334/334 [==============================] - 2s 6ms/step - loss: 0.2194 - acc: 0.9136 - val_loss: 0.3502 - val_acc: 0.8559\n",
            "Epoch 15/20\n",
            "334/334 [==============================] - 2s 6ms/step - loss: 0.2154 - acc: 0.9154 - val_loss: 0.3426 - val_acc: 0.8620\n",
            "Epoch 16/20\n",
            "334/334 [==============================] - 2s 6ms/step - loss: 0.2125 - acc: 0.9170 - val_loss: 0.3635 - val_acc: 0.8514\n",
            "Epoch 17/20\n",
            "334/334 [==============================] - 2s 6ms/step - loss: 0.2102 - acc: 0.9171 - val_loss: 0.3553 - val_acc: 0.8559\n",
            "Epoch 18/20\n",
            "334/334 [==============================] - 2s 6ms/step - loss: 0.2061 - acc: 0.9178 - val_loss: 0.3497 - val_acc: 0.8587\n"
          ],
          "name": "stdout"
        }
      ]
    },
    {
      "cell_type": "code",
      "metadata": {
        "id": "durturicqZhL",
        "outputId": "7cb67b2a-0c6d-4f7c-8c6e-a80b9a9ff806",
        "colab": {
          "base_uri": "https://localhost:8080/",
          "height": 51
        }
      },
      "source": [
        "model.evaluate(ds_val)"
      ],
      "execution_count": 14,
      "outputs": [
        {
          "output_type": "stream",
          "text": [
            "84/84 [==============================] - 0s 2ms/step - loss: 0.3497 - acc: 0.8587\n"
          ],
          "name": "stdout"
        },
        {
          "output_type": "execute_result",
          "data": {
            "text/plain": [
              "[0.3496693968772888, 0.8586671948432922]"
            ]
          },
          "metadata": {
            "tags": []
          },
          "execution_count": 14
        }
      ]
    },
    {
      "cell_type": "markdown",
      "metadata": {
        "id": "2UNcclk4vplT"
      },
      "source": [
        "### RNN"
      ]
    },
    {
      "cell_type": "code",
      "metadata": {
        "id": "kqkcCp0svvYj"
      },
      "source": [
        "from tensorflow.keras.models import Sequential\n",
        "from tensorflow.keras.layers import Embedding, Bidirectional, LSTM, GRU, Dropout, Dense, SpatialDropout1D\n",
        "\n",
        "EMBED_DIM = 64\n",
        "\n",
        "model = Sequential()\n",
        "model.add(Embedding(input_dim=VOCAB_SIZE, output_dim=EMBED_DIM))\n",
        "model.add(Bidirectional(GRU(64, return_sequences=True)))\n",
        "model.add(Bidirectional(GRU(64)))\n",
        "model.add(Dense(32, activation=\"swish\"))\n",
        "model.add(Dropout(0.4))\n",
        "model.add(Dense(1, activation=\"sigmoid\"))"
      ],
      "execution_count": 15,
      "outputs": []
    },
    {
      "cell_type": "code",
      "metadata": {
        "id": "hZyCM1JFvvYz",
        "outputId": "d1508243-ef1c-42eb-c637-afd753db0078",
        "colab": {
          "base_uri": "https://localhost:8080/",
          "height": 357
        }
      },
      "source": [
        "model.compile(optimizer=\"rmsprop\", loss=\"binary_crossentropy\", metrics=[\"acc\"])\n",
        "model.summary()"
      ],
      "execution_count": 16,
      "outputs": [
        {
          "output_type": "stream",
          "text": [
            "Model: \"sequential_1\"\n",
            "_________________________________________________________________\n",
            "Layer (type)                 Output Shape              Param #   \n",
            "=================================================================\n",
            "embedding_1 (Embedding)      (None, None, 64)          640000    \n",
            "_________________________________________________________________\n",
            "bidirectional (Bidirectional (None, None, 128)         49920     \n",
            "_________________________________________________________________\n",
            "bidirectional_1 (Bidirection (None, 128)               74496     \n",
            "_________________________________________________________________\n",
            "dense_2 (Dense)              (None, 32)                4128      \n",
            "_________________________________________________________________\n",
            "dropout_1 (Dropout)          (None, 32)                0         \n",
            "_________________________________________________________________\n",
            "dense_3 (Dense)              (None, 1)                 33        \n",
            "=================================================================\n",
            "Total params: 768,577\n",
            "Trainable params: 768,577\n",
            "Non-trainable params: 0\n",
            "_________________________________________________________________\n"
          ],
          "name": "stdout"
        }
      ]
    },
    {
      "cell_type": "code",
      "metadata": {
        "id": "u9r5o49lvvY3",
        "outputId": "953a81db-4352-48f0-fa7f-54a05f730472",
        "colab": {
          "base_uri": "https://localhost:8080/",
          "height": 255
        }
      },
      "source": [
        "callbacks = tf.keras.callbacks.EarlyStopping(monitor=\"val_loss\", patience=5)\n",
        "model.fit(ds_train, epochs=20, validation_data=ds_val, callbacks=[callbacks]);"
      ],
      "execution_count": 17,
      "outputs": [
        {
          "output_type": "stream",
          "text": [
            "Epoch 1/20\n",
            "334/334 [==============================] - 11s 32ms/step - loss: 0.3904 - acc: 0.8155 - val_loss: 0.3236 - val_acc: 0.8635\n",
            "Epoch 2/20\n",
            "334/334 [==============================] - 10s 30ms/step - loss: 0.2463 - acc: 0.8999 - val_loss: 0.3015 - val_acc: 0.8733\n",
            "Epoch 3/20\n",
            "334/334 [==============================] - 10s 30ms/step - loss: 0.1973 - acc: 0.9223 - val_loss: 0.3186 - val_acc: 0.8714\n",
            "Epoch 4/20\n",
            "334/334 [==============================] - 10s 29ms/step - loss: 0.1664 - acc: 0.9369 - val_loss: 0.3266 - val_acc: 0.8721\n",
            "Epoch 5/20\n",
            "334/334 [==============================] - 10s 29ms/step - loss: 0.1383 - acc: 0.9464 - val_loss: 0.3471 - val_acc: 0.8718\n",
            "Epoch 6/20\n",
            "334/334 [==============================] - 10s 30ms/step - loss: 0.1164 - acc: 0.9571 - val_loss: 0.3747 - val_acc: 0.8604\n",
            "Epoch 7/20\n",
            "334/334 [==============================] - 10s 29ms/step - loss: 0.0935 - acc: 0.9658 - val_loss: 0.4478 - val_acc: 0.8531\n"
          ],
          "name": "stdout"
        }
      ]
    },
    {
      "cell_type": "code",
      "metadata": {
        "id": "ec7YMnzq-RMz",
        "outputId": "60967f9d-3eb6-4af0-ed57-74a075e7d046",
        "colab": {
          "base_uri": "https://localhost:8080/",
          "height": 51
        }
      },
      "source": [
        "model.evaluate(ds_val)"
      ],
      "execution_count": 18,
      "outputs": [
        {
          "output_type": "stream",
          "text": [
            "84/84 [==============================] - 1s 12ms/step - loss: 0.4478 - acc: 0.8531\n"
          ],
          "name": "stdout"
        },
        {
          "output_type": "execute_result",
          "data": {
            "text/plain": [
              "[0.44781693816185, 0.8530513048171997]"
            ]
          },
          "metadata": {
            "tags": []
          },
          "execution_count": 18
        }
      ]
    },
    {
      "cell_type": "markdown",
      "metadata": {
        "id": "o_ZHnYI8ncpl"
      },
      "source": [
        "### Transfer learning w. pretrained embedding"
      ]
    },
    {
      "cell_type": "code",
      "metadata": {
        "id": "atVA7Hx6AFrd"
      },
      "source": [
        "ds_train = create_tfds(tokenizer, train_data, train_labels, padding=False)\n",
        "ds_val = create_tfds(tokenizer, val_data, val_labels, padding=False)"
      ],
      "execution_count": 19,
      "outputs": []
    },
    {
      "cell_type": "code",
      "metadata": {
        "id": "Smp7hTc4SR9R",
        "outputId": "2fb8700c-1eeb-4e2d-b361-4d2dc9ff425b",
        "colab": {
          "base_uri": "https://localhost:8080/",
          "height": 289
        }
      },
      "source": [
        "import tensorflow_hub as hub\n",
        "embedding_url = \"https://tfhub.dev/google/universal-sentence-encoder/4\"\n",
        "\n",
        "model = Sequential()\n",
        "model.add(hub.KerasLayer(embedding_url, input_shape=(), dtype=tf.string, trainable=True))\n",
        "model.add(Dense(64, activation=\"swish\"))\n",
        "model.add(Dropout(0.3))\n",
        "model.add(Dense(1, activation=\"sigmoid\"))\n",
        "model.summary()"
      ],
      "execution_count": 20,
      "outputs": [
        {
          "output_type": "stream",
          "text": [
            "Model: \"sequential_2\"\n",
            "_________________________________________________________________\n",
            "Layer (type)                 Output Shape              Param #   \n",
            "=================================================================\n",
            "keras_layer (KerasLayer)     (None, 512)               256797824 \n",
            "_________________________________________________________________\n",
            "dense_4 (Dense)              (None, 64)                32832     \n",
            "_________________________________________________________________\n",
            "dropout_2 (Dropout)          (None, 64)                0         \n",
            "_________________________________________________________________\n",
            "dense_5 (Dense)              (None, 1)                 65        \n",
            "=================================================================\n",
            "Total params: 256,830,721\n",
            "Trainable params: 256,830,721\n",
            "Non-trainable params: 0\n",
            "_________________________________________________________________\n"
          ],
          "name": "stdout"
        }
      ]
    },
    {
      "cell_type": "code",
      "metadata": {
        "id": "EpK3E9TPrBct"
      },
      "source": [
        "model.compile(optimizer=\"rmsprop\", loss=\"binary_crossentropy\", metrics=[\"acc\"])"
      ],
      "execution_count": 21,
      "outputs": []
    },
    {
      "cell_type": "code",
      "metadata": {
        "id": "dP2OvjUeylmZ",
        "outputId": "02bee649-1ec8-4a86-d58a-f62778e51e56",
        "colab": {
          "base_uri": "https://localhost:8080/",
          "height": 187
        }
      },
      "source": [
        "callbacks = tf.keras.callbacks.EarlyStopping(monitor=\"val_loss\", patience=3)\n",
        "model.fit(ds_train, epochs=20, validation_data=ds_val, callbacks=[callbacks]);"
      ],
      "execution_count": 22,
      "outputs": [
        {
          "output_type": "stream",
          "text": [
            "Epoch 1/20\n",
            "334/334 [==============================] - 24s 71ms/step - loss: 0.3952 - acc: 0.8167 - val_loss: 0.3048 - val_acc: 0.8708\n",
            "Epoch 2/20\n",
            "334/334 [==============================] - 23s 70ms/step - loss: 0.2161 - acc: 0.9125 - val_loss: 0.3022 - val_acc: 0.8712\n",
            "Epoch 3/20\n",
            "334/334 [==============================] - 23s 70ms/step - loss: 0.1291 - acc: 0.9513 - val_loss: 0.3237 - val_acc: 0.8809\n",
            "Epoch 4/20\n",
            "334/334 [==============================] - 23s 70ms/step - loss: 0.0750 - acc: 0.9737 - val_loss: 0.5275 - val_acc: 0.8401\n",
            "Epoch 5/20\n",
            "334/334 [==============================] - 23s 70ms/step - loss: 0.0428 - acc: 0.9852 - val_loss: 0.4336 - val_acc: 0.8845\n"
          ],
          "name": "stdout"
        }
      ]
    },
    {
      "cell_type": "code",
      "metadata": {
        "id": "6WrGVYpFeWWH",
        "outputId": "f0907c5c-e191-40a2-a175-c2e29cc43dc0",
        "colab": {
          "base_uri": "https://localhost:8080/",
          "height": 51
        }
      },
      "source": [
        "model.evaluate(ds_val)"
      ],
      "execution_count": 23,
      "outputs": [
        {
          "output_type": "stream",
          "text": [
            "84/84 [==============================] - 1s 9ms/step - loss: 0.4336 - acc: 0.8845\n"
          ],
          "name": "stdout"
        },
        {
          "output_type": "execute_result",
          "data": {
            "text/plain": [
              "[0.4336234927177429, 0.8845002055168152]"
            ]
          },
          "metadata": {
            "tags": []
          },
          "execution_count": 23
        }
      ]
    }
  ]
}