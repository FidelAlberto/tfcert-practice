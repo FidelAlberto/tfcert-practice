{
  "nbformat": 4,
  "nbformat_minor": 0,
  "metadata": {
    "colab": {
      "name": "TXT_SarcasmDetection.ipynb",
      "provenance": [],
      "authorship_tag": "ABX9TyPy+IlvVaHaa2AxgOoxUXFe",
      "include_colab_link": true
    },
    "kernelspec": {
      "name": "python3",
      "display_name": "Python 3"
    },
    "accelerator": "GPU"
  },
  "cells": [
    {
      "cell_type": "markdown",
      "metadata": {
        "id": "view-in-github",
        "colab_type": "text"
      },
      "source": [
        "<a href=\"https://colab.research.google.com/github/btcnhung1299/tf-practice/blob/master/TXT_SarcasmDetection.ipynb\" target=\"_parent\"><img src=\"https://colab.research.google.com/assets/colab-badge.svg\" alt=\"Open In Colab\"/></a>"
      ]
    },
    {
      "cell_type": "code",
      "metadata": {
        "id": "EZdRgGWsm9En"
      },
      "source": [
        "import pandas as pd\n",
        "import tensorflow as tf\n",
        "tf.compat.v1.logging.set_verbosity(tf.compat.v1.logging.ERROR)"
      ],
      "execution_count": 1,
      "outputs": []
    },
    {
      "cell_type": "markdown",
      "metadata": {
        "id": "TkU9l69oo1q1"
      },
      "source": [
        "## Data Gathering"
      ]
    },
    {
      "cell_type": "code",
      "metadata": {
        "id": "Vs-76pZTmsRh",
        "outputId": "24611d49-35e1-40fc-bfbe-49aad97cf1df",
        "colab": {
          "base_uri": "https://localhost:8080/",
          "height": 204
        }
      },
      "source": [
        "!wget https://storage.googleapis.com/laurencemoroney-blog.appspot.com/sarcasm.json"
      ],
      "execution_count": 2,
      "outputs": [
        {
          "output_type": "stream",
          "text": [
            "--2020-09-27 10:34:42--  https://storage.googleapis.com/laurencemoroney-blog.appspot.com/sarcasm.json\n",
            "Resolving storage.googleapis.com (storage.googleapis.com)... 74.125.24.128, 172.217.194.128, 2404:6800:4003:c04::80\n",
            "Connecting to storage.googleapis.com (storage.googleapis.com)|74.125.24.128|:443... connected.\n",
            "HTTP request sent, awaiting response... 200 OK\n",
            "Length: 5643545 (5.4M) [application/json]\n",
            "Saving to: ‘sarcasm.json’\n",
            "\n",
            "sarcasm.json        100%[===================>]   5.38M  --.-KB/s    in 0.05s   \n",
            "\n",
            "2020-09-27 10:34:43 (109 MB/s) - ‘sarcasm.json’ saved [5643545/5643545]\n",
            "\n"
          ],
          "name": "stdout"
        }
      ]
    },
    {
      "cell_type": "code",
      "metadata": {
        "id": "vj9sbCXcnJFg",
        "outputId": "74b04576-bd87-4a62-c90d-d135ef421fad",
        "colab": {
          "base_uri": "https://localhost:8080/",
          "height": 204
        }
      },
      "source": [
        "df = pd.read_json(\"./sarcasm.json\")\n",
        "df.head()"
      ],
      "execution_count": 3,
      "outputs": [
        {
          "output_type": "execute_result",
          "data": {
            "text/html": [
              "<div>\n",
              "<style scoped>\n",
              "    .dataframe tbody tr th:only-of-type {\n",
              "        vertical-align: middle;\n",
              "    }\n",
              "\n",
              "    .dataframe tbody tr th {\n",
              "        vertical-align: top;\n",
              "    }\n",
              "\n",
              "    .dataframe thead th {\n",
              "        text-align: right;\n",
              "    }\n",
              "</style>\n",
              "<table border=\"1\" class=\"dataframe\">\n",
              "  <thead>\n",
              "    <tr style=\"text-align: right;\">\n",
              "      <th></th>\n",
              "      <th>article_link</th>\n",
              "      <th>headline</th>\n",
              "      <th>is_sarcastic</th>\n",
              "    </tr>\n",
              "  </thead>\n",
              "  <tbody>\n",
              "    <tr>\n",
              "      <th>0</th>\n",
              "      <td>https://www.huffingtonpost.com/entry/versace-b...</td>\n",
              "      <td>former versace store clerk sues over secret 'b...</td>\n",
              "      <td>0</td>\n",
              "    </tr>\n",
              "    <tr>\n",
              "      <th>1</th>\n",
              "      <td>https://www.huffingtonpost.com/entry/roseanne-...</td>\n",
              "      <td>the 'roseanne' revival catches up to our thorn...</td>\n",
              "      <td>0</td>\n",
              "    </tr>\n",
              "    <tr>\n",
              "      <th>2</th>\n",
              "      <td>https://local.theonion.com/mom-starting-to-fea...</td>\n",
              "      <td>mom starting to fear son's web series closest ...</td>\n",
              "      <td>1</td>\n",
              "    </tr>\n",
              "    <tr>\n",
              "      <th>3</th>\n",
              "      <td>https://politics.theonion.com/boehner-just-wan...</td>\n",
              "      <td>boehner just wants wife to listen, not come up...</td>\n",
              "      <td>1</td>\n",
              "    </tr>\n",
              "    <tr>\n",
              "      <th>4</th>\n",
              "      <td>https://www.huffingtonpost.com/entry/jk-rowlin...</td>\n",
              "      <td>j.k. rowling wishes snape happy birthday in th...</td>\n",
              "      <td>0</td>\n",
              "    </tr>\n",
              "  </tbody>\n",
              "</table>\n",
              "</div>"
            ],
            "text/plain": [
              "                                        article_link  ... is_sarcastic\n",
              "0  https://www.huffingtonpost.com/entry/versace-b...  ...            0\n",
              "1  https://www.huffingtonpost.com/entry/roseanne-...  ...            0\n",
              "2  https://local.theonion.com/mom-starting-to-fea...  ...            1\n",
              "3  https://politics.theonion.com/boehner-just-wan...  ...            1\n",
              "4  https://www.huffingtonpost.com/entry/jk-rowlin...  ...            0\n",
              "\n",
              "[5 rows x 3 columns]"
            ]
          },
          "metadata": {
            "tags": []
          },
          "execution_count": 3
        }
      ]
    },
    {
      "cell_type": "code",
      "metadata": {
        "id": "qbc4Ti0LXe9z",
        "outputId": "db4b6f4e-56aa-4d95-a1f2-19283af301bd",
        "colab": {
          "base_uri": "https://localhost:8080/",
          "height": 262
        }
      },
      "source": [
        "df[\"is_sarcastic\"].value_counts().plot(kind=\"bar\");"
      ],
      "execution_count": 4,
      "outputs": [
        {
          "output_type": "display_data",
          "data": {
            "image/png": "[encoded data removed]",
            "text/plain": [
              "<Figure size 432x288 with 1 Axes>"
            ]
          },
          "metadata": {
            "tags": [],
            "needs_background": "light"
          }
        }
      ]
    },
    {
      "cell_type": "code",
      "metadata": {
        "id": "lApGygTzntUY"
      },
      "source": [
        "texts = df[\"headline\"].values\n",
        "labels = df[\"is_sarcastic\"].values"
      ],
      "execution_count": 5,
      "outputs": []
    },
    {
      "cell_type": "markdown",
      "metadata": {
        "id": "gjERKAMUo8AB"
      },
      "source": [
        "## Data Preparation"
      ]
    },
    {
      "cell_type": "markdown",
      "metadata": {
        "id": "vg4xkMvgo_S2"
      },
      "source": [
        "### Tokenization"
      ]
    },
    {
      "cell_type": "code",
      "metadata": {
        "id": "byYH4g0vnTKj"
      },
      "source": [
        "from tensorflow.keras.preprocessing.text import Tokenizer\n",
        "from tensorflow.keras.preprocessing.sequence import pad_sequences"
      ],
      "execution_count": 6,
      "outputs": []
    },
    {
      "cell_type": "code",
      "metadata": {
        "id": "0ouv7DK0ngf4"
      },
      "source": [
        "VOCAB_SIZE = 10000\n",
        "tokenizer = Tokenizer(VOCAB_SIZE, oov_token=\"<OOV>\")\n",
        "tokenizer.fit_on_texts(texts)"
      ],
      "execution_count": 7,
      "outputs": []
    },
    {
      "cell_type": "markdown",
      "metadata": {
        "id": "QI6zH401pCV7"
      },
      "source": [
        "### Create samples"
      ]
    },
    {
      "cell_type": "code",
      "metadata": {
        "id": "9KlQZCFzoSCc",
        "outputId": "5c821d95-09c0-4443-de06-de8534ac4112",
        "colab": {
          "base_uri": "https://localhost:8080/",
          "height": 170
        }
      },
      "source": [
        "df[\"headline\"].apply(lambda x : len(x)).describe()"
      ],
      "execution_count": 8,
      "outputs": [
        {
          "output_type": "execute_result",
          "data": {
            "text/plain": [
              "count    26709.000000\n",
              "mean        60.910629\n",
              "std         19.184423\n",
              "min          7.000000\n",
              "25%         48.000000\n",
              "50%         61.000000\n",
              "75%         73.000000\n",
              "max        254.000000\n",
              "Name: headline, dtype: float64"
            ]
          },
          "metadata": {
            "tags": []
          },
          "execution_count": 8
        }
      ]
    },
    {
      "cell_type": "code",
      "metadata": {
        "id": "05AAweA1n0jj"
      },
      "source": [
        "MAX_SEQ_LEN = 128\n",
        "BUFFER_SIZE = 1024\n",
        "\n",
        "text_ids = pad_sequences(tokenizer.texts_to_sequences(texts), maxlen=MAX_SEQ_LEN, padding=\"post\")\n",
        "samples = tf.data.Dataset.from_tensor_slices((text_ids, labels)).shuffle(BUFFER_SIZE)"
      ],
      "execution_count": 9,
      "outputs": []
    },
    {
      "cell_type": "markdown",
      "metadata": {
        "id": "WaA86IjvpEHy"
      },
      "source": [
        "### Create dataset"
      ]
    },
    {
      "cell_type": "code",
      "metadata": {
        "id": "f17XzDWXn5iJ",
        "outputId": "67c2e6a1-f15b-4c60-ea61-cc8e054abeca",
        "colab": {
          "base_uri": "https://localhost:8080/",
          "height": 51
        }
      },
      "source": [
        "BATCH_SIZE = 64\n",
        "\n",
        "test_size = 0.2\n",
        "num_samples = sum(1 for x in samples)\n",
        "num_train_samples = int((1 - test_size) * num_samples)\n",
        "print(\"Number of training samples:\", num_train_samples)\n",
        "print(\"Number of validation samples:\", num_samples - num_train_samples)\n",
        "ds_train = samples.take(num_train_samples).batch(BATCH_SIZE)\n",
        "ds_val = samples.skip(num_train_samples).batch(BATCH_SIZE)"
      ],
      "execution_count": 10,
      "outputs": [
        {
          "output_type": "stream",
          "text": [
            "Number of training samples: 21367\n",
            "Number of validation samples: 5342\n"
          ],
          "name": "stdout"
        }
      ]
    },
    {
      "cell_type": "markdown",
      "metadata": {
        "id": "LFD4DteZpHNW"
      },
      "source": [
        "## Model Architecture"
      ]
    },
    {
      "cell_type": "code",
      "metadata": {
        "id": "xkSiZ9jPpV6S",
        "outputId": "ca7ae885-71b0-47d7-982f-a787746c7e51",
        "colab": {
          "base_uri": "https://localhost:8080/",
          "height": 323
        }
      },
      "source": [
        "from tensorflow.keras.models import Sequential\n",
        "from tensorflow.keras.layers import Embedding, Dropout, GlobalAveragePooling1D, Dense\n",
        "\n",
        "EMBED_DIM = 64\n",
        "\n",
        "model = Sequential()\n",
        "model.add(Embedding(input_dim=VOCAB_SIZE, output_dim=EMBED_DIM))\n",
        "model.add(GlobalAveragePooling1D())\n",
        "model.add(Dense(64, activation=\"swish\"))\n",
        "model.add(Dropout(0.3))\n",
        "model.add(Dense(1, activation=\"sigmoid\"))\n",
        "model.summary()"
      ],
      "execution_count": 11,
      "outputs": [
        {
          "output_type": "stream",
          "text": [
            "Model: \"sequential\"\n",
            "_________________________________________________________________\n",
            "Layer (type)                 Output Shape              Param #   \n",
            "=================================================================\n",
            "embedding (Embedding)        (None, None, 64)          640000    \n",
            "_________________________________________________________________\n",
            "global_average_pooling1d (Gl (None, 64)                0         \n",
            "_________________________________________________________________\n",
            "dense (Dense)                (None, 64)                4160      \n",
            "_________________________________________________________________\n",
            "dropout (Dropout)            (None, 64)                0         \n",
            "_________________________________________________________________\n",
            "dense_1 (Dense)              (None, 1)                 65        \n",
            "=================================================================\n",
            "Total params: 644,225\n",
            "Trainable params: 644,225\n",
            "Non-trainable params: 0\n",
            "_________________________________________________________________\n"
          ],
          "name": "stdout"
        }
      ]
    },
    {
      "cell_type": "code",
      "metadata": {
        "id": "KmmkS5-RpyE9"
      },
      "source": [
        "model.compile(optimizer=\"rmsprop\", loss=\"binary_crossentropy\", metrics=[\"acc\"])"
      ],
      "execution_count": 12,
      "outputs": []
    },
    {
      "cell_type": "code",
      "metadata": {
        "id": "9PqJhlA6qVUK",
        "outputId": "f3e3e316-e408-4768-bae9-138a33fcee29",
        "colab": {
          "base_uri": "https://localhost:8080/",
          "height": 697
        }
      },
      "source": [
        "model.fit(ds_train, epochs=20, validation_data=ds_val);"
      ],
      "execution_count": 13,
      "outputs": [
        {
          "output_type": "stream",
          "text": [
            "Epoch 1/20\n",
            "334/334 [==============================] - 2s 7ms/step - loss: 0.6727 - acc: 0.5687 - val_loss: 0.6264 - val_acc: 0.7583\n",
            "Epoch 2/20\n",
            "334/334 [==============================] - 2s 7ms/step - loss: 0.5114 - acc: 0.7805 - val_loss: 0.4456 - val_acc: 0.8021\n",
            "Epoch 3/20\n",
            "334/334 [==============================] - 2s 7ms/step - loss: 0.3792 - acc: 0.8367 - val_loss: 0.3728 - val_acc: 0.8403\n",
            "Epoch 4/20\n",
            "334/334 [==============================] - 2s 7ms/step - loss: 0.3327 - acc: 0.8591 - val_loss: 0.3512 - val_acc: 0.8547\n",
            "Epoch 5/20\n",
            "334/334 [==============================] - 2s 7ms/step - loss: 0.3045 - acc: 0.8717 - val_loss: 0.3444 - val_acc: 0.8562\n",
            "Epoch 6/20\n",
            "334/334 [==============================] - 2s 7ms/step - loss: 0.2819 - acc: 0.8829 - val_loss: 0.3418 - val_acc: 0.8560\n",
            "Epoch 7/20\n",
            "334/334 [==============================] - 2s 7ms/step - loss: 0.2681 - acc: 0.8888 - val_loss: 0.3557 - val_acc: 0.8493\n",
            "Epoch 8/20\n",
            "334/334 [==============================] - 2s 7ms/step - loss: 0.2576 - acc: 0.8944 - val_loss: 0.3837 - val_acc: 0.8355\n",
            "Epoch 9/20\n",
            "334/334 [==============================] - 2s 7ms/step - loss: 0.2476 - acc: 0.8990 - val_loss: 0.3342 - val_acc: 0.8630\n",
            "Epoch 10/20\n",
            "334/334 [==============================] - 2s 7ms/step - loss: 0.2384 - acc: 0.9038 - val_loss: 0.3534 - val_acc: 0.8542\n",
            "Epoch 11/20\n",
            "334/334 [==============================] - 2s 6ms/step - loss: 0.2336 - acc: 0.9043 - val_loss: 0.3378 - val_acc: 0.8633\n",
            "Epoch 12/20\n",
            "334/334 [==============================] - 2s 7ms/step - loss: 0.2304 - acc: 0.9087 - val_loss: 0.3394 - val_acc: 0.8611\n",
            "Epoch 13/20\n",
            "334/334 [==============================] - 2s 7ms/step - loss: 0.2247 - acc: 0.9109 - val_loss: 0.3512 - val_acc: 0.8566\n",
            "Epoch 14/20\n",
            "334/334 [==============================] - 2s 7ms/step - loss: 0.2200 - acc: 0.9132 - val_loss: 0.3617 - val_acc: 0.8536\n",
            "Epoch 15/20\n",
            "334/334 [==============================] - 2s 7ms/step - loss: 0.2183 - acc: 0.9118 - val_loss: 0.3406 - val_acc: 0.8617\n",
            "Epoch 16/20\n",
            "334/334 [==============================] - 2s 6ms/step - loss: 0.2135 - acc: 0.9161 - val_loss: 0.3885 - val_acc: 0.8433\n",
            "Epoch 17/20\n",
            "334/334 [==============================] - 2s 7ms/step - loss: 0.2110 - acc: 0.9155 - val_loss: 0.3761 - val_acc: 0.8493\n",
            "Epoch 18/20\n",
            "334/334 [==============================] - 2s 6ms/step - loss: 0.2080 - acc: 0.9167 - val_loss: 0.3659 - val_acc: 0.8529\n",
            "Epoch 19/20\n",
            "334/334 [==============================] - 2s 6ms/step - loss: 0.2075 - acc: 0.9186 - val_loss: 0.3501 - val_acc: 0.8587\n",
            "Epoch 20/20\n",
            "334/334 [==============================] - 2s 6ms/step - loss: 0.2027 - acc: 0.9212 - val_loss: 0.3691 - val_acc: 0.8560\n"
          ],
          "name": "stdout"
        }
      ]
    },
    {
      "cell_type": "code",
      "metadata": {
        "id": "durturicqZhL",
        "outputId": "359717dc-80c6-47a0-9917-de109a751133",
        "colab": {
          "base_uri": "https://localhost:8080/",
          "height": 51
        }
      },
      "source": [
        "model.evaluate(ds_val)"
      ],
      "execution_count": 14,
      "outputs": [
        {
          "output_type": "stream",
          "text": [
            "84/84 [==============================] - 0s 2ms/step - loss: 0.3700 - acc: 0.8560\n"
          ],
          "name": "stdout"
        },
        {
          "output_type": "execute_result",
          "data": {
            "text/plain": [
              "[0.3700163662433624, 0.8560464382171631]"
            ]
          },
          "metadata": {
            "tags": []
          },
          "execution_count": 14
        }
      ]
    },
    {
      "cell_type": "markdown",
      "metadata": {
        "id": "2UNcclk4vplT"
      },
      "source": [
        "### RNN"
      ]
    },
    {
      "cell_type": "code",
      "metadata": {
        "id": "kqkcCp0svvYj"
      },
      "source": [
        "from tensorflow.keras.models import Sequential\n",
        "from tensorflow.keras.layers import Embedding, Bidirectional, LSTM, GRU, Dropout, Dense, SpatialDropout1D\n",
        "\n",
        "EMBED_DIM = 64\n",
        "\n",
        "model = Sequential()\n",
        "model.add(Embedding(input_dim=VOCAB_SIZE, output_dim=EMBED_DIM))\n",
        "model.add(Bidirectional(GRU(64, return_sequences=True)))\n",
        "model.add(Bidirectional(GRU(32)))\n",
        "model.add(Dense(64, activation=\"swish\"))\n",
        "model.add(Dropout(0.4))\n",
        "model.add(Dense(1, activation=\"sigmoid\"))"
      ],
      "execution_count": 15,
      "outputs": []
    },
    {
      "cell_type": "code",
      "metadata": {
        "id": "hZyCM1JFvvYz",
        "outputId": "8199df27-6ced-46a9-c9da-b636c7675f82",
        "colab": {
          "base_uri": "https://localhost:8080/",
          "height": 357
        }
      },
      "source": [
        "model.compile(optimizer=\"rmsprop\", loss=\"binary_crossentropy\", metrics=[\"acc\"])\n",
        "model.summary()"
      ],
      "execution_count": 16,
      "outputs": [
        {
          "output_type": "stream",
          "text": [
            "Model: \"sequential_1\"\n",
            "_________________________________________________________________\n",
            "Layer (type)                 Output Shape              Param #   \n",
            "=================================================================\n",
            "embedding_1 (Embedding)      (None, None, 64)          640000    \n",
            "_________________________________________________________________\n",
            "bidirectional (Bidirectional (None, None, 128)         49920     \n",
            "_________________________________________________________________\n",
            "bidirectional_1 (Bidirection (None, 64)                31104     \n",
            "_________________________________________________________________\n",
            "dense_2 (Dense)              (None, 64)                4160      \n",
            "_________________________________________________________________\n",
            "dropout_1 (Dropout)          (None, 64)                0         \n",
            "_________________________________________________________________\n",
            "dense_3 (Dense)              (None, 1)                 65        \n",
            "=================================================================\n",
            "Total params: 725,249\n",
            "Trainable params: 725,249\n",
            "Non-trainable params: 0\n",
            "_________________________________________________________________\n"
          ],
          "name": "stdout"
        }
      ]
    },
    {
      "cell_type": "code",
      "metadata": {
        "id": "u9r5o49lvvY3",
        "outputId": "5b4a97ae-fe89-4c18-8c16-f0f379eba9e5",
        "colab": {
          "base_uri": "https://localhost:8080/",
          "height": 357
        }
      },
      "source": [
        "model.fit(ds_train, epochs=10, validation_data=ds_val);"
      ],
      "execution_count": 17,
      "outputs": [
        {
          "output_type": "stream",
          "text": [
            "Epoch 1/10\n",
            "334/334 [==============================] - 12s 35ms/step - loss: 0.3905 - acc: 0.8148 - val_loss: 0.3266 - val_acc: 0.8602\n",
            "Epoch 2/10\n",
            "334/334 [==============================] - 11s 32ms/step - loss: 0.2498 - acc: 0.8961 - val_loss: 0.2964 - val_acc: 0.8721\n",
            "Epoch 3/10\n",
            "334/334 [==============================] - 10s 31ms/step - loss: 0.2043 - acc: 0.9185 - val_loss: 0.2915 - val_acc: 0.8748\n",
            "Epoch 4/10\n",
            "334/334 [==============================] - 10s 31ms/step - loss: 0.1734 - acc: 0.9325 - val_loss: 0.3074 - val_acc: 0.8735\n",
            "Epoch 5/10\n",
            "334/334 [==============================] - 10s 31ms/step - loss: 0.1475 - acc: 0.9440 - val_loss: 0.3058 - val_acc: 0.8744\n",
            "Epoch 6/10\n",
            "334/334 [==============================] - 10s 31ms/step - loss: 0.1271 - acc: 0.9534 - val_loss: 0.3152 - val_acc: 0.8763\n",
            "Epoch 7/10\n",
            "334/334 [==============================] - 10s 31ms/step - loss: 0.1101 - acc: 0.9604 - val_loss: 0.3214 - val_acc: 0.8787\n",
            "Epoch 8/10\n",
            "334/334 [==============================] - 10s 31ms/step - loss: 0.0932 - acc: 0.9657 - val_loss: 0.3416 - val_acc: 0.8744\n",
            "Epoch 9/10\n",
            "334/334 [==============================] - 10s 31ms/step - loss: 0.0813 - acc: 0.9708 - val_loss: 0.3447 - val_acc: 0.8720\n",
            "Epoch 10/10\n",
            "334/334 [==============================] - 10s 31ms/step - loss: 0.0686 - acc: 0.9758 - val_loss: 0.3945 - val_acc: 0.8727\n"
          ],
          "name": "stdout"
        }
      ]
    },
    {
      "cell_type": "code",
      "metadata": {
        "id": "ec7YMnzq-RMz",
        "outputId": "054ccded-7080-4965-c4ea-78eff53afc7d",
        "colab": {
          "base_uri": "https://localhost:8080/",
          "height": 51
        }
      },
      "source": [
        "model.evaluate(ds_val)"
      ],
      "execution_count": 18,
      "outputs": [
        {
          "output_type": "stream",
          "text": [
            "84/84 [==============================] - 1s 11ms/step - loss: 0.3912 - acc: 0.8735\n"
          ],
          "name": "stdout"
        },
        {
          "output_type": "execute_result",
          "data": {
            "text/plain": [
              "[0.39116621017456055, 0.8734556436538696]"
            ]
          },
          "metadata": {
            "tags": []
          },
          "execution_count": 18
        }
      ]
    },
    {
      "cell_type": "markdown",
      "metadata": {
        "id": "o_ZHnYI8ncpl"
      },
      "source": [
        "### Transfer learning w. pretrained embedding"
      ]
    },
    {
      "cell_type": "markdown",
      "metadata": {
        "id": "RSpXv4P8nbi9"
      },
      "source": [
        "*Train and test set is not the same for each approach :(*"
      ]
    },
    {
      "cell_type": "code",
      "metadata": {
        "id": "atVA7Hx6AFrd"
      },
      "source": [
        "BATCH_SIZE = 32\n",
        "BUFFER_SIZE = 1024\n",
        "\n",
        "samples = tf.data.Dataset.from_tensor_slices((texts, labels)).shuffle(BUFFER_SIZE)\n",
        "num_samples = sum(1 for x in samples)\n",
        "test_size = 0.2\n",
        "num_train_samples = int((1 - test_size) * num_samples)\n",
        "\n",
        "ds_train = samples.take(num_train_samples).batch(BATCH_SIZE)\n",
        "ds_val = samples.skip(num_train_samples).batch(BATCH_SIZE)"
      ],
      "execution_count": 19,
      "outputs": []
    },
    {
      "cell_type": "code",
      "metadata": {
        "id": "Smp7hTc4SR9R",
        "outputId": "efbb7dff-544b-4d09-bdce-a4127ce679de",
        "colab": {
          "base_uri": "https://localhost:8080/",
          "height": 289
        }
      },
      "source": [
        "import tensorflow_hub as hub\n",
        "embedding_url = \"https://tfhub.dev/google/universal-sentence-encoder/4\"\n",
        "\n",
        "model = Sequential()\n",
        "model.add(hub.KerasLayer(embedding_url, input_shape=(), dtype=tf.string, trainable=True))\n",
        "model.add(Dense(64, activation=\"swish\"))\n",
        "model.add(Dropout(0.3))\n",
        "model.add(Dense(1, activation=\"sigmoid\"))\n",
        "model.summary()"
      ],
      "execution_count": 23,
      "outputs": [
        {
          "output_type": "stream",
          "text": [
            "Model: \"sequential_3\"\n",
            "_________________________________________________________________\n",
            "Layer (type)                 Output Shape              Param #   \n",
            "=================================================================\n",
            "keras_layer_1 (KerasLayer)   (None, 512)               256797824 \n",
            "_________________________________________________________________\n",
            "dense_6 (Dense)              (None, 64)                32832     \n",
            "_________________________________________________________________\n",
            "dropout_3 (Dropout)          (None, 64)                0         \n",
            "_________________________________________________________________\n",
            "dense_7 (Dense)              (None, 1)                 65        \n",
            "=================================================================\n",
            "Total params: 256,830,721\n",
            "Trainable params: 256,830,721\n",
            "Non-trainable params: 0\n",
            "_________________________________________________________________\n"
          ],
          "name": "stdout"
        }
      ]
    },
    {
      "cell_type": "code",
      "metadata": {
        "id": "EpK3E9TPrBct",
        "outputId": "620f81c6-e39b-40d5-bd25-6cffd679a4da",
        "colab": {
          "base_uri": "https://localhost:8080/",
          "height": 153
        }
      },
      "source": [
        "model.compile(optimizer=\"rmsprop\", loss=\"binary_crossentropy\", metrics=[\"acc\"])\n",
        "model.fit(ds_train, epochs=4, validation_data=ds_val);"
      ],
      "execution_count": 24,
      "outputs": [
        {
          "output_type": "stream",
          "text": [
            "Epoch 1/4\n",
            "668/668 [==============================] - 65s 97ms/step - loss: 0.3851 - acc: 0.8263 - val_loss: 0.2874 - val_acc: 0.8798\n",
            "Epoch 2/4\n",
            "668/668 [==============================] - 65s 97ms/step - loss: 0.2150 - acc: 0.9155 - val_loss: 0.2613 - val_acc: 0.8918\n",
            "Epoch 3/4\n",
            "668/668 [==============================] - 65s 98ms/step - loss: 0.1363 - acc: 0.9482 - val_loss: 0.2645 - val_acc: 0.8884\n",
            "Epoch 4/4\n",
            "668/668 [==============================] - 65s 97ms/step - loss: 0.0895 - acc: 0.9680 - val_loss: 0.2551 - val_acc: 0.8957\n"
          ],
          "name": "stdout"
        }
      ]
    },
    {
      "cell_type": "code",
      "metadata": {
        "id": "6WrGVYpFeWWH",
        "outputId": "a8249127-eee4-409f-806c-890e62a045ca",
        "colab": {
          "base_uri": "https://localhost:8080/",
          "height": 51
        }
      },
      "source": [
        "model.evaluate(ds_val)"
      ],
      "execution_count": 26,
      "outputs": [
        {
          "output_type": "stream",
          "text": [
            "167/167 [==============================] - 1s 8ms/step - loss: 0.2557 - acc: 0.8970\n"
          ],
          "name": "stdout"
        },
        {
          "output_type": "execute_result",
          "data": {
            "text/plain": [
              "[0.255685418844223, 0.8970423340797424]"
            ]
          },
          "metadata": {
            "tags": []
          },
          "execution_count": 26
        }
      ]
    }
  ]
}