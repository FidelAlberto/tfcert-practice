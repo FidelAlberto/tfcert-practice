{
  "nbformat": 4,
  "nbformat_minor": 0,
  "metadata": {
    "colab": {
      "name": "TXT_SarcasmDetection.ipynb",
      "provenance": [],
      "authorship_tag": "ABX9TyOyP9Powz2BhnjcGJKlt5Fc",
      "include_colab_link": true
    },
    "kernelspec": {
      "name": "python3",
      "display_name": "Python 3"
    },
    "accelerator": "GPU"
  },
  "cells": [
    {
      "cell_type": "markdown",
      "metadata": {
        "id": "view-in-github",
        "colab_type": "text"
      },
      "source": [
        "<a href=\"https://colab.research.google.com/github/btcnhung1299/tf-practice/blob/master/TXT_SarcasmDetection.ipynb\" target=\"_parent\"><img src=\"https://colab.research.google.com/assets/colab-badge.svg\" alt=\"Open In Colab\"/></a>"
      ]
    },
    {
      "cell_type": "code",
      "metadata": {
        "id": "EZdRgGWsm9En"
      },
      "source": [
        "import pandas as pd\n",
        "import tensorflow as tf\n",
        "tf.compat.v1.logging.set_verbosity(tf.compat.v1.logging.ERROR)"
      ],
      "execution_count": 1,
      "outputs": []
    },
    {
      "cell_type": "markdown",
      "metadata": {
        "id": "TkU9l69oo1q1"
      },
      "source": [
        "## Data Gathering"
      ]
    },
    {
      "cell_type": "code",
      "metadata": {
        "id": "Vs-76pZTmsRh",
        "outputId": "d98c744f-0ebd-4345-c416-0f781c824039",
        "colab": {
          "base_uri": "https://localhost:8080/",
          "height": 204
        }
      },
      "source": [
        "!wget https://storage.googleapis.com/laurencemoroney-blog.appspot.com/sarcasm.json"
      ],
      "execution_count": 2,
      "outputs": [
        {
          "output_type": "stream",
          "text": [
            "--2020-09-27 08:09:01--  https://storage.googleapis.com/laurencemoroney-blog.appspot.com/sarcasm.json\n",
            "Resolving storage.googleapis.com (storage.googleapis.com)... 108.177.111.128, 74.125.126.128, 173.194.195.128, ...\n",
            "Connecting to storage.googleapis.com (storage.googleapis.com)|108.177.111.128|:443... connected.\n",
            "HTTP request sent, awaiting response... 200 OK\n",
            "Length: 5643545 (5.4M) [application/json]\n",
            "Saving to: ‘sarcasm.json’\n",
            "\n",
            "sarcasm.json        100%[===================>]   5.38M  --.-KB/s    in 0.06s   \n",
            "\n",
            "2020-09-27 08:09:01 (86.7 MB/s) - ‘sarcasm.json’ saved [5643545/5643545]\n",
            "\n"
          ],
          "name": "stdout"
        }
      ]
    },
    {
      "cell_type": "code",
      "metadata": {
        "id": "vj9sbCXcnJFg",
        "outputId": "6abcef7f-35cd-449b-89e1-c18c8eab7d2a",
        "colab": {
          "base_uri": "https://localhost:8080/",
          "height": 204
        }
      },
      "source": [
        "df = pd.read_json(\"./sarcasm.json\")\n",
        "df.head()"
      ],
      "execution_count": 3,
      "outputs": [
        {
          "output_type": "execute_result",
          "data": {
            "text/html": [
              "<div>\n",
              "<style scoped>\n",
              "    .dataframe tbody tr th:only-of-type {\n",
              "        vertical-align: middle;\n",
              "    }\n",
              "\n",
              "    .dataframe tbody tr th {\n",
              "        vertical-align: top;\n",
              "    }\n",
              "\n",
              "    .dataframe thead th {\n",
              "        text-align: right;\n",
              "    }\n",
              "</style>\n",
              "<table border=\"1\" class=\"dataframe\">\n",
              "  <thead>\n",
              "    <tr style=\"text-align: right;\">\n",
              "      <th></th>\n",
              "      <th>article_link</th>\n",
              "      <th>headline</th>\n",
              "      <th>is_sarcastic</th>\n",
              "    </tr>\n",
              "  </thead>\n",
              "  <tbody>\n",
              "    <tr>\n",
              "      <th>0</th>\n",
              "      <td>https://www.huffingtonpost.com/entry/versace-b...</td>\n",
              "      <td>former versace store clerk sues over secret 'b...</td>\n",
              "      <td>0</td>\n",
              "    </tr>\n",
              "    <tr>\n",
              "      <th>1</th>\n",
              "      <td>https://www.huffingtonpost.com/entry/roseanne-...</td>\n",
              "      <td>the 'roseanne' revival catches up to our thorn...</td>\n",
              "      <td>0</td>\n",
              "    </tr>\n",
              "    <tr>\n",
              "      <th>2</th>\n",
              "      <td>https://local.theonion.com/mom-starting-to-fea...</td>\n",
              "      <td>mom starting to fear son's web series closest ...</td>\n",
              "      <td>1</td>\n",
              "    </tr>\n",
              "    <tr>\n",
              "      <th>3</th>\n",
              "      <td>https://politics.theonion.com/boehner-just-wan...</td>\n",
              "      <td>boehner just wants wife to listen, not come up...</td>\n",
              "      <td>1</td>\n",
              "    </tr>\n",
              "    <tr>\n",
              "      <th>4</th>\n",
              "      <td>https://www.huffingtonpost.com/entry/jk-rowlin...</td>\n",
              "      <td>j.k. rowling wishes snape happy birthday in th...</td>\n",
              "      <td>0</td>\n",
              "    </tr>\n",
              "  </tbody>\n",
              "</table>\n",
              "</div>"
            ],
            "text/plain": [
              "                                        article_link  ... is_sarcastic\n",
              "0  https://www.huffingtonpost.com/entry/versace-b...  ...            0\n",
              "1  https://www.huffingtonpost.com/entry/roseanne-...  ...            0\n",
              "2  https://local.theonion.com/mom-starting-to-fea...  ...            1\n",
              "3  https://politics.theonion.com/boehner-just-wan...  ...            1\n",
              "4  https://www.huffingtonpost.com/entry/jk-rowlin...  ...            0\n",
              "\n",
              "[5 rows x 3 columns]"
            ]
          },
          "metadata": {
            "tags": []
          },
          "execution_count": 3
        }
      ]
    },
    {
      "cell_type": "code",
      "metadata": {
        "id": "qbc4Ti0LXe9z",
        "outputId": "f54950e4-301e-43f3-c531-81d2a6ccd88d",
        "colab": {
          "base_uri": "https://localhost:8080/",
          "height": 262
        }
      },
      "source": [
        "df[\"is_sarcastic\"].value_counts().plot(kind=\"bar\");"
      ],
      "execution_count": 4,
      "outputs": [
        {
          "output_type": "display_data",
          "data": {
            "image/png": "[encoded data removed]",
            "text/plain": [
              "<Figure size 432x288 with 1 Axes>"
            ]
          },
          "metadata": {
            "tags": [],
            "needs_background": "light"
          }
        }
      ]
    },
    {
      "cell_type": "code",
      "metadata": {
        "id": "lApGygTzntUY"
      },
      "source": [
        "texts = df[\"headline\"].values\n",
        "labels = df[\"is_sarcastic\"].values"
      ],
      "execution_count": 5,
      "outputs": []
    },
    {
      "cell_type": "markdown",
      "metadata": {
        "id": "gjERKAMUo8AB"
      },
      "source": [
        "## Data Preparation"
      ]
    },
    {
      "cell_type": "markdown",
      "metadata": {
        "id": "vg4xkMvgo_S2"
      },
      "source": [
        "### Tokenization"
      ]
    },
    {
      "cell_type": "code",
      "metadata": {
        "id": "byYH4g0vnTKj"
      },
      "source": [
        "from tensorflow.keras.preprocessing.text import Tokenizer\n",
        "from tensorflow.keras.preprocessing.sequence import pad_sequences"
      ],
      "execution_count": 6,
      "outputs": []
    },
    {
      "cell_type": "code",
      "metadata": {
        "id": "0ouv7DK0ngf4"
      },
      "source": [
        "VOCAB_SIZE = 10000\n",
        "tokenizer = Tokenizer(VOCAB_SIZE, oov_token=\"<OOV>\")\n",
        "tokenizer.fit_on_texts(texts)"
      ],
      "execution_count": 7,
      "outputs": []
    },
    {
      "cell_type": "markdown",
      "metadata": {
        "id": "QI6zH401pCV7"
      },
      "source": [
        "### Create samples"
      ]
    },
    {
      "cell_type": "code",
      "metadata": {
        "id": "9KlQZCFzoSCc",
        "outputId": "4f492089-e441-4a57-9179-860050fc2d71",
        "colab": {
          "base_uri": "https://localhost:8080/",
          "height": 170
        }
      },
      "source": [
        "df[\"headline\"].apply(lambda x : len(x)).describe()"
      ],
      "execution_count": 8,
      "outputs": [
        {
          "output_type": "execute_result",
          "data": {
            "text/plain": [
              "count    26709.000000\n",
              "mean        60.910629\n",
              "std         19.184423\n",
              "min          7.000000\n",
              "25%         48.000000\n",
              "50%         61.000000\n",
              "75%         73.000000\n",
              "max        254.000000\n",
              "Name: headline, dtype: float64"
            ]
          },
          "metadata": {
            "tags": []
          },
          "execution_count": 8
        }
      ]
    },
    {
      "cell_type": "code",
      "metadata": {
        "id": "05AAweA1n0jj"
      },
      "source": [
        "MAX_SEQ_LEN = 128\n",
        "BUFFER_SIZE = 1024\n",
        "\n",
        "text_ids = pad_sequences(tokenizer.texts_to_sequences(texts), maxlen=MAX_SEQ_LEN, padding=\"post\")\n",
        "samples = tf.data.Dataset.from_tensor_slices((text_ids, labels)).shuffle(BUFFER_SIZE)"
      ],
      "execution_count": 9,
      "outputs": []
    },
    {
      "cell_type": "markdown",
      "metadata": {
        "id": "WaA86IjvpEHy"
      },
      "source": [
        "### Create dataset"
      ]
    },
    {
      "cell_type": "code",
      "metadata": {
        "id": "f17XzDWXn5iJ"
      },
      "source": [
        "BATCH_SIZE = 64\n",
        "\n",
        "test_size = 0.2\n",
        "num_samples = sum(1 for x in samples)\n",
        "num_train_samples = int(test_size * num_samples)\n",
        "ds_train = samples.take(num_train_samples).batch(BATCH_SIZE)\n",
        "ds_val = samples.skip(num_train_samples).batch(BATCH_SIZE)"
      ],
      "execution_count": 10,
      "outputs": []
    },
    {
      "cell_type": "markdown",
      "metadata": {
        "id": "LFD4DteZpHNW"
      },
      "source": [
        "## Model Architecture"
      ]
    },
    {
      "cell_type": "code",
      "metadata": {
        "id": "VjfyU9omoyxx"
      },
      "source": [
        "from tensorflow.keras.models import Sequential\n",
        "from tensorflow.keras.layers import Embedding, Dropout, GlobalAveragePooling1D, Dense, GlobalMaxPooling1D"
      ],
      "execution_count": 11,
      "outputs": []
    },
    {
      "cell_type": "code",
      "metadata": {
        "id": "xkSiZ9jPpV6S",
        "outputId": "b4a53b9b-0277-43f4-f831-0bc9b2bb8848",
        "colab": {
          "base_uri": "https://localhost:8080/",
          "height": 289
        }
      },
      "source": [
        "EMBED_DIM = 32\n",
        "\n",
        "model = Sequential()\n",
        "model.add(Embedding(input_dim=VOCAB_SIZE, output_dim=EMBED_DIM))\n",
        "model.add(GlobalAveragePooling1D())\n",
        "model.add(Dropout(0.3))\n",
        "model.add(Dense(1, activation=\"sigmoid\"))\n",
        "model.summary()"
      ],
      "execution_count": 12,
      "outputs": [
        {
          "output_type": "stream",
          "text": [
            "Model: \"sequential\"\n",
            "_________________________________________________________________\n",
            "Layer (type)                 Output Shape              Param #   \n",
            "=================================================================\n",
            "embedding (Embedding)        (None, None, 32)          320000    \n",
            "_________________________________________________________________\n",
            "global_average_pooling1d (Gl (None, 32)                0         \n",
            "_________________________________________________________________\n",
            "dropout (Dropout)            (None, 32)                0         \n",
            "_________________________________________________________________\n",
            "dense (Dense)                (None, 1)                 33        \n",
            "=================================================================\n",
            "Total params: 320,033\n",
            "Trainable params: 320,033\n",
            "Non-trainable params: 0\n",
            "_________________________________________________________________\n"
          ],
          "name": "stdout"
        }
      ]
    },
    {
      "cell_type": "code",
      "metadata": {
        "id": "KmmkS5-RpyE9"
      },
      "source": [
        "model.compile(optimizer=\"rmsprop\", loss=\"binary_crossentropy\", metrics=[\"acc\"])"
      ],
      "execution_count": 13,
      "outputs": []
    },
    {
      "cell_type": "code",
      "metadata": {
        "id": "9PqJhlA6qVUK",
        "outputId": "26db0eed-b1d1-4934-f91e-3e222022d052",
        "colab": {
          "base_uri": "https://localhost:8080/",
          "height": 1000
        }
      },
      "source": [
        "history = model.fit(ds_train, epochs=60, validation_data=ds_val)"
      ],
      "execution_count": 14,
      "outputs": [
        {
          "output_type": "stream",
          "text": [
            "Epoch 1/60\n",
            "84/84 [==============================] - 1s 14ms/step - loss: 0.6879 - acc: 0.5510 - val_loss: 0.6845 - val_acc: 0.5610\n",
            "Epoch 2/60\n",
            "84/84 [==============================] - 1s 12ms/step - loss: 0.6831 - acc: 0.5630 - val_loss: 0.6821 - val_acc: 0.5614\n",
            "Epoch 3/60\n",
            "84/84 [==============================] - 1s 12ms/step - loss: 0.6809 - acc: 0.5617 - val_loss: 0.6800 - val_acc: 0.5611\n",
            "Epoch 4/60\n",
            "84/84 [==============================] - 1s 12ms/step - loss: 0.6787 - acc: 0.5589 - val_loss: 0.6772 - val_acc: 0.5615\n",
            "Epoch 5/60\n",
            "84/84 [==============================] - 1s 12ms/step - loss: 0.6749 - acc: 0.5598 - val_loss: 0.6740 - val_acc: 0.5612\n",
            "Epoch 6/60\n",
            "84/84 [==============================] - 1s 12ms/step - loss: 0.6708 - acc: 0.5581 - val_loss: 0.6694 - val_acc: 0.5622\n",
            "Epoch 7/60\n",
            "84/84 [==============================] - 1s 12ms/step - loss: 0.6642 - acc: 0.5636 - val_loss: 0.6648 - val_acc: 0.5611\n",
            "Epoch 8/60\n",
            "84/84 [==============================] - 1s 12ms/step - loss: 0.6581 - acc: 0.5651 - val_loss: 0.6586 - val_acc: 0.5643\n",
            "Epoch 9/60\n",
            "84/84 [==============================] - 1s 12ms/step - loss: 0.6513 - acc: 0.5770 - val_loss: 0.6520 - val_acc: 0.5685\n",
            "Epoch 10/60\n",
            "84/84 [==============================] - 1s 12ms/step - loss: 0.6436 - acc: 0.5935 - val_loss: 0.6442 - val_acc: 0.5899\n",
            "Epoch 11/60\n",
            "84/84 [==============================] - 1s 12ms/step - loss: 0.6336 - acc: 0.6216 - val_loss: 0.6361 - val_acc: 0.6234\n",
            "Epoch 12/60\n",
            "84/84 [==============================] - 1s 12ms/step - loss: 0.6232 - acc: 0.6652 - val_loss: 0.6271 - val_acc: 0.6529\n",
            "Epoch 13/60\n",
            "84/84 [==============================] - 1s 12ms/step - loss: 0.6135 - acc: 0.6950 - val_loss: 0.6177 - val_acc: 0.6978\n",
            "Epoch 14/60\n",
            "84/84 [==============================] - 1s 12ms/step - loss: 0.6017 - acc: 0.7203 - val_loss: 0.6078 - val_acc: 0.7064\n",
            "Epoch 15/60\n",
            "84/84 [==============================] - 1s 12ms/step - loss: 0.5902 - acc: 0.7429 - val_loss: 0.5986 - val_acc: 0.7726\n",
            "Epoch 16/60\n",
            "84/84 [==============================] - 1s 12ms/step - loss: 0.5785 - acc: 0.7813 - val_loss: 0.5875 - val_acc: 0.7256\n",
            "Epoch 17/60\n",
            "84/84 [==============================] - 1s 12ms/step - loss: 0.5659 - acc: 0.7826 - val_loss: 0.5766 - val_acc: 0.7644\n",
            "Epoch 18/60\n",
            "84/84 [==============================] - 1s 12ms/step - loss: 0.5540 - acc: 0.8012 - val_loss: 0.5656 - val_acc: 0.7663\n",
            "Epoch 19/60\n",
            "84/84 [==============================] - 1s 12ms/step - loss: 0.5410 - acc: 0.8141 - val_loss: 0.5551 - val_acc: 0.7812\n",
            "Epoch 20/60\n",
            "84/84 [==============================] - 1s 13ms/step - loss: 0.5300 - acc: 0.8218 - val_loss: 0.5461 - val_acc: 0.8013\n",
            "Epoch 21/60\n",
            "84/84 [==============================] - 1s 12ms/step - loss: 0.5150 - acc: 0.8317 - val_loss: 0.5354 - val_acc: 0.7746\n",
            "Epoch 22/60\n",
            "84/84 [==============================] - 1s 12ms/step - loss: 0.5029 - acc: 0.8339 - val_loss: 0.5247 - val_acc: 0.7879\n",
            "Epoch 23/60\n",
            "84/84 [==============================] - 1s 13ms/step - loss: 0.4918 - acc: 0.8418 - val_loss: 0.5156 - val_acc: 0.7865\n",
            "Epoch 24/60\n",
            "84/84 [==============================] - 1s 12ms/step - loss: 0.4799 - acc: 0.8401 - val_loss: 0.5065 - val_acc: 0.7907\n",
            "Epoch 25/60\n",
            "84/84 [==============================] - 1s 12ms/step - loss: 0.4698 - acc: 0.8506 - val_loss: 0.4984 - val_acc: 0.7862\n",
            "Epoch 26/60\n",
            "84/84 [==============================] - 1s 12ms/step - loss: 0.4553 - acc: 0.8532 - val_loss: 0.4883 - val_acc: 0.7970\n",
            "Epoch 27/60\n",
            "84/84 [==============================] - 1s 12ms/step - loss: 0.4493 - acc: 0.8487 - val_loss: 0.4806 - val_acc: 0.8047\n",
            "Epoch 28/60\n",
            "84/84 [==============================] - 1s 13ms/step - loss: 0.4392 - acc: 0.8566 - val_loss: 0.4753 - val_acc: 0.8096\n",
            "Epoch 29/60\n",
            "84/84 [==============================] - 1s 12ms/step - loss: 0.4281 - acc: 0.8598 - val_loss: 0.4675 - val_acc: 0.8111\n",
            "Epoch 30/60\n",
            "84/84 [==============================] - 1s 12ms/step - loss: 0.4180 - acc: 0.8650 - val_loss: 0.4620 - val_acc: 0.8001\n",
            "Epoch 31/60\n",
            "84/84 [==============================] - 1s 12ms/step - loss: 0.4101 - acc: 0.8614 - val_loss: 0.4553 - val_acc: 0.8029\n",
            "Epoch 32/60\n",
            "84/84 [==============================] - 1s 12ms/step - loss: 0.4022 - acc: 0.8628 - val_loss: 0.4476 - val_acc: 0.8141\n",
            "Epoch 33/60\n",
            "84/84 [==============================] - 1s 12ms/step - loss: 0.3938 - acc: 0.8716 - val_loss: 0.4425 - val_acc: 0.8146\n",
            "Epoch 34/60\n",
            "84/84 [==============================] - 1s 12ms/step - loss: 0.3862 - acc: 0.8727 - val_loss: 0.4395 - val_acc: 0.8103\n",
            "Epoch 35/60\n",
            "84/84 [==============================] - 1s 12ms/step - loss: 0.3803 - acc: 0.8682 - val_loss: 0.4336 - val_acc: 0.8169\n",
            "Epoch 36/60\n",
            "84/84 [==============================] - 1s 12ms/step - loss: 0.3717 - acc: 0.8744 - val_loss: 0.4281 - val_acc: 0.8177\n",
            "Epoch 37/60\n",
            "84/84 [==============================] - 1s 13ms/step - loss: 0.3652 - acc: 0.8738 - val_loss: 0.4243 - val_acc: 0.8192\n",
            "Epoch 38/60\n",
            "84/84 [==============================] - 1s 12ms/step - loss: 0.3571 - acc: 0.8738 - val_loss: 0.4204 - val_acc: 0.8198\n",
            "Epoch 39/60\n",
            "84/84 [==============================] - 1s 12ms/step - loss: 0.3507 - acc: 0.8802 - val_loss: 0.4160 - val_acc: 0.8209\n",
            "Epoch 40/60\n",
            "84/84 [==============================] - 1s 12ms/step - loss: 0.3476 - acc: 0.8790 - val_loss: 0.4150 - val_acc: 0.8198\n",
            "Epoch 41/60\n",
            "84/84 [==============================] - 1s 12ms/step - loss: 0.3417 - acc: 0.8807 - val_loss: 0.4108 - val_acc: 0.8219\n",
            "Epoch 42/60\n",
            "84/84 [==============================] - 1s 12ms/step - loss: 0.3307 - acc: 0.8849 - val_loss: 0.4088 - val_acc: 0.8216\n",
            "Epoch 43/60\n",
            "84/84 [==============================] - 1s 12ms/step - loss: 0.3271 - acc: 0.8901 - val_loss: 0.4055 - val_acc: 0.8228\n",
            "Epoch 44/60\n",
            "84/84 [==============================] - 1s 13ms/step - loss: 0.3239 - acc: 0.8886 - val_loss: 0.4033 - val_acc: 0.8225\n",
            "Epoch 45/60\n",
            "84/84 [==============================] - 1s 12ms/step - loss: 0.3172 - acc: 0.8871 - val_loss: 0.3992 - val_acc: 0.8261\n",
            "Epoch 46/60\n",
            "84/84 [==============================] - 1s 12ms/step - loss: 0.3125 - acc: 0.8907 - val_loss: 0.3990 - val_acc: 0.8238\n",
            "Epoch 47/60\n",
            "84/84 [==============================] - 1s 12ms/step - loss: 0.3090 - acc: 0.8918 - val_loss: 0.3942 - val_acc: 0.8279\n",
            "Epoch 48/60\n",
            "84/84 [==============================] - 1s 12ms/step - loss: 0.3014 - acc: 0.8918 - val_loss: 0.3930 - val_acc: 0.8282\n",
            "Epoch 49/60\n",
            "84/84 [==============================] - 1s 12ms/step - loss: 0.2934 - acc: 0.8937 - val_loss: 0.3940 - val_acc: 0.8261\n",
            "Epoch 50/60\n",
            "84/84 [==============================] - 1s 12ms/step - loss: 0.2931 - acc: 0.8935 - val_loss: 0.3899 - val_acc: 0.8292\n",
            "Epoch 51/60\n",
            "84/84 [==============================] - 1s 12ms/step - loss: 0.2889 - acc: 0.8976 - val_loss: 0.3888 - val_acc: 0.8283\n",
            "Epoch 52/60\n",
            "84/84 [==============================] - 1s 12ms/step - loss: 0.2836 - acc: 0.8957 - val_loss: 0.3957 - val_acc: 0.8208\n",
            "Epoch 53/60\n",
            "84/84 [==============================] - 1s 12ms/step - loss: 0.2787 - acc: 0.8980 - val_loss: 0.3853 - val_acc: 0.8300\n",
            "Epoch 54/60\n",
            "84/84 [==============================] - 1s 12ms/step - loss: 0.2770 - acc: 0.9006 - val_loss: 0.3838 - val_acc: 0.8309\n",
            "Epoch 55/60\n",
            "84/84 [==============================] - 1s 12ms/step - loss: 0.2737 - acc: 0.9017 - val_loss: 0.3833 - val_acc: 0.8327\n",
            "Epoch 56/60\n",
            "84/84 [==============================] - 1s 12ms/step - loss: 0.2702 - acc: 0.9021 - val_loss: 0.3827 - val_acc: 0.8307\n",
            "Epoch 57/60\n",
            "84/84 [==============================] - 1s 12ms/step - loss: 0.2637 - acc: 0.9032 - val_loss: 0.3830 - val_acc: 0.8313\n",
            "Epoch 58/60\n",
            "84/84 [==============================] - 1s 12ms/step - loss: 0.2630 - acc: 0.9021 - val_loss: 0.3790 - val_acc: 0.8328\n",
            "Epoch 59/60\n",
            "84/84 [==============================] - 1s 12ms/step - loss: 0.2586 - acc: 0.9053 - val_loss: 0.3791 - val_acc: 0.8332\n",
            "Epoch 60/60\n",
            "84/84 [==============================] - 1s 12ms/step - loss: 0.2559 - acc: 0.9069 - val_loss: 0.3779 - val_acc: 0.8324\n"
          ],
          "name": "stdout"
        }
      ]
    },
    {
      "cell_type": "code",
      "metadata": {
        "id": "durturicqZhL",
        "outputId": "3fa1c3ba-1e97-4028-f519-6a69c1cc085f",
        "colab": {
          "base_uri": "https://localhost:8080/",
          "height": 51
        }
      },
      "source": [
        "model.evaluate(ds_val)"
      ],
      "execution_count": 15,
      "outputs": [
        {
          "output_type": "stream",
          "text": [
            "334/334 [==============================] - 1s 2ms/step - loss: 0.3785 - acc: 0.8325\n"
          ],
          "name": "stdout"
        },
        {
          "output_type": "execute_result",
          "data": {
            "text/plain": [
              "[0.37846922874450684, 0.832506537437439]"
            ]
          },
          "metadata": {
            "tags": []
          },
          "execution_count": 15
        }
      ]
    },
    {
      "cell_type": "markdown",
      "metadata": {
        "id": "o_ZHnYI8ncpl"
      },
      "source": [
        "### Transfer learning w. pretrained embedding"
      ]
    },
    {
      "cell_type": "markdown",
      "metadata": {
        "id": "RSpXv4P8nbi9"
      },
      "source": [
        "*Train and test set is not the same for each approach :(*"
      ]
    },
    {
      "cell_type": "code",
      "metadata": {
        "id": "atVA7Hx6AFrd"
      },
      "source": [
        "BATCH_SIZE = 64\n",
        "BUFFER_SIZE = 1024\n",
        "\n",
        "samples = tf.data.Dataset.from_tensor_slices((texts, labels)).shuffle(BUFFER_SIZE)\n",
        "num_samples = sum(1 for x in samples)\n",
        "test_size = 0.2\n",
        "num_train_samples = int(test_size * num_samples)\n",
        "\n",
        "ds_train = samples.take(num_train_samples).batch(BATCH_SIZE)\n",
        "ds_val = samples.skip(num_train_samples).batch(BATCH_SIZE)"
      ],
      "execution_count": 16,
      "outputs": []
    },
    {
      "cell_type": "code",
      "metadata": {
        "id": "Smp7hTc4SR9R",
        "outputId": "dbc050fd-9930-43b0-f24d-6c4b0811dc62",
        "colab": {
          "base_uri": "https://localhost:8080/",
          "height": 255
        }
      },
      "source": [
        "import tensorflow_hub as hub\n",
        "embedding_url = \"https://tfhub.dev/google/universal-sentence-encoder-large/5\"\n",
        "\n",
        "model = Sequential()\n",
        "model.add(hub.KerasLayer(embedding_url, input_shape=(), dtype=tf.string, trainable=True))\n",
        "model.add(Dropout(0.5))\n",
        "model.add(Dense(1, activation=\"sigmoid\"))\n",
        "model.summary()"
      ],
      "execution_count": 20,
      "outputs": [
        {
          "output_type": "stream",
          "text": [
            "Model: \"sequential_2\"\n",
            "_________________________________________________________________\n",
            "Layer (type)                 Output Shape              Param #   \n",
            "=================================================================\n",
            "keras_layer_1 (KerasLayer)   (None, 512)               147354880 \n",
            "_________________________________________________________________\n",
            "dropout_2 (Dropout)          (None, 512)               0         \n",
            "_________________________________________________________________\n",
            "dense_2 (Dense)              (None, 1)                 513       \n",
            "=================================================================\n",
            "Total params: 147,355,393\n",
            "Trainable params: 147,355,393\n",
            "Non-trainable params: 0\n",
            "_________________________________________________________________\n"
          ],
          "name": "stdout"
        }
      ]
    },
    {
      "cell_type": "code",
      "metadata": {
        "id": "EpK3E9TPrBct",
        "outputId": "2d16b40b-ff5a-4eb0-9fd2-1172a5cd8dee",
        "colab": {
          "base_uri": "https://localhost:8080/",
          "height": 85
        }
      },
      "source": [
        "model.compile(optimizer=\"rmsprop\", loss=\"binary_crossentropy\", metrics=[\"acc\"])\n",
        "model.fit(ds_train, epochs=2, validation_data=ds_val);"
      ],
      "execution_count": 21,
      "outputs": [
        {
          "output_type": "stream",
          "text": [
            "Epoch 1/2\n",
            "84/84 [==============================] - 39s 467ms/step - loss: 0.4480 - acc: 0.8040 - val_loss: 0.4023 - val_acc: 0.8351\n",
            "Epoch 2/2\n",
            "84/84 [==============================] - 35s 422ms/step - loss: 0.2506 - acc: 0.9186 - val_loss: 0.3190 - val_acc: 0.8715\n"
          ],
          "name": "stdout"
        }
      ]
    },
    {
      "cell_type": "code",
      "metadata": {
        "id": "6WrGVYpFeWWH",
        "outputId": "969ddf9b-c2f7-461b-d735-aa299bf3c471",
        "colab": {
          "base_uri": "https://localhost:8080/",
          "height": 51
        }
      },
      "source": [
        "model.evaluate(ds_val)"
      ],
      "execution_count": 22,
      "outputs": [
        {
          "output_type": "stream",
          "text": [
            "334/334 [==============================] - 14s 43ms/step - loss: 0.3199 - acc: 0.8710\n"
          ],
          "name": "stdout"
        },
        {
          "output_type": "execute_result",
          "data": {
            "text/plain": [
              "[0.3198675811290741, 0.87102210521698]"
            ]
          },
          "metadata": {
            "tags": []
          },
          "execution_count": 22
        }
      ]
    },
    {
      "cell_type": "code",
      "metadata": {
        "id": "SFlqmxAjfwPP"
      },
      "source": [
        ""
      ],
      "execution_count": 19,
      "outputs": []
    }
  ]
}