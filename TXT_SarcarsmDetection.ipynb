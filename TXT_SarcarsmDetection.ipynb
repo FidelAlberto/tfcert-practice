{
  "nbformat": 4,
  "nbformat_minor": 0,
  "metadata": {
    "colab": {
      "name": "TXT_SarcarsmDetection.ipynb",
      "provenance": [],
      "authorship_tag": "ABX9TyNdhFkPAE9d1Ax6+RTokZ95",
      "include_colab_link": true
    },
    "kernelspec": {
      "name": "python3",
      "display_name": "Python 3"
    },
    "accelerator": "GPU"
  },
  "cells": [
    {
      "cell_type": "markdown",
      "metadata": {
        "id": "view-in-github",
        "colab_type": "text"
      },
      "source": [
        "<a href=\"https://colab.research.google.com/github/btcnhung1299/tf-practice/blob/master/TXT_SarcarsmDetection.ipynb\" target=\"_parent\"><img src=\"https://colab.research.google.com/assets/colab-badge.svg\" alt=\"Open In Colab\"/></a>"
      ]
    },
    {
      "cell_type": "code",
      "metadata": {
        "id": "EZdRgGWsm9En"
      },
      "source": [
        "import pandas as pd\n",
        "import tensorflow as tf"
      ],
      "execution_count": 1,
      "outputs": []
    },
    {
      "cell_type": "markdown",
      "metadata": {
        "id": "TkU9l69oo1q1"
      },
      "source": [
        "## Data Gathering"
      ]
    },
    {
      "cell_type": "code",
      "metadata": {
        "id": "Vs-76pZTmsRh",
        "outputId": "aef52768-b1c7-410b-a967-dbf29adee894",
        "colab": {
          "base_uri": "https://localhost:8080/",
          "height": 204
        }
      },
      "source": [
        "!wget https://storage.googleapis.com/laurencemoroney-blog.appspot.com/sarcasm.json"
      ],
      "execution_count": 2,
      "outputs": [
        {
          "output_type": "stream",
          "text": [
            "--2020-09-26 05:51:02--  https://storage.googleapis.com/laurencemoroney-blog.appspot.com/sarcasm.json\n",
            "Resolving storage.googleapis.com (storage.googleapis.com)... 74.125.20.128, 74.125.195.128, 74.125.142.128, ...\n",
            "Connecting to storage.googleapis.com (storage.googleapis.com)|74.125.20.128|:443... connected.\n",
            "HTTP request sent, awaiting response... 200 OK\n",
            "Length: 5643545 (5.4M) [application/json]\n",
            "Saving to: ‘sarcasm.json.1’\n",
            "\n",
            "\rsarcasm.json.1        0%[                    ]       0  --.-KB/s               \rsarcasm.json.1      100%[===================>]   5.38M  --.-KB/s    in 0.02s   \n",
            "\n",
            "2020-09-26 05:51:02 (289 MB/s) - ‘sarcasm.json.1’ saved [5643545/5643545]\n",
            "\n"
          ],
          "name": "stdout"
        }
      ]
    },
    {
      "cell_type": "code",
      "metadata": {
        "id": "vj9sbCXcnJFg",
        "outputId": "c6b68175-d82d-4ae7-e75d-3af4ba80f027",
        "colab": {
          "base_uri": "https://localhost:8080/",
          "height": 204
        }
      },
      "source": [
        "df = pd.read_json(\"./sarcasm.json\")\n",
        "df.head()"
      ],
      "execution_count": 3,
      "outputs": [
        {
          "output_type": "execute_result",
          "data": {
            "text/html": [
              "<div>\n",
              "<style scoped>\n",
              "    .dataframe tbody tr th:only-of-type {\n",
              "        vertical-align: middle;\n",
              "    }\n",
              "\n",
              "    .dataframe tbody tr th {\n",
              "        vertical-align: top;\n",
              "    }\n",
              "\n",
              "    .dataframe thead th {\n",
              "        text-align: right;\n",
              "    }\n",
              "</style>\n",
              "<table border=\"1\" class=\"dataframe\">\n",
              "  <thead>\n",
              "    <tr style=\"text-align: right;\">\n",
              "      <th></th>\n",
              "      <th>article_link</th>\n",
              "      <th>headline</th>\n",
              "      <th>is_sarcastic</th>\n",
              "    </tr>\n",
              "  </thead>\n",
              "  <tbody>\n",
              "    <tr>\n",
              "      <th>0</th>\n",
              "      <td>https://www.huffingtonpost.com/entry/versace-b...</td>\n",
              "      <td>former versace store clerk sues over secret 'b...</td>\n",
              "      <td>0</td>\n",
              "    </tr>\n",
              "    <tr>\n",
              "      <th>1</th>\n",
              "      <td>https://www.huffingtonpost.com/entry/roseanne-...</td>\n",
              "      <td>the 'roseanne' revival catches up to our thorn...</td>\n",
              "      <td>0</td>\n",
              "    </tr>\n",
              "    <tr>\n",
              "      <th>2</th>\n",
              "      <td>https://local.theonion.com/mom-starting-to-fea...</td>\n",
              "      <td>mom starting to fear son's web series closest ...</td>\n",
              "      <td>1</td>\n",
              "    </tr>\n",
              "    <tr>\n",
              "      <th>3</th>\n",
              "      <td>https://politics.theonion.com/boehner-just-wan...</td>\n",
              "      <td>boehner just wants wife to listen, not come up...</td>\n",
              "      <td>1</td>\n",
              "    </tr>\n",
              "    <tr>\n",
              "      <th>4</th>\n",
              "      <td>https://www.huffingtonpost.com/entry/jk-rowlin...</td>\n",
              "      <td>j.k. rowling wishes snape happy birthday in th...</td>\n",
              "      <td>0</td>\n",
              "    </tr>\n",
              "  </tbody>\n",
              "</table>\n",
              "</div>"
            ],
            "text/plain": [
              "                                        article_link  ... is_sarcastic\n",
              "0  https://www.huffingtonpost.com/entry/versace-b...  ...            0\n",
              "1  https://www.huffingtonpost.com/entry/roseanne-...  ...            0\n",
              "2  https://local.theonion.com/mom-starting-to-fea...  ...            1\n",
              "3  https://politics.theonion.com/boehner-just-wan...  ...            1\n",
              "4  https://www.huffingtonpost.com/entry/jk-rowlin...  ...            0\n",
              "\n",
              "[5 rows x 3 columns]"
            ]
          },
          "metadata": {
            "tags": []
          },
          "execution_count": 3
        }
      ]
    },
    {
      "cell_type": "code",
      "metadata": {
        "id": "lApGygTzntUY"
      },
      "source": [
        "texts = df[\"headline\"].values\n",
        "labels = df[\"is_sarcastic\"].values"
      ],
      "execution_count": 4,
      "outputs": []
    },
    {
      "cell_type": "markdown",
      "metadata": {
        "id": "gjERKAMUo8AB"
      },
      "source": [
        "## Data Preparation"
      ]
    },
    {
      "cell_type": "markdown",
      "metadata": {
        "id": "vg4xkMvgo_S2"
      },
      "source": [
        "### Tokenization"
      ]
    },
    {
      "cell_type": "code",
      "metadata": {
        "id": "byYH4g0vnTKj"
      },
      "source": [
        "from tensorflow.keras.preprocessing.text import Tokenizer\n",
        "from tensorflow.keras.preprocessing.sequence import pad_sequences"
      ],
      "execution_count": 5,
      "outputs": []
    },
    {
      "cell_type": "code",
      "metadata": {
        "id": "0ouv7DK0ngf4"
      },
      "source": [
        "VOCAB_SIZE = 10000\n",
        "tokenizer = Tokenizer(VOCAB_SIZE, oov_token=\"<OOV>\")\n",
        "tokenizer.fit_on_texts(texts)"
      ],
      "execution_count": 6,
      "outputs": []
    },
    {
      "cell_type": "markdown",
      "metadata": {
        "id": "QI6zH401pCV7"
      },
      "source": [
        "### Create samples"
      ]
    },
    {
      "cell_type": "code",
      "metadata": {
        "id": "9KlQZCFzoSCc",
        "outputId": "269eba1d-3590-4fc2-bdef-34d31a3bf612",
        "colab": {
          "base_uri": "https://localhost:8080/",
          "height": 170
        }
      },
      "source": [
        "df[\"headline\"].apply(lambda x : len(x)).describe()"
      ],
      "execution_count": 7,
      "outputs": [
        {
          "output_type": "execute_result",
          "data": {
            "text/plain": [
              "count    26709.000000\n",
              "mean        60.910629\n",
              "std         19.184423\n",
              "min          7.000000\n",
              "25%         48.000000\n",
              "50%         61.000000\n",
              "75%         73.000000\n",
              "max        254.000000\n",
              "Name: headline, dtype: float64"
            ]
          },
          "metadata": {
            "tags": []
          },
          "execution_count": 7
        }
      ]
    },
    {
      "cell_type": "code",
      "metadata": {
        "id": "05AAweA1n0jj"
      },
      "source": [
        "MAX_SEQ_LEN = 128\n",
        "BUFFER_SIZE = 1024\n",
        "\n",
        "text_ids = pad_sequences(tokenizer.texts_to_sequences(texts), maxlen=MAX_SEQ_LEN, padding=\"post\")\n",
        "samples = tf.data.Dataset.from_tensor_slices((text_ids, labels)).shuffle(BUFFER_SIZE)"
      ],
      "execution_count": 8,
      "outputs": []
    },
    {
      "cell_type": "markdown",
      "metadata": {
        "id": "WaA86IjvpEHy"
      },
      "source": [
        "### Create dataset"
      ]
    },
    {
      "cell_type": "code",
      "metadata": {
        "id": "f17XzDWXn5iJ"
      },
      "source": [
        "BATCH_SIZE = 64\n",
        "\n",
        "test_size = 0.2\n",
        "num_samples = sum(1 for x in samples)\n",
        "num_train_samples = int(test_size * num_samples)\n",
        "ds_train = samples.take(num_train_samples).batch(BATCH_SIZE)\n",
        "ds_val = samples.skip(num_train_samples).batch(BATCH_SIZE)"
      ],
      "execution_count": 9,
      "outputs": []
    },
    {
      "cell_type": "markdown",
      "metadata": {
        "id": "LFD4DteZpHNW"
      },
      "source": [
        "## Model Architecture"
      ]
    },
    {
      "cell_type": "code",
      "metadata": {
        "id": "VjfyU9omoyxx"
      },
      "source": [
        "from tensorflow.keras.models import Sequential\n",
        "from tensorflow.keras.layers import Embedding, Dropout, GlobalAveragePooling1D, Dense, GlobalMaxPooling1D"
      ],
      "execution_count": 10,
      "outputs": []
    },
    {
      "cell_type": "code",
      "metadata": {
        "id": "xkSiZ9jPpV6S",
        "outputId": "b3c595ac-c463-426b-9e08-b6a73cd24849",
        "colab": {
          "base_uri": "https://localhost:8080/",
          "height": 289
        }
      },
      "source": [
        "EMBED_DIM = 32\n",
        "\n",
        "model = Sequential()\n",
        "model.add(Embedding(input_dim=VOCAB_SIZE, output_dim=EMBED_DIM))\n",
        "model.add(GlobalAveragePooling1D())\n",
        "model.add(Dropout(0.3))\n",
        "model.add(Dense(1, activation=\"sigmoid\"))\n",
        "model.summary()"
      ],
      "execution_count": 11,
      "outputs": [
        {
          "output_type": "stream",
          "text": [
            "Model: \"sequential\"\n",
            "_________________________________________________________________\n",
            "Layer (type)                 Output Shape              Param #   \n",
            "=================================================================\n",
            "embedding (Embedding)        (None, None, 32)          320000    \n",
            "_________________________________________________________________\n",
            "global_average_pooling1d (Gl (None, 32)                0         \n",
            "_________________________________________________________________\n",
            "dropout (Dropout)            (None, 32)                0         \n",
            "_________________________________________________________________\n",
            "dense (Dense)                (None, 1)                 33        \n",
            "=================================================================\n",
            "Total params: 320,033\n",
            "Trainable params: 320,033\n",
            "Non-trainable params: 0\n",
            "_________________________________________________________________\n"
          ],
          "name": "stdout"
        }
      ]
    },
    {
      "cell_type": "code",
      "metadata": {
        "id": "KmmkS5-RpyE9"
      },
      "source": [
        "model.compile(optimizer=\"rmsprop\", loss=\"binary_crossentropy\", metrics=[\"acc\"])"
      ],
      "execution_count": 12,
      "outputs": []
    },
    {
      "cell_type": "code",
      "metadata": {
        "id": "9PqJhlA6qVUK",
        "outputId": "83c7f857-c023-4bcb-f057-229aa919ac24",
        "colab": {
          "base_uri": "https://localhost:8080/",
          "height": 1000
        }
      },
      "source": [
        "history = model.fit(ds_train, epochs=50, validation_data=ds_val)"
      ],
      "execution_count": 13,
      "outputs": [
        {
          "output_type": "stream",
          "text": [
            "Epoch 1/50\n",
            "84/84 [==============================] - 1s 15ms/step - loss: 0.6862 - acc: 0.5579 - val_loss: 0.6840 - val_acc: 0.5611\n",
            "Epoch 2/50\n",
            "84/84 [==============================] - 1s 12ms/step - loss: 0.6828 - acc: 0.5630 - val_loss: 0.6821 - val_acc: 0.5603\n",
            "Epoch 3/50\n",
            "84/84 [==============================] - 1s 13ms/step - loss: 0.6795 - acc: 0.5641 - val_loss: 0.6799 - val_acc: 0.5605\n",
            "Epoch 4/50\n",
            "84/84 [==============================] - 1s 13ms/step - loss: 0.6765 - acc: 0.5624 - val_loss: 0.6767 - val_acc: 0.5606\n",
            "Epoch 5/50\n",
            "84/84 [==============================] - 1s 14ms/step - loss: 0.6743 - acc: 0.5600 - val_loss: 0.6732 - val_acc: 0.5613\n",
            "Epoch 6/50\n",
            "84/84 [==============================] - 1s 14ms/step - loss: 0.6701 - acc: 0.5604 - val_loss: 0.6692 - val_acc: 0.5606\n",
            "Epoch 7/50\n",
            "84/84 [==============================] - 1s 15ms/step - loss: 0.6644 - acc: 0.5643 - val_loss: 0.6642 - val_acc: 0.5614\n",
            "Epoch 8/50\n",
            "84/84 [==============================] - 1s 14ms/step - loss: 0.6596 - acc: 0.5632 - val_loss: 0.6589 - val_acc: 0.5702\n",
            "Epoch 9/50\n",
            "84/84 [==============================] - 1s 13ms/step - loss: 0.6520 - acc: 0.5800 - val_loss: 0.6524 - val_acc: 0.5828\n",
            "Epoch 10/50\n",
            "84/84 [==============================] - 1s 13ms/step - loss: 0.6450 - acc: 0.6023 - val_loss: 0.6451 - val_acc: 0.6172\n",
            "Epoch 11/50\n",
            "84/84 [==============================] - 1s 12ms/step - loss: 0.6336 - acc: 0.6298 - val_loss: 0.6367 - val_acc: 0.6149\n",
            "Epoch 12/50\n",
            "84/84 [==============================] - 1s 13ms/step - loss: 0.6251 - acc: 0.6594 - val_loss: 0.6284 - val_acc: 0.6283\n",
            "Epoch 13/50\n",
            "84/84 [==============================] - 1s 13ms/step - loss: 0.6155 - acc: 0.6832 - val_loss: 0.6190 - val_acc: 0.6896\n",
            "Epoch 14/50\n",
            "84/84 [==============================] - 1s 14ms/step - loss: 0.6046 - acc: 0.7190 - val_loss: 0.6099 - val_acc: 0.7346\n",
            "Epoch 15/50\n",
            "84/84 [==============================] - 1s 14ms/step - loss: 0.5921 - acc: 0.7457 - val_loss: 0.5994 - val_acc: 0.7119\n",
            "Epoch 16/50\n",
            "84/84 [==============================] - 1s 13ms/step - loss: 0.5799 - acc: 0.7723 - val_loss: 0.5890 - val_acc: 0.7527\n",
            "Epoch 17/50\n",
            "84/84 [==============================] - 1s 13ms/step - loss: 0.5686 - acc: 0.7858 - val_loss: 0.5787 - val_acc: 0.7632\n",
            "Epoch 18/50\n",
            "84/84 [==============================] - 1s 12ms/step - loss: 0.5563 - acc: 0.7970 - val_loss: 0.5687 - val_acc: 0.7513\n",
            "Epoch 19/50\n",
            "84/84 [==============================] - 1s 13ms/step - loss: 0.5440 - acc: 0.8060 - val_loss: 0.5585 - val_acc: 0.7495\n",
            "Epoch 20/50\n",
            "84/84 [==============================] - 1s 14ms/step - loss: 0.5315 - acc: 0.8191 - val_loss: 0.5472 - val_acc: 0.7750\n",
            "Epoch 21/50\n",
            "84/84 [==============================] - 1s 14ms/step - loss: 0.5189 - acc: 0.8249 - val_loss: 0.5369 - val_acc: 0.7928\n",
            "Epoch 22/50\n",
            "84/84 [==============================] - 1s 13ms/step - loss: 0.5077 - acc: 0.8349 - val_loss: 0.5274 - val_acc: 0.7958\n",
            "Epoch 23/50\n",
            "84/84 [==============================] - 1s 12ms/step - loss: 0.4947 - acc: 0.8380 - val_loss: 0.5179 - val_acc: 0.8021\n",
            "Epoch 24/50\n",
            "84/84 [==============================] - 1s 13ms/step - loss: 0.4798 - acc: 0.8468 - val_loss: 0.5086 - val_acc: 0.8004\n",
            "Epoch 25/50\n",
            "84/84 [==============================] - 1s 12ms/step - loss: 0.4701 - acc: 0.8517 - val_loss: 0.4997 - val_acc: 0.8052\n",
            "Epoch 26/50\n",
            "84/84 [==============================] - 1s 14ms/step - loss: 0.4611 - acc: 0.8478 - val_loss: 0.4912 - val_acc: 0.7980\n",
            "Epoch 27/50\n",
            "84/84 [==============================] - 1s 13ms/step - loss: 0.4476 - acc: 0.8568 - val_loss: 0.4845 - val_acc: 0.7912\n",
            "Epoch 28/50\n",
            "84/84 [==============================] - 1s 12ms/step - loss: 0.4433 - acc: 0.8564 - val_loss: 0.4756 - val_acc: 0.8016\n",
            "Epoch 29/50\n",
            "84/84 [==============================] - 1s 13ms/step - loss: 0.4297 - acc: 0.8607 - val_loss: 0.4673 - val_acc: 0.8116\n",
            "Epoch 30/50\n",
            "84/84 [==============================] - 1s 14ms/step - loss: 0.4233 - acc: 0.8573 - val_loss: 0.4609 - val_acc: 0.8113\n",
            "Epoch 31/50\n",
            "84/84 [==============================] - 1s 12ms/step - loss: 0.4140 - acc: 0.8629 - val_loss: 0.4552 - val_acc: 0.8111\n",
            "Epoch 32/50\n",
            "84/84 [==============================] - 1s 14ms/step - loss: 0.4025 - acc: 0.8699 - val_loss: 0.4485 - val_acc: 0.8126\n",
            "Epoch 33/50\n",
            "84/84 [==============================] - 1s 15ms/step - loss: 0.3948 - acc: 0.8674 - val_loss: 0.4430 - val_acc: 0.8159\n",
            "Epoch 34/50\n",
            "84/84 [==============================] - 1s 13ms/step - loss: 0.3904 - acc: 0.8678 - val_loss: 0.4382 - val_acc: 0.8146\n",
            "Epoch 35/50\n",
            "84/84 [==============================] - 1s 13ms/step - loss: 0.3807 - acc: 0.8727 - val_loss: 0.4337 - val_acc: 0.8148\n",
            "Epoch 36/50\n",
            "84/84 [==============================] - 1s 13ms/step - loss: 0.3743 - acc: 0.8731 - val_loss: 0.4285 - val_acc: 0.8177\n",
            "Epoch 37/50\n",
            "84/84 [==============================] - 1s 13ms/step - loss: 0.3652 - acc: 0.8761 - val_loss: 0.4260 - val_acc: 0.8188\n",
            "Epoch 38/50\n",
            "84/84 [==============================] - 1s 15ms/step - loss: 0.3597 - acc: 0.8768 - val_loss: 0.4200 - val_acc: 0.8203\n",
            "Epoch 39/50\n",
            "84/84 [==============================] - 1s 14ms/step - loss: 0.3594 - acc: 0.8742 - val_loss: 0.4182 - val_acc: 0.8187\n",
            "Epoch 40/50\n",
            "84/84 [==============================] - 1s 14ms/step - loss: 0.3470 - acc: 0.8766 - val_loss: 0.4137 - val_acc: 0.8208\n",
            "Epoch 41/50\n",
            "84/84 [==============================] - 1s 14ms/step - loss: 0.3397 - acc: 0.8807 - val_loss: 0.4119 - val_acc: 0.8208\n",
            "Epoch 42/50\n",
            "84/84 [==============================] - 1s 14ms/step - loss: 0.3350 - acc: 0.8822 - val_loss: 0.4074 - val_acc: 0.8241\n",
            "Epoch 43/50\n",
            "84/84 [==============================] - 1s 12ms/step - loss: 0.3278 - acc: 0.8864 - val_loss: 0.4043 - val_acc: 0.8252\n",
            "Epoch 44/50\n",
            "84/84 [==============================] - 1s 13ms/step - loss: 0.3230 - acc: 0.8867 - val_loss: 0.4040 - val_acc: 0.8226\n",
            "Epoch 45/50\n",
            "84/84 [==============================] - 1s 13ms/step - loss: 0.3195 - acc: 0.8867 - val_loss: 0.3998 - val_acc: 0.8253\n",
            "Epoch 46/50\n",
            "84/84 [==============================] - 1s 13ms/step - loss: 0.3147 - acc: 0.8878 - val_loss: 0.4026 - val_acc: 0.8198\n",
            "Epoch 47/50\n",
            "84/84 [==============================] - 1s 13ms/step - loss: 0.3088 - acc: 0.8892 - val_loss: 0.3955 - val_acc: 0.8271\n",
            "Epoch 48/50\n",
            "84/84 [==============================] - 1s 13ms/step - loss: 0.3030 - acc: 0.8918 - val_loss: 0.3967 - val_acc: 0.8254\n",
            "Epoch 49/50\n",
            "84/84 [==============================] - 1s 13ms/step - loss: 0.3010 - acc: 0.8933 - val_loss: 0.3913 - val_acc: 0.8293\n",
            "Epoch 50/50\n",
            "84/84 [==============================] - 1s 14ms/step - loss: 0.2926 - acc: 0.8976 - val_loss: 0.3901 - val_acc: 0.8289\n"
          ],
          "name": "stdout"
        }
      ]
    },
    {
      "cell_type": "code",
      "metadata": {
        "id": "durturicqZhL",
        "outputId": "fc1cc1b6-1932-4910-de5d-7ee291987055",
        "colab": {
          "base_uri": "https://localhost:8080/",
          "height": 51
        }
      },
      "source": [
        "model.evaluate(ds_val)"
      ],
      "execution_count": 14,
      "outputs": [
        {
          "output_type": "stream",
          "text": [
            "334/334 [==============================] - 1s 2ms/step - loss: 0.3903 - acc: 0.8285\n"
          ],
          "name": "stdout"
        },
        {
          "output_type": "execute_result",
          "data": {
            "text/plain": [
              "[0.3902556300163269, 0.828528642654419]"
            ]
          },
          "metadata": {
            "tags": []
          },
          "execution_count": 14
        }
      ]
    },
    {
      "cell_type": "code",
      "metadata": {
        "id": "EpK3E9TPrBct"
      },
      "source": [
        ""
      ],
      "execution_count": 14,
      "outputs": []
    }
  ]
}