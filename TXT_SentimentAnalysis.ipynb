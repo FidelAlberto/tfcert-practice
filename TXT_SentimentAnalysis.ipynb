{
  "nbformat": 4,
  "nbformat_minor": 0,
  "metadata": {
    "colab": {
      "name": "TXT_SentimentAnalysis.ipynb",
      "provenance": [],
      "toc_visible": true,
      "authorship_tag": "ABX9TyP6+GzlVnFoLBb3bGt+V9Lf",
      "include_colab_link": true
    },
    "kernelspec": {
      "name": "python3",
      "display_name": "Python 3"
    },
    "accelerator": "GPU"
  },
  "cells": [
    {
      "cell_type": "markdown",
      "metadata": {
        "id": "view-in-github",
        "colab_type": "text"
      },
      "source": [
        "<a href=\"https://colab.research.google.com/github/btcnhung1299/tf-practice/blob/master/TXT_SentimentAnalysis.ipynb\" target=\"_parent\"><img src=\"https://colab.research.google.com/assets/colab-badge.svg\" alt=\"Open In Colab\"/></a>"
      ]
    },
    {
      "cell_type": "code",
      "metadata": {
        "id": "rkeH3OSbJAl-"
      },
      "source": [
        "import tensorflow_hub as hub\n",
        "import tensorflow as tf\n",
        "import numpy as np\n",
        "import pandas as pd\n",
        "from tqdm import tqdm\n",
        "\n",
        "from tensorflow.keras.models import Sequential, Model\n",
        "from tensorflow.keras.layers import Dense, Embedding, Flatten, Bidirectional, LSTM, GRU, Dropout, GlobalAveragePooling1D"
      ],
      "execution_count": 1,
      "outputs": []
    },
    {
      "cell_type": "markdown",
      "metadata": {
        "id": "83w_fPzHL8t5"
      },
      "source": [
        "## Data gathering"
      ]
    },
    {
      "cell_type": "code",
      "metadata": {
        "id": "HUosNpchJhqM",
        "outputId": "5ae602b7-3b24-4e62-95fa-cced412626b3",
        "colab": {
          "base_uri": "https://localhost:8080/",
          "height": 547
        }
      },
      "source": [
        "import tensorflow_datasets as tfds\n",
        "tfds.disable_progress_bar()\n",
        "\n",
        "(ds_train, ds_val), ds_info = tfds.load(\"imdb_reviews\", split=[\"train\", \"test\"], shuffle_files=True, as_supervised=True, with_info=True)\n",
        "ds_info"
      ],
      "execution_count": 2,
      "outputs": [
        {
          "output_type": "execute_result",
          "data": {
            "text/plain": [
              "tfds.core.DatasetInfo(\n",
              "    name='imdb_reviews',\n",
              "    version=1.0.0,\n",
              "    description='Large Movie Review Dataset.\n",
              "This is a dataset for binary sentiment classification containing substantially more data than previous benchmark datasets. We provide a set of 25,000 highly polar movie reviews for training, and 25,000 for testing. There is additional unlabeled data for use as well.',\n",
              "    homepage='http://ai.stanford.edu/~amaas/data/sentiment/',\n",
              "    features=FeaturesDict({\n",
              "        'label': ClassLabel(shape=(), dtype=tf.int64, num_classes=2),\n",
              "        'text': Text(shape=(), dtype=tf.string),\n",
              "    }),\n",
              "    total_num_examples=100000,\n",
              "    splits={\n",
              "        'test': 25000,\n",
              "        'train': 25000,\n",
              "        'unsupervised': 50000,\n",
              "    },\n",
              "    supervised_keys=('text', 'label'),\n",
              "    citation=\"\"\"@InProceedings{maas-EtAl:2011:ACL-HLT2011,\n",
              "      author    = {Maas, Andrew L.  and  Daly, Raymond E.  and  Pham, Peter T.  and  Huang, Dan  and  Ng, Andrew Y.  and  Potts, Christopher},\n",
              "      title     = {Learning Word Vectors for Sentiment Analysis},\n",
              "      booktitle = {Proceedings of the 49th Annual Meeting of the Association for Computational Linguistics: Human Language Technologies},\n",
              "      month     = {June},\n",
              "      year      = {2011},\n",
              "      address   = {Portland, Oregon, USA},\n",
              "      publisher = {Association for Computational Linguistics},\n",
              "      pages     = {142--150},\n",
              "      url       = {http://www.aclweb.org/anthology/P11-1015}\n",
              "    }\"\"\",\n",
              "    redistribution_info=,\n",
              ")"
            ]
          },
          "metadata": {
            "tags": []
          },
          "execution_count": 2
        }
      ]
    },
    {
      "cell_type": "markdown",
      "metadata": {
        "id": "tWway6pGLdlE"
      },
      "source": [
        "**Inspect samples from datasets**"
      ]
    },
    {
      "cell_type": "markdown",
      "metadata": {
        "id": "__hGSUv4LeLQ"
      },
      "source": [
        "Binary classification:\n",
        "- Negative: 0\n",
        "- Positive: 1"
      ]
    },
    {
      "cell_type": "code",
      "metadata": {
        "id": "YGcl41qVKuK1",
        "outputId": "24cd397d-1afd-48df-f975-1b80d8b5d593",
        "colab": {
          "base_uri": "https://localhost:8080/",
          "height": 71
        }
      },
      "source": [
        "sample = next(iter(ds_train))\n",
        "print(\"Review:\", sample[0].numpy())\n",
        "print(\"Label:\", sample[1].numpy())"
      ],
      "execution_count": 3,
      "outputs": [
        {
          "output_type": "stream",
          "text": [
            "Review: b\"This was an absolutely terrible movie. Don't be lured in by Christopher Walken or Michael Ironside. Both are great actors, but this must simply be their worst role in history. Even their great acting could not redeem this movie's ridiculous storyline. This movie is an early nineties US propaganda piece. The most pathetic scenes were those when the Columbian rebels were making their cases for revolutions. Maria Conchita Alonso appeared phony, and her pseudo-love affair with Walken was nothing but a pathetic emotional plug in a movie that was devoid of any real meaning. I am disappointed that there are movies like this, ruining actor's like Christopher Walken's good name. I could barely sit through it.\"\n",
            "Label: 0\n"
          ],
          "name": "stdout"
        }
      ]
    },
    {
      "cell_type": "code",
      "metadata": {
        "id": "SHKdpHyeMdcp",
        "outputId": "112f082a-2c01-4f0a-f5bf-63af38063fb9",
        "colab": {
          "base_uri": "https://localhost:8080/",
          "height": 51
        }
      },
      "source": [
        "train_data, train_labels = [], []\n",
        "for review, label in ds_train:\n",
        "  train_data.append(str(review.numpy()))\n",
        "  train_labels.append(label.numpy())\n",
        "\n",
        "val_data, val_labels = [], []\n",
        "for review, label in ds_val:\n",
        "  val_data.append(str(review.numpy()))\n",
        "  val_labels.append(label.numpy())\n",
        "\n",
        "print(\"Number of training samples:\", len(train_data))\n",
        "print(\"Number of validation samples:\", len(val_data))"
      ],
      "execution_count": 4,
      "outputs": [
        {
          "output_type": "stream",
          "text": [
            "Number of training samples: 25000\n",
            "Number of validation samples: 25000\n"
          ],
          "name": "stdout"
        }
      ]
    },
    {
      "cell_type": "markdown",
      "metadata": {
        "id": "LOXyAKXUx0bN"
      },
      "source": [
        "Brief analysis to decide proper hparams."
      ]
    },
    {
      "cell_type": "code",
      "metadata": {
        "id": "MqHWjrLiZxQk",
        "outputId": "8e71e6d9-f938-418d-a6c1-58b2c8135a2a",
        "colab": {
          "base_uri": "https://localhost:8080/",
          "height": 262
        }
      },
      "source": [
        "pd.Series(train_labels).value_counts().plot(kind=\"bar\");"
      ],
      "execution_count": 5,
      "outputs": [
        {
          "output_type": "display_data",
          "data": {
            "image/png": "[encoded data removed]",
            "text/plain": [
              "<Figure size 432x288 with 1 Axes>"
            ]
          },
          "metadata": {
            "tags": [],
            "needs_background": "light"
          }
        }
      ]
    },
    {
      "cell_type": "code",
      "metadata": {
        "id": "NfqmdC5bvGoB",
        "outputId": "5202ddd8-2a02-4aad-d8e2-8feb004259b5",
        "colab": {
          "base_uri": "https://localhost:8080/",
          "height": 170
        }
      },
      "source": [
        "pd.Series(train_data).apply(lambda x : len(x.split())).describe()"
      ],
      "execution_count": 6,
      "outputs": [
        {
          "output_type": "execute_result",
          "data": {
            "text/plain": [
              "count    25000.000000\n",
              "mean       233.776720\n",
              "std        173.715418\n",
              "min         10.000000\n",
              "25%        127.000000\n",
              "50%        174.000000\n",
              "75%        284.000000\n",
              "max       2470.000000\n",
              "dtype: float64"
            ]
          },
          "metadata": {
            "tags": []
          },
          "execution_count": 6
        }
      ]
    },
    {
      "cell_type": "code",
      "metadata": {
        "id": "1u0QqaZ6UP2w"
      },
      "source": [
        "BATCH_SIZE = 64\n",
        "BUFFER_SIZE = 1024\n",
        "VOCAB_SIZE = 1000\n",
        "EMBED_DIM = 64\n",
        "MAX_SEQ_LEN = 256"
      ],
      "execution_count": 7,
      "outputs": []
    },
    {
      "cell_type": "markdown",
      "metadata": {
        "id": "QI2TxhBYMLMr"
      },
      "source": [
        "## Featurizing"
      ]
    },
    {
      "cell_type": "markdown",
      "metadata": {
        "id": "2urNVhgReOiV"
      },
      "source": [
        "**Tokenizing and padding sequences**"
      ]
    },
    {
      "cell_type": "markdown",
      "metadata": {
        "id": "B0kIxgs8PHEw"
      },
      "source": [
        "The average number of tokens persample isi 233. Hence, we choose `MAX_SEQ_LEN = 256`."
      ]
    },
    {
      "cell_type": "code",
      "metadata": {
        "id": "SQOgBDDzMWMs"
      },
      "source": [
        "from tensorflow.keras.preprocessing.text import Tokenizer\n",
        "from tensorflow.keras.preprocessing.sequence import pad_sequences\n",
        "\n",
        "tokenizer = Tokenizer(num_words=VOCAB_SIZE, oov_token=\"<OOV>\")\n",
        "tokenizer.fit_on_texts(train_data)"
      ],
      "execution_count": 8,
      "outputs": []
    },
    {
      "cell_type": "code",
      "metadata": {
        "id": "Q_rK_OdbN5PG"
      },
      "source": [
        "def create_tfds(tokenizer, X, y, padding=False):\n",
        "  if padding:\n",
        "    X = pad_sequences(tokenizer.texts_to_sequences(X), maxlen=MAX_SEQ_LEN, padding=\"post\")\n",
        "  return tf.data.Dataset.from_tensor_slices((X, y)).shuffle(BUFFER_SIZE).batch(BATCH_SIZE)\n",
        "\n",
        "ds_train = create_tfds(tokenizer, train_data, train_labels, padding=True)\n",
        "ds_val = create_tfds(tokenizer, val_data, val_labels, padding=True)"
      ],
      "execution_count": 9,
      "outputs": []
    },
    {
      "cell_type": "markdown",
      "metadata": {
        "id": "7IPHXwlCb25h"
      },
      "source": [
        "## Model Architecture"
      ]
    },
    {
      "cell_type": "code",
      "metadata": {
        "id": "h1rDLOHCcKP8",
        "outputId": "85e5f2b8-b5d8-4fd5-8ed3-8d31ddce60b3",
        "colab": {
          "base_uri": "https://localhost:8080/",
          "height": 323
        }
      },
      "source": [
        "model = Sequential()\n",
        "model.add(Embedding(input_dim=VOCAB_SIZE, input_length=MAX_SEQ_LEN, output_dim=EMBED_DIM))\n",
        "model.add(Dropout(0.2))\n",
        "model.add(GlobalAveragePooling1D())\n",
        "model.add(Dropout(0.2))\n",
        "model.add(Dense(1, activation=\"sigmoid\"))\n",
        "model.summary()"
      ],
      "execution_count": 10,
      "outputs": [
        {
          "output_type": "stream",
          "text": [
            "Model: \"sequential\"\n",
            "_________________________________________________________________\n",
            "Layer (type)                 Output Shape              Param #   \n",
            "=================================================================\n",
            "embedding (Embedding)        (None, 256, 64)           64000     \n",
            "_________________________________________________________________\n",
            "dropout (Dropout)            (None, 256, 64)           0         \n",
            "_________________________________________________________________\n",
            "global_average_pooling1d (Gl (None, 64)                0         \n",
            "_________________________________________________________________\n",
            "dropout_1 (Dropout)          (None, 64)                0         \n",
            "_________________________________________________________________\n",
            "dense (Dense)                (None, 1)                 65        \n",
            "=================================================================\n",
            "Total params: 64,065\n",
            "Trainable params: 64,065\n",
            "Non-trainable params: 0\n",
            "_________________________________________________________________\n"
          ],
          "name": "stdout"
        }
      ]
    },
    {
      "cell_type": "code",
      "metadata": {
        "id": "A4PWtiSpckcJ"
      },
      "source": [
        "model.compile(optimizer=\"rmsprop\", loss=\"binary_crossentropy\", metrics=[\"acc\"])"
      ],
      "execution_count": 11,
      "outputs": []
    },
    {
      "cell_type": "code",
      "metadata": {
        "id": "dqzRLLcMcvM_",
        "outputId": "989eacbf-9f46-4e8a-c5cb-d8f21ac8ab17",
        "colab": {
          "base_uri": "https://localhost:8080/",
          "height": 697
        }
      },
      "source": [
        "callbacks = tf.keras.callbacks.EarlyStopping(monitor=\"val_loss\", patience=4)\n",
        "model.fit(ds_train, epochs=20, validation_data=ds_val, callbacks=[callbacks]);"
      ],
      "execution_count": 12,
      "outputs": [
        {
          "output_type": "stream",
          "text": [
            "Epoch 1/20\n",
            "391/391 [==============================] - 3s 8ms/step - loss: 0.6581 - acc: 0.6933 - val_loss: 0.6108 - val_acc: 0.7288\n",
            "Epoch 2/20\n",
            "391/391 [==============================] - 3s 7ms/step - loss: 0.5544 - acc: 0.7749 - val_loss: 0.5026 - val_acc: 0.7940\n",
            "Epoch 3/20\n",
            "391/391 [==============================] - 3s 7ms/step - loss: 0.4596 - acc: 0.8178 - val_loss: 0.4247 - val_acc: 0.8248\n",
            "Epoch 4/20\n",
            "391/391 [==============================] - 3s 7ms/step - loss: 0.3999 - acc: 0.8383 - val_loss: 0.3800 - val_acc: 0.8427\n",
            "Epoch 5/20\n",
            "391/391 [==============================] - 3s 7ms/step - loss: 0.3678 - acc: 0.8478 - val_loss: 0.3582 - val_acc: 0.8497\n",
            "Epoch 6/20\n",
            "391/391 [==============================] - 3s 8ms/step - loss: 0.3496 - acc: 0.8531 - val_loss: 0.3446 - val_acc: 0.8543\n",
            "Epoch 7/20\n",
            "391/391 [==============================] - 3s 8ms/step - loss: 0.3395 - acc: 0.8574 - val_loss: 0.3370 - val_acc: 0.8576\n",
            "Epoch 8/20\n",
            "391/391 [==============================] - 3s 8ms/step - loss: 0.3309 - acc: 0.8611 - val_loss: 0.3327 - val_acc: 0.8600\n",
            "Epoch 9/20\n",
            "391/391 [==============================] - 3s 8ms/step - loss: 0.3261 - acc: 0.8645 - val_loss: 0.3286 - val_acc: 0.8612\n",
            "Epoch 10/20\n",
            "391/391 [==============================] - 3s 7ms/step - loss: 0.3213 - acc: 0.8666 - val_loss: 0.3270 - val_acc: 0.8610\n",
            "Epoch 11/20\n",
            "391/391 [==============================] - 3s 7ms/step - loss: 0.3180 - acc: 0.8690 - val_loss: 0.3249 - val_acc: 0.8622\n",
            "Epoch 12/20\n",
            "391/391 [==============================] - 3s 7ms/step - loss: 0.3166 - acc: 0.8693 - val_loss: 0.3240 - val_acc: 0.8626\n",
            "Epoch 13/20\n",
            "391/391 [==============================] - 3s 7ms/step - loss: 0.3146 - acc: 0.8712 - val_loss: 0.3244 - val_acc: 0.8624\n",
            "Epoch 14/20\n",
            "391/391 [==============================] - 3s 7ms/step - loss: 0.3131 - acc: 0.8697 - val_loss: 0.3241 - val_acc: 0.8620\n",
            "Epoch 15/20\n",
            "391/391 [==============================] - 3s 7ms/step - loss: 0.3116 - acc: 0.8705 - val_loss: 0.3231 - val_acc: 0.8618\n",
            "Epoch 16/20\n",
            "391/391 [==============================] - 3s 7ms/step - loss: 0.3113 - acc: 0.8708 - val_loss: 0.3231 - val_acc: 0.8615\n",
            "Epoch 17/20\n",
            "391/391 [==============================] - 3s 7ms/step - loss: 0.3104 - acc: 0.8711 - val_loss: 0.3251 - val_acc: 0.8610\n",
            "Epoch 18/20\n",
            "391/391 [==============================] - 3s 7ms/step - loss: 0.3093 - acc: 0.8719 - val_loss: 0.3273 - val_acc: 0.8588\n",
            "Epoch 19/20\n",
            "391/391 [==============================] - 3s 7ms/step - loss: 0.3094 - acc: 0.8719 - val_loss: 0.3246 - val_acc: 0.8608\n",
            "Epoch 20/20\n",
            "391/391 [==============================] - 3s 8ms/step - loss: 0.3087 - acc: 0.8736 - val_loss: 0.3237 - val_acc: 0.8620\n"
          ],
          "name": "stdout"
        }
      ]
    },
    {
      "cell_type": "markdown",
      "metadata": {
        "id": "o_ZHnYI8ncpl"
      },
      "source": [
        "### Transfer learning w. pretrained embedding"
      ]
    },
    {
      "cell_type": "code",
      "metadata": {
        "id": "atVA7Hx6AFrd"
      },
      "source": [
        "ds_train = create_tfds(tokenizer, train_data, train_labels, padding=False)\n",
        "ds_val = create_tfds(tokenizer, val_data, val_labels, padding=False)"
      ],
      "execution_count": 13,
      "outputs": []
    },
    {
      "cell_type": "code",
      "metadata": {
        "id": "Smp7hTc4SR9R",
        "outputId": "e8d1d96c-7058-45eb-e4f6-b4203d4df581",
        "colab": {
          "base_uri": "https://localhost:8080/",
          "height": 255
        }
      },
      "source": [
        "embedding_url = \"https://tfhub.dev/google/nnlm-en-dim50-with-normalization/2\"\n",
        "\n",
        "model = Sequential()\n",
        "model.add(hub.KerasLayer(embedding_url, input_shape=(), dtype=tf.string, trainable=True))\n",
        "model.add(Dropout(0.5))\n",
        "model.add(Dense(1, activation=\"sigmoid\"))\n",
        "model.summary()"
      ],
      "execution_count": 14,
      "outputs": [
        {
          "output_type": "stream",
          "text": [
            "Model: \"sequential_1\"\n",
            "_________________________________________________________________\n",
            "Layer (type)                 Output Shape              Param #   \n",
            "=================================================================\n",
            "keras_layer (KerasLayer)     (None, 50)                48190600  \n",
            "_________________________________________________________________\n",
            "dropout_2 (Dropout)          (None, 50)                0         \n",
            "_________________________________________________________________\n",
            "dense_1 (Dense)              (None, 1)                 51        \n",
            "=================================================================\n",
            "Total params: 48,190,651\n",
            "Trainable params: 48,190,651\n",
            "Non-trainable params: 0\n",
            "_________________________________________________________________\n"
          ],
          "name": "stdout"
        }
      ]
    },
    {
      "cell_type": "code",
      "metadata": {
        "id": "7VZVufLvRqcW"
      },
      "source": [
        "model.compile(optimizer=\"rmsprop\", loss=\"binary_crossentropy\", metrics=[\"acc\"])"
      ],
      "execution_count": 15,
      "outputs": []
    },
    {
      "cell_type": "code",
      "metadata": {
        "id": "GbkeVW4tZmqr",
        "outputId": "09a1c764-8655-49e7-ef12-6740c9293933",
        "colab": {
          "base_uri": "https://localhost:8080/",
          "height": 323
        }
      },
      "source": [
        "callbacks = tf.keras.callbacks.EarlyStopping(monitor=\"val_loss\", patience=4)\n",
        "model.fit(ds_train, epochs=20, validation_data=ds_val, callbacks=[callbacks]);"
      ],
      "execution_count": 16,
      "outputs": [
        {
          "output_type": "stream",
          "text": [
            "Epoch 1/20\n",
            "391/391 [==============================] - 8s 20ms/step - loss: 0.5048 - acc: 0.7598 - val_loss: 0.3695 - val_acc: 0.8557\n",
            "Epoch 2/20\n",
            "391/391 [==============================] - 8s 20ms/step - loss: 0.3142 - acc: 0.8716 - val_loss: 0.2921 - val_acc: 0.8799\n",
            "Epoch 3/20\n",
            "391/391 [==============================] - 8s 19ms/step - loss: 0.2512 - acc: 0.8997 - val_loss: 0.2695 - val_acc: 0.8896\n",
            "Epoch 4/20\n",
            "391/391 [==============================] - 8s 21ms/step - loss: 0.2193 - acc: 0.9140 - val_loss: 0.2620 - val_acc: 0.8916\n",
            "Epoch 5/20\n",
            "391/391 [==============================] - 8s 22ms/step - loss: 0.1955 - acc: 0.9262 - val_loss: 0.2594 - val_acc: 0.8928\n",
            "Epoch 6/20\n",
            "391/391 [==============================] - 8s 21ms/step - loss: 0.1799 - acc: 0.9326 - val_loss: 0.2665 - val_acc: 0.8897\n",
            "Epoch 7/20\n",
            "391/391 [==============================] - 8s 22ms/step - loss: 0.1653 - acc: 0.9390 - val_loss: 0.2655 - val_acc: 0.8920\n",
            "Epoch 8/20\n",
            "391/391 [==============================] - 8s 21ms/step - loss: 0.1568 - acc: 0.9418 - val_loss: 0.2697 - val_acc: 0.8912\n",
            "Epoch 9/20\n",
            "391/391 [==============================] - 8s 21ms/step - loss: 0.1474 - acc: 0.9452 - val_loss: 0.2748 - val_acc: 0.8903\n"
          ],
          "name": "stdout"
        }
      ]
    },
    {
      "cell_type": "code",
      "metadata": {
        "id": "uzWkFnn8QG92",
        "outputId": "ae4f11a7-d2b0-4cc2-d252-aa3a801c104c",
        "colab": {
          "base_uri": "https://localhost:8080/",
          "height": 51
        }
      },
      "source": [
        "model.evaluate(ds_val)"
      ],
      "execution_count": 18,
      "outputs": [
        {
          "output_type": "stream",
          "text": [
            "391/391 [==============================] - 3s 7ms/step - loss: 0.2748 - acc: 0.8903\n"
          ],
          "name": "stdout"
        },
        {
          "output_type": "execute_result",
          "data": {
            "text/plain": [
              "[0.2747659683227539, 0.89028000831604]"
            ]
          },
          "metadata": {
            "tags": []
          },
          "execution_count": 18
        }
      ]
    }
  ]
}